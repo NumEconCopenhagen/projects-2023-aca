{
 "cells": [
  {
   "attachments": {},
   "cell_type": "markdown",
   "metadata": {},
   "source": [
    "# Gender norms in home production and labor market supply\n"
   ]
  },
  {
   "attachments": {},
   "cell_type": "markdown",
   "metadata": {},
   "source": [
    "Our model project is **motivated** by a model from the study “Are Marriage-Related Taxes and Social Security Benefits Holding Back Female Labor Supply?” by Borella et al. (forthcoming). We are solving and simulating a $T$-period labor supply model with two-earner couples, where $M$ symbols a male and $F$ a female. For simplicity we assume that couples cannot divorce nor save. Individuals can either choose to spend time on home production or working in the labor market. The goal is to examine the labor supply in home- and market production given different levels of human capital and based on the presense of children..........\n",
    "\n",
    "We build on code provided by Thomas Jørgensen (2023) for the Household of the Life Cycle course lecture 6. See github repository: \n",
    "https://github.com/ThomasHJorgensen/HouseholdBehaviorCourse/tree/main \n",
    "\n",
    "The **Bellman equation** and the recursive formulation of our simple model is: \n",
    "$$\n",
    "\\begin{align*}\n",
    "V_{t}(K_{M,t},K_{F,t}) & =\\max_{T_{M,t},T_{F,t}}U(Q_{t},{T_{M,t},T_{F,t}})+\\beta V_{t+1}(K_{M,t+1},K_{F,t+1})\\\\\n",
    "\\end{align*}\n",
    "$$\n",
    "\n",
    "**Total time** for individual $j$ can be spent on working at home $H_{t,j}$ or working in the market $L_{t,j}$\n",
    "$$\n",
    "T_{t}=L_{M,t}+H_{M,t}+L_{F,t}+H_{F,t}\n",
    "$$\n",
    "\n",
    "**Children** arrive stochastically:\n",
    "$$\n",
    "\\begin{align*}\n",
    "p(n_t)=&\\begin{cases}\n",
    "\\begin{array}{ll}\n",
    "p_n & \\text{if } n_{t}=0\\\\\n",
    "0 &  \\text{if } n_{t}=1.\n",
    "\\end{array}\\end{cases}\n",
    "\\end{align*}\n",
    "$$\n",
    "\n",
    "We simplify the model such that individuals can only have on child. \n",
    "\n",
    "Dis-utility of work, both in the household and on the labor market, depend on the presence of children:\n",
    "$$\n",
    "\\rho^{1}_{M,F}(n_t) = \\rho_{M,F} + \\rho_{M,F} \\cdot n_t \n",
    "$$\n",
    "\n",
    "There is also an extra amount of dis-utility from labor market work in the presence of children:\n",
    "$$\n",
    "\\rho^{2}_{M,F}(n_t) \n",
    "$$\n",
    "\n",
    "Households maximize **utility** based on the following utility function: \n",
    "$$\n",
    "U(Q_{t},T_{M,t},T_{F,t})=2\\frac{(Q_{t}/2)^{1-\\eta}}{1-\\eta}-[\\rho^{1}_{M}(n_{t})\\frac{T_{M,t}^{1+\\gamma}}{1+\\gamma}+\\rho^{1}_{F}(n_{t})\\frac{T_{F,t}^{1+\\gamma}}{1+\\gamma}] - [\\rho^{2}_{M}(n_{t})L_{M,t}^{\\kappa} + \\rho^{2}_{F}(n_{t})L_{F,t}^{\\kappa} ]\n",
    "$$\n",
    "\n",
    "**Total consumption** is split on the household level where $\\omega$ is the weight on market goods\n",
    "$$\n",
    "Q_{t}=C_{t}^{\\omega}H_{t}^{1-\\omega}\n",
    "$$\n",
    "**Consumption** of home productivity is determined by the elasticity of substitution $\\sigma$\n",
    "$$\n",
    "\\begin{align*}\n",
    "H_{t} & =\\begin{cases}\n",
    "\\min\\{H_{M,t},H_{F,t}\\} & \\text{if }\\sigma=0\\\\\n",
    "H_{M,t}^{1-\\alpha}H_{F,t}^{\\alpha} & \\text{if }\\sigma=1\\\\\n",
    "\\left((1-\\alpha)H_{M,t}^{\\frac{\\sigma-1}{\\sigma}}+\\alpha H_{F,t}^{\\frac{\\sigma-1}{\\sigma}}\\right)^{\\frac{\\sigma}{\\sigma-1}} & \\text{else}\n",
    "\\end{cases}\\\\\n",
    "\\end{align*}\n",
    "$$\n",
    "Where the relative productivity level in home production for females relative to men is given by ${\\frac{\\alpha}{1-\\alpha}}$\n",
    "\n",
    "**Consumption** of market goods are determined by\n",
    "$$\n",
    "\\begin{align*}\n",
    "C_{t} & = w_{M,t}L_{M,t} + w_{F,t}L_{F,t}\n",
    "\\end{align*}\n",
    "$$\n",
    "\n",
    "Where the **wages** are endogenous and increase with amount of human capital: \n",
    "$$\n",
    "\\begin{align*}\n",
    "\\log w_{j,t} & =\\kappa_{j,0}+\\kappa_{j,1}K_{j,t},\\;j\\in\\{M,F\\}\\\\\n",
    "\\end{align*}\n",
    "$$\n",
    "\n",
    "**Human capital** is also endogenous and increases with labor supply: \n",
    "$$\n",
    "\\begin{align*}\n",
    "K_{j,t+1} & =(1-\\delta_{1})K_{j,t}+L_{j,t},\\;j\\in\\{M,F\\}\\\\\n",
    "\\end{align*}\n",
    "$$\n",
    "\n",
    "Where $\\delta_{1}$ is the depreciation rate in the level of human capital. \n",
    "\n",
    "\n",
    "**Terminal period ($T$):** There are no bequests such that all market consumption is spent in last period\n",
    "$$\n",
    "V_{T}(K_{M,T},K_{F,T})  =\\max_{T_{M,T},T_{F,T}} U(Q_{T},{T_{M,T},T_{F,T}})\n",
    "$$\n"
   ]
  },
  {
   "attachments": {},
   "cell_type": "markdown",
   "metadata": {},
   "source": [
    "## 2. Optimization by interpolation\n",
    "We solve this dynamic model numerically by **2-dimensional interpolation** from \"consav.linear_interp\" from **scipy**. \n",
    "\n",
    "The overall concept of linear interpolation is that we have a point, x, that are not in our known grid vector and we therefore do not have any value for. In order to obtain the value for x, we interpolate via alreade known points in our grid. \n",
    " \n",
    "At first, we find `t` such that x is in between two known grid values: \n",
    "$$\n",
    "K_{t} \\leq x < K_{t+1}\n",
    "$$\n",
    "\n",
    "Once we know `t`, we compute the interpolated value by the value function and the grid vector: \n",
    "\n",
    "$$\n",
    "y =  V_{t} + \\frac{V_{t+1}-V_{t}}{K_{t+1}-K_{i}}(x-K_{t})\n",
    "$$\n"
   ]
  },
  {
   "attachments": {},
   "cell_type": "markdown",
   "metadata": {},
   "source": [
    "The following is an example of how a one dimensional interpolation works based on a given human capital grid $(K)$, some known output values of the value function ($V$) and some unknown points ($x$) we need to interpolate: "
   ]
  },
  {
   "cell_type": "code",
   "execution_count": null,
   "metadata": {},
   "outputs": [],
   "source": [
    "%load_ext autoreload\n",
    "%autoreload 2\n",
    "\n",
    "import numpy as np\n",
    "import numba as nb\n",
    "\n",
    "import matplotlib.pyplot as plt\n",
    "from mpl_toolkits import mplot3d"
   ]
  },
  {
   "cell_type": "code",
   "execution_count": null,
   "metadata": {},
   "outputs": [],
   "source": [
    "def linear_interpolate(K,V,x):\n",
    "    \"\"\" linear interpolation (and extrapolation)\n",
    "    \n",
    "    Args:\n",
    "        K (np.ndarray): human capital, known points\n",
    "        V (np.ndarray): value function, known values\n",
    "        x (float): point to be interpolated\n",
    "        \n",
    "    Returns:\n",
    "        y (float): interpolated value\n",
    "    \n",
    "    \"\"\"\n",
    "    \n",
    "    assert len(K) == len(V)\n",
    "    n = len(K)\n",
    "    \n",
    "    # a. find time in known points\n",
    "    if x < K[1]: # extrapolation below\n",
    "        t = 0\n",
    "    \n",
    "    elif x > K[-2]: # extrapolation above\n",
    "        t = n-2\n",
    "\n",
    "    else: # the true interpolation\n",
    "        # search\n",
    "        t = 0 \n",
    "        while x >= K[t+1] and t < n-1:\n",
    "            t += 1\n",
    "        \n",
    "        # check\n",
    "        assert x >= K[t]\n",
    "        assert x < K[t+1]\n",
    "\n",
    "    # b. interpolate\n",
    "    diff_K = K[t+1]-K[t]\n",
    "    diff_V = V[t+1]-V[t]\n",
    "    slope = diff_V/diff_K\n",
    "    y = V[t] + slope*(x-K[t])\n",
    "    \n",
    "    return y\n",
    "\n",
    "\n",
    "f = lambda x: (x)**0.5\n",
    "\n",
    "K = np.linspace(0,10,10)\n",
    "V = f(K)\n",
    "\n",
    "grid = np.linspace(0,10,500) \n",
    "V_true = f(grid)\n",
    "\n",
    "\n",
    "# interpolate\n",
    "X = [2,4,7,9]\n",
    "V_approx = []\n",
    "for x in X:\n",
    "    true = f(x)\n",
    "    y = linear_interpolate(K,V,x)\n",
    "    V_approx.append(y)\n",
    "    print(f'x = {x:4.1f} -> true = {true:6.1f}, interpolated = {y:6.1f}')\n",
    "\n",
    "# plot\n",
    "fig = plt.figure()\n",
    "ax = fig.add_subplot(1,1,1)\n",
    "ax.plot(K,V,'v',label='known points', color= 'purple')\n",
    "ax.plot(grid,V_true,'--',lw=1,label='true function', color= 'red')\n",
    "ax.plot(X,V_approx,'s',lw=1,label='interpolated', color= 'black')\n",
    "ax.legend(loc='lower right',facecolor='white',frameon=True);\n"
   ]
  },
  {
   "attachments": {},
   "cell_type": "markdown",
   "metadata": {},
   "source": [
    "## 3. Interpolation in our model\n",
    "Our goal is to solve the value function for each period and the associated optimal hours worked in home production and labor market for a given human capital level $K$. As we do have a dynamic, intertemporal model, the interpolation is a bit more complex than the above example with a one dimensionel interpolation. \n",
    "\n",
    "In order to solve the model for all periods, we **first** solve the value function for the terminal period for a given human kapital $V_{T}(K_{1,T},K_{2,T})$. **Next**, we construct the interpolator of the value function by \"interp_2d()\" that interpolates a 2-dimensional function using linear interpolation on a rectangular human capital grid. **Finally**, we use the interpolator to solve the model by backwards induction for each period and find the optimal hours worked in home production and in labor market for some given parameter values. "
   ]
  },
  {
   "attachments": {},
   "cell_type": "markdown",
   "metadata": {},
   "source": [
    "## 4. Numerical solution"
   ]
  },
  {
   "cell_type": "code",
   "execution_count": null,
   "metadata": {},
   "outputs": [],
   "source": [
    "# loading local model file and initializing model class\n",
    "from modelproject import DynHouseholdLaborModelClass\n",
    "model = DynHouseholdLaborModelClass()\n",
    "\n",
    "par = model.par\n",
    "sol = model.sol\n",
    "sim = model.sim\n"
   ]
  },
  {
   "cell_type": "code",
   "execution_count": null,
   "metadata": {},
   "outputs": [],
   "source": [
    "model.solve()"
   ]
  },
  {
   "attachments": {},
   "cell_type": "markdown",
   "metadata": {},
   "source": [
    "### Simulation\n",
    "\n",
    "Now that we have a solution for all combinations of human capital grid points, we simulate `simN` synthetic individuals for `simT` periods. We do this by initializing all state-variables in the first period and simulate forwards. \n",
    "\n",
    "The state variables in our model include children and initial human capital of both member.  <br>\n",
    "\n",
    "We then loop forward using the solution:\n",
    "$$\n",
    "\\begin{align*}\n",
    "L_{M,i,t} &= L_{M,t}^{\\star}(K_{M,i,t},K_{F,i,t}) \\\\\n",
    "H_{M,i,t} &= H_{M,t}^{\\star}(K_{M,i,t},K_{F,i,t}) \\\\\n",
    "L_{F,i,t} &= L_{F,t}^{\\star}(K_{M,i,t},k_{F,i,t}) \\\\\n",
    "H_{F,i,t} &= H_{F,t}^{\\star}(K_{M,i,t},K_{F,i,t}) \\\\\n",
    "K_{M,i,t+1} &= (1-\\delta)K_{M,i,t} + L_{M,i,t}\\\\\n",
    "K_{F,i,t+1} &= (1-\\delta)K_{F,i,t} + L_{F,i,t}\\\\\n",
    "n_{i,t+1} &= n_{i,t} + b_{i,t}\\\\\n",
    "\\end{align*}\n",
    "$$\n",
    "\n"
   ]
  },
  {
   "attachments": {},
   "cell_type": "markdown",
   "metadata": {},
   "source": [
    "### 4.1: Baseline model \n",
    "In the baseline model, we initialize men and women with no human capital `sim.k1_init=np.zeros(par.simN)` and  `sim.k2_init=np.zeros(par.simN)`. $\\alpha=0.5$ such that male and female agents are equally productive at housework. $\\sigma=1$ such that production of male and female housework only depends on their relative productivity - namely captured by $\\alpha$. In addition, men and women get the same amount of disutility from when working after having children."
   ]
  },
  {
   "cell_type": "code",
   "execution_count": null,
   "metadata": {},
   "outputs": [],
   "source": [
    "model1 = model.copy()"
   ]
  },
  {
   "cell_type": "code",
   "execution_count": null,
   "metadata": {},
   "outputs": [],
   "source": [
    "model1.simulate()"
   ]
  },
  {
   "cell_type": "code",
   "execution_count": null,
   "metadata": {},
   "outputs": [],
   "source": [
    "# Male to female ratio of labor hours and home production\n",
    "rel_l = np.round(np.mean(getattr(model1.sim,'l2'),axis=0) / np.mean(getattr(model1.sim,'l1'),axis=0), 1)\n",
    "rel_h = np.round(np.mean(getattr(model1.sim,'h2'),axis=0) / np.mean(getattr(model1.sim,'h1'),axis=0), 1)\n",
    "rel_in = np.round(np.mean(getattr(model1.sim,'income2'),axis=0) / np.mean(getattr(model1.sim,'income1'),axis=0), 1)\n",
    "\n",
    "# Total labor hours and home production\n",
    "total_l = np.mean(getattr(model1.sim,'l1') + getattr(model1.sim,'l2'),axis=0)\n",
    "total_h = np.mean(getattr(model1.sim,'h1') + getattr(model1.sim,'h2'),axis=0)"
   ]
  },
  {
   "cell_type": "code",
   "execution_count": null,
   "metadata": {},
   "outputs": [],
   "source": [
    "import matplotlib.pyplot as plt\n",
    "\n",
    "# create figure with subplots\n",
    "fig, axs = plt.subplots(nrows=2, ncols=3, figsize=(12, 8))\n",
    "\n",
    "# plot first graph on first subplot\n",
    "axs[0, 0].scatter(range(par.simT), rel_l, label='Simulated')\n",
    "axs[0, 0].set(xlabel='period, t', ylabel='Relative labor market work (female/male)',\n",
    "              xticks=range(par.simT))\n",
    "\n",
    "# plot second graph on second subplot\n",
    "axs[0, 1].scatter(range(par.simT), rel_h, label='Simulated')\n",
    "axs[0, 1].set(xlabel='period, t', ylabel='Relative home production (female/male)',\n",
    "              xticks=range(par.simT))\n",
    "\n",
    "# plot third graph on third subplot\n",
    "axs[0, 2].scatter(range(par.simT), rel_in, label='Simulated')\n",
    "axs[0, 2].set(xlabel='period, t', ylabel='Relative income (female/male)',\n",
    "              xticks=range(par.simT))\n",
    "\n",
    "# plot fourth graph on fourth subplot\n",
    "axs[1, 0].scatter(range(par.simT), total_l, label='Simulated')\n",
    "axs[1, 0].set(xlabel='period, t', ylabel='Total labor market hours',\n",
    "              xticks=range(par.simT))\n",
    "\n",
    "# plot fifth graph on fifth subplot\n",
    "axs[1, 1].scatter(range(par.simT), total_h, label='Simulated')\n",
    "axs[1, 1].set(xlabel='period, t', ylabel='Total home production',\n",
    "              xticks=range(par.simT))\n",
    "\n",
    "# remove sixth subplot\n",
    "fig.delaxes(axs[1, 2])\n",
    "\n",
    "# adjust layout and spacing\n",
    "fig.tight_layout()\n",
    "\n",
    "# display the figure\n",
    "plt.show()\n"
   ]
  },
  {
   "attachments": {},
   "cell_type": "markdown",
   "metadata": {},
   "source": [
    "When men and women are initiated with the same level of human capital and have the same preferences for consumption and house production, they work an equal amount of hours in the labor market and in the home production. Their incomes are therefore also the same. House production starts to increase after period 2, which represents the extra amount of disutility the household get from working in the labor market after having children. "
   ]
  },
  {
   "cell_type": "code",
   "execution_count": null,
   "metadata": {},
   "outputs": [],
   "source": [
    "# birth\n",
    "birth = np.zeros(model1.sim.n.shape,dtype=np.int_)\n",
    "birth[:,1:] = (model1.sim.n[:,1:] - model1.sim.n[:,:-1]) > 0\n",
    "fig, ax = plt.subplots(figsize=(6, 4))\n",
    "ax.scatter(range(model1.par.simT),np.mean(birth,axis=0))\n",
    "ax.set(xlabel='period, t',ylabel=f'birth freq.',xticks=range(model1.par.simT));"
   ]
  },
  {
   "attachments": {},
   "cell_type": "markdown",
   "metadata": {},
   "source": [
    "The above figure is based on a probability of 10 pct. that a child arrives each period and that agents are only having one child. The figure above shows average number of children pr. period. Agents cannot have any children before period 1. Afterwards, average number of births per period decrease - namely because they can only have one child over the life cycle. "
   ]
  },
  {
   "cell_type": "code",
   "execution_count": null,
   "metadata": {},
   "outputs": [],
   "source": [
    "# time since birth\n",
    "periods = np.tile([t for t in range(model1.par.simT)],(model.par.simN,1))\n",
    "time_of_birth = np.max(periods * birth, axis=1)\n",
    "\n",
    "I = time_of_birth>0\n",
    "time_of_birth[~I] = -1000 # never as a child\n",
    "time_of_birth = np.transpose(np.tile(time_of_birth , (model1.par.simT,1)))\n",
    "\n",
    "time_since_birth = periods - time_of_birth"
   ]
  },
  {
   "cell_type": "code",
   "execution_count": null,
   "metadata": {},
   "outputs": [],
   "source": [
    "# calculate average outcome across time since birth\n",
    "min_time = -8\n",
    "max_time = 8\n",
    "event_grid = np.arange(min_time,max_time+1)"
   ]
  },
  {
   "cell_type": "code",
   "execution_count": null,
   "metadata": {},
   "outputs": [],
   "source": [
    "event_hours_l_1 = np.nan + np.zeros(event_grid.size)\n",
    "for t,time in enumerate(event_grid):\n",
    "    event_hours_l_1[t] = np.mean(model1.sim.l1[time_since_birth==time])\n",
    "\n",
    "event_hours_l_2 = np.nan + np.zeros(event_grid.size)\n",
    "for t,time in enumerate(event_grid):\n",
    "    event_hours_l_2[t] = np.mean(model1.sim.l2[time_since_birth==time])\n",
    "\n",
    "# relative to period before birth\n",
    "event_hours_rel_l_1 = event_hours_l_1 - event_hours_l_1[event_grid==-1]\n",
    "event_hours_rel_l_2 = event_hours_l_2 - event_hours_l_2[event_grid==-1]"
   ]
  },
  {
   "cell_type": "code",
   "execution_count": null,
   "metadata": {},
   "outputs": [],
   "source": [
    "#Plotting figures for hours worked in market relative periods before birht\n",
    "fig, axs = plt.subplots(1, 2, figsize=(12, 4))\n",
    "\n",
    "axs[0].scatter(event_grid, event_hours_rel_l_1)\n",
    "axs[0].hlines(y=0, xmin=event_grid[0], xmax=event_grid[-1], color='gray')\n",
    "axs[0].vlines(x=-0.5, ymin=np.nanmin(event_hours_rel_l_1), ymax=np.nanmax(event_hours_rel_l_1), color='red')\n",
    "axs[0].set(xlabel='Time since birth', ylabel=f'Male labor hours worked (rel. to -1)', xticks=event_grid)\n",
    "\n",
    "axs[1].scatter(event_grid, event_hours_rel_l_2)\n",
    "axs[1].hlines(y=0, xmin=event_grid[0], xmax=event_grid[-1], color='gray')\n",
    "axs[1].vlines(x=-0.5, ymin=np.nanmin(event_hours_rel_l_2), ymax=np.nanmax(event_hours_rel_l_2), color='red')\n",
    "axs[1].set(xlabel='Time since birth', ylabel=f'Female labor hours worked (rel. to -1)', xticks=event_grid)\n",
    "\n",
    "plt.tight_layout()\n"
   ]
  },
  {
   "cell_type": "code",
   "execution_count": null,
   "metadata": {},
   "outputs": [],
   "source": [
    "event_hours_h_1 = np.nan + np.zeros(event_grid.size)\n",
    "for t,time in enumerate(event_grid):\n",
    "    event_hours_h_1[t] = np.mean(model1.sim.h1[time_since_birth==time])\n",
    "\n",
    "event_hours_h_2 = np.nan + np.zeros(event_grid.size)\n",
    "for t,time in enumerate(event_grid):\n",
    "    event_hours_h_2[t] = np.mean(model1.sim.h2[time_since_birth==time])\n",
    "\n",
    "# relative to period before birth\n",
    "event_hours_rel_h_1 = event_hours_h_1 - event_hours_h_1[event_grid==-1]\n",
    "event_hours_rel_h_2 = event_hours_h_2 - event_hours_h_2[event_grid==-1]"
   ]
  },
  {
   "cell_type": "code",
   "execution_count": null,
   "metadata": {},
   "outputs": [],
   "source": [
    "# Plotting figures for home production for relative periods before birth \n",
    "fig, axs = plt.subplots(1, 2, figsize=(12, 4))\n",
    "\n",
    "axs[0].scatter(event_grid, event_hours_rel_h_1)\n",
    "axs[0].hlines(y=0, xmin=event_grid[0], xmax=event_grid[-1], color='gray')\n",
    "axs[0].vlines(x=-0.5, ymin=np.nanmin(event_hours_rel_h_1), ymax=np.nanmax(event_hours_rel_h_1), color='red')\n",
    "axs[0].set(xlabel='Time since birth', ylabel=f'Male home production (rel. to -1)', xticks=event_grid)\n",
    "\n",
    "axs[1].scatter(event_grid, event_hours_rel_h_2)\n",
    "axs[1].hlines(y=0, xmin=event_grid[0], xmax=event_grid[-1], color='gray')\n",
    "axs[1].vlines(x=-0.5, ymin=np.nanmin(event_hours_rel_h_2), ymax=np.nanmax(event_hours_rel_h_2), color='red')\n",
    "axs[1].set(xlabel='Time since birth', ylabel=f'Female home production (rel. to -1)', xticks=event_grid)\n",
    "\n",
    "plt.tight_layout()\n"
   ]
  },
  {
   "attachments": {},
   "cell_type": "markdown",
   "metadata": {},
   "source": [
    "Time leading up to a birth, both men and women are decreasing their labor supply. This is because the income effect is dominating - because wages are endogenous and agents earn more income each period because they accumulate human capital. This in turn induces them to reduce their labor supply through the income effect. After having a child, both men and women decrease their labor supply an equal amount. This is because they get equal amount of extra disutility from working when having children. "
   ]
  },
  {
   "attachments": {},
   "cell_type": "markdown",
   "metadata": {},
   "source": [
    "In the time up to a birth, both men and women are increasing their hours spent in the home and thereby home production. The reason is that as wages go up, agents can work less and still satisfy the same amount of consumption and at the same time achieve more utility from home production. When children arrive, both men and women increase home production."
   ]
  },
  {
   "cell_type": "code",
   "execution_count": null,
   "metadata": {},
   "outputs": [],
   "source": [
    "event_i_1 = np.nan + np.zeros(event_grid.size)\n",
    "for t, time in enumerate(event_grid):\n",
    "    event_i_1[t] = np.mean(model1.sim.income1[time_since_birth==time])\n",
    "\n",
    "event_i_2 = np.nan + np.zeros(event_grid.size)\n",
    "for t, time in enumerate(event_grid):\n",
    "    event_i_2[t] = np.mean(model1.sim.income2[time_since_birth==time])\n",
    "\n",
    "# relative to period before birth\n",
    "event_rel_i_1 = event_i_1 - event_i_1[event_grid==-1]\n",
    "event_rel_i_2 = event_i_2 - event_i_2[event_grid==-1]"
   ]
  },
  {
   "cell_type": "code",
   "execution_count": null,
   "metadata": {},
   "outputs": [],
   "source": [
    "fig, (ax1, ax2) = plt.subplots(1, 2, figsize=(10, 4))\n",
    "\n",
    "# plot income relative to period before birth for male and female\n",
    "ax1.scatter(event_grid, event_rel_i_1)\n",
    "ax1.hlines(y=0, xmin=event_grid[0], xmax=event_grid[-1], color='gray')\n",
    "ax1.vlines(x=-0.5, ymin=np.nanmin(event_rel_i_1), ymax=np.nanmax(event_rel_i_1), color='red')\n",
    "ax1.set(xlabel='Time since birth', ylabel=f'Male income (rel. to -1)', xticks=event_grid)\n",
    "\n",
    "ax2.scatter(event_grid, event_rel_i_2)\n",
    "ax2.hlines(y=0, xmin=event_grid[0], xmax=event_grid[-1], color='gray')\n",
    "ax2.vlines(x=-0.5, ymin=np.nanmin(event_rel_i_2), ymax=np.nanmax(event_rel_i_2), color='red')\n",
    "ax2.set(xlabel='Time since birth', ylabel=f'Female income (rel. to -1)', xticks=event_grid)\n",
    "\n",
    "plt.tight_layout()\n",
    "plt.show()\n"
   ]
  },
  {
   "attachments": {},
   "cell_type": "markdown",
   "metadata": {},
   "source": [
    "All of the above mechanisms results in lower income for both men and women around the time of birth of their child. "
   ]
  },
  {
   "attachments": {},
   "cell_type": "markdown",
   "metadata": {},
   "source": [
    "### 4.2: Different levels of initial human capital "
   ]
  },
  {
   "cell_type": "code",
   "execution_count": null,
   "metadata": {},
   "outputs": [],
   "source": [
    "model2 = model.copy()"
   ]
  },
  {
   "cell_type": "code",
   "execution_count": null,
   "metadata": {},
   "outputs": [],
   "source": [
    "# Initializing the male with 6 human capital\n",
    "model2.sim.k1_init = 8*np.ones(par.simN)\n",
    "model2.simulate()"
   ]
  },
  {
   "cell_type": "code",
   "execution_count": null,
   "metadata": {},
   "outputs": [],
   "source": [
    "# Male to female ratio of labor hours and home production\n",
    "rel_l = np.round(np.mean(getattr(model2.sim,'l2'),axis=0) / np.mean(getattr(model2.sim,'l1'),axis=0), 1)\n",
    "rel_h = np.round(np.mean(getattr(model2.sim,'h2'),axis=0) / np.mean(getattr(model2.sim,'h1'),axis=0), 1)\n",
    "rel_in = np.round(np.mean(getattr(model2.sim,'income2'),axis=0) / np.mean(getattr(model2.sim,'income1'),axis=0), 1)"
   ]
  },
  {
   "cell_type": "code",
   "execution_count": null,
   "metadata": {},
   "outputs": [],
   "source": [
    "fig, axs = plt.subplots(1, 3, figsize=(12, 4))\n",
    "\n",
    "axs[0].scatter(range(par.simT),rel_l,label='Simulated')\n",
    "axs[0].set(xlabel='period, t',ylabel='Relative labor market work (femle/male)',xticks=range(par.simT))\n",
    "\n",
    "axs[1].scatter(range(par.simT),rel_h,label='Simulated')\n",
    "axs[1].set(xlabel='period, t',ylabel='Relative home production (femle/male)',xticks=range(par.simT))\n",
    "\n",
    "axs[2].scatter(range(par.simT),rel_in,label='Simulated')\n",
    "axs[2].set(xlabel='period, t',ylabel='Relative income (femle/male)',xticks=range(par.simT))\n",
    "\n",
    "fig.tight_layout()\n"
   ]
  },
  {
   "attachments": {},
   "cell_type": "markdown",
   "metadata": {},
   "source": [
    "When male agent is intialized with a substantial amount of human capital, they will dedicate all of their time for labor market work whereas the female agents will dedicate all of their time to home production. In such a model, the child penalty (costs of having children) is non-relevant as the women is already away from the labor market before having children. "
   ]
  },
  {
   "attachments": {},
   "cell_type": "markdown",
   "metadata": {},
   "source": [
    "### 4.3: Incorperating unequal norms\n",
    "\n",
    "We try to mirror the evidence of the child penalties from Kleven et. al (2019) by incorperating unequal gender norms in household decisions in regards to children. \n",
    "\n",
    "We do this by defining a parameter par.norms, which is set to 1 in our baseline model. In this new model, we set it to 0. \n",
    "\n",
    "When par.norms = 0, men do not get any extra disutility from working after having children. Mathematically, this implies:\n",
    "\n",
    "Dis-utility of work depend on the presence of children:\n",
    "$$\n",
    "\\rho_{M}(n_t) = \\rho_{M}\n",
    "$$\n",
    "\n",
    "We also add a depreciation rate in women's return to human capital par.delta2==0.35. This is based on an assumption that when females substitute towards home production in stead of labor market work, her return to labor market work will generally decrease because - namely because she focuses more on child care. Mathematically, this implies: \n",
    "\n",
    "$$\n",
    "\\begin{align*}\n",
    "\\log w_{F} & =\\kappa_{F,0}+\\kappa_{F,1}(1-\\delta_{2})K_{F,t}\\\\\n",
    "\\end{align*}\n",
    "$$\n",
    "\n",
    "Where $\\delta_{2}$ is the deprectiation rate in the return to human capital for the female agent. "
   ]
  },
  {
   "cell_type": "code",
   "execution_count": null,
   "metadata": {},
   "outputs": [],
   "source": [
    "model3 = model.copy(par={'norms': 0.})"
   ]
  },
  {
   "cell_type": "code",
   "execution_count": null,
   "metadata": {},
   "outputs": [],
   "source": [
    "model3.solve()"
   ]
  },
  {
   "cell_type": "code",
   "execution_count": null,
   "metadata": {},
   "outputs": [],
   "source": [
    "model3.simulate()"
   ]
  },
  {
   "cell_type": "code",
   "execution_count": null,
   "metadata": {},
   "outputs": [],
   "source": [
    "# Male to female ratio of labor hours and home production\n",
    "rel_l = np.round(np.mean(getattr(model3.sim,'l2'),axis=0) / np.mean(getattr(model3.sim,'l1'),axis=0), 3)\n",
    "rel_h = np.round(np.mean(getattr(model3.sim,'h2'),axis=0) / np.mean(getattr(model3.sim,'h1'),axis=0), 3)\n",
    "rel_in = np.round(np.mean(getattr(model3.sim,'income2'),axis=0) / np.mean(getattr(model3.sim,'income1'),axis=0), 3)"
   ]
  },
  {
   "cell_type": "code",
   "execution_count": null,
   "metadata": {},
   "outputs": [],
   "source": [
    "# First row of three figures\n",
    "fig, axs = plt.subplots(ncols=3, figsize=(15, 5))\n",
    "axs[0].scatter(range(par.simT),rel_l,label='Simulated')\n",
    "axs[0].set(xlabel='period, t',ylabel='Relative labor market work (female/male)',xticks=range(par.simT))\n",
    "\n",
    "axs[1].scatter(range(par.simT),rel_h,label='Simulated')\n",
    "axs[1].set(xlabel='period, t',ylabel='Relative home production (female/male)',xticks=range(par.simT))\n",
    "\n",
    "axs[2].scatter(range(par.simT),rel_in,label='Simulated')\n",
    "axs[2].set(xlabel='period, t',ylabel='Relative income (female/male)',xticks=range(par.simT))\n",
    "\n",
    "# Second row of three figures\n",
    "fig, axs = plt.subplots(ncols=3, figsize=(15, 5))\n",
    "axs[0].scatter(range(par.simT),total_l,label='Simulated')\n",
    "axs[0].set(xlabel='period, t',ylabel='Total labor market hours',xticks=range(par.simT))\n",
    "\n",
    "axs[1].scatter(range(par.simT),total_h,label='Simulated')\n",
    "axs[1].set(xlabel='period, t',ylabel='Total home production',xticks=range(par.simT))\n",
    "\n",
    "# Leave the middle axis empty for spacing purposes\n",
    "axs[2].axis('off')\n",
    "\n",
    "plt.show()\n"
   ]
  },
  {
   "attachments": {},
   "cell_type": "markdown",
   "metadata": {},
   "source": [
    "Females reduce their labor market supply over the life cycle relative to their husbands and increase home production in the new model. This leads to a fall in relative income. The effects are entirely driven by the norm effects described above as initial human capital and household productivity are the same."
   ]
  },
  {
   "cell_type": "code",
   "execution_count": null,
   "metadata": {},
   "outputs": [],
   "source": [
    "# time since birth\n",
    "periods = np.tile([t for t in range(model3.par.simT)],(model.par.simN,1))\n",
    "time_of_birth = np.max(periods * birth, axis=1)\n",
    "\n",
    "I = time_of_birth>0\n",
    "time_of_birth[~I] = -1000 # never as a child\n",
    "time_of_birth = np.transpose(np.tile(time_of_birth , (model3.par.simT,1)))\n",
    "\n",
    "time_since_birth = periods - time_of_birth"
   ]
  },
  {
   "cell_type": "code",
   "execution_count": null,
   "metadata": {},
   "outputs": [],
   "source": [
    "# calculate average outcome across time since birth\n",
    "min_time = -8\n",
    "max_time = 8\n",
    "event_grid = np.arange(min_time,max_time+1)"
   ]
  },
  {
   "cell_type": "code",
   "execution_count": null,
   "metadata": {},
   "outputs": [],
   "source": [
    "event_hours_l_1_n = np.nan + np.zeros(event_grid.size)\n",
    "for t,time in enumerate(event_grid):\n",
    "    event_hours_l_1_n[t] = np.mean(model3.sim.l1[time_since_birth==time])\n",
    "\n",
    "event_hours_l_2_n = np.nan + np.zeros(event_grid.size)\n",
    "for t,time in enumerate(event_grid):\n",
    "    event_hours_l_2_n[t] = np.mean(model3.sim.l2[time_since_birth==time])\n",
    "\n",
    "# relative to period before birth\n",
    "event_hours_rel_l_1_n = event_hours_l_1_n - event_hours_l_1_n[event_grid==-1]\n",
    "event_hours_rel_l_2_n = event_hours_l_2_n - event_hours_l_2_n[event_grid==-1]"
   ]
  },
  {
   "cell_type": "code",
   "execution_count": null,
   "metadata": {},
   "outputs": [],
   "source": [
    "fig, (ax1, ax2) = plt.subplots(1, 2, figsize=(10, 4))\n",
    "\n",
    "ax1.scatter(event_grid, event_hours_rel_l_1_n)\n",
    "ax1.hlines(y=0, xmin=event_grid[0], xmax=event_grid[-1], color='gray')\n",
    "ax1.vlines(x=-0.5, ymin=np.nanmin(event_hours_rel_l_1_n), ymax=np.nanmax(event_hours_rel_l_1_n), color='red')\n",
    "ax1.set(xlabel='Time since birth', ylabel=f'Male labor hours worked (rel. to -1)', xticks=event_grid)\n",
    "\n",
    "ax2.scatter(event_grid, event_hours_rel_l_2_n)\n",
    "ax2.hlines(y=0, xmin=event_grid[0], xmax=event_grid[-1], color='gray')\n",
    "ax2.vlines(x=-0.5, ymin=np.nanmin(event_hours_rel_l_2_n), ymax=np.nanmax(event_hours_rel_l_2_n), color='red')\n",
    "ax2.set(xlabel='Time since birth', ylabel=f'Female labor hours worked (rel. to -1)', xticks=event_grid)\n",
    "\n",
    "fig.tight_layout()\n",
    "plt.show()\n"
   ]
  },
  {
   "attachments": {},
   "cell_type": "markdown",
   "metadata": {},
   "source": [
    "In the time up to having a child, both men and women reduce their labor market supply due to the income effect. At the time of birth, there is a large drop in female labor supply which continues to decrease through the life cycle. Men also reduce their labor supply but increase it again in all periods after birth. "
   ]
  },
  {
   "cell_type": "code",
   "execution_count": null,
   "metadata": {},
   "outputs": [],
   "source": [
    "event_hours_h_1_n = np.nan + np.zeros(event_grid.size)\n",
    "for t,time in enumerate(event_grid):\n",
    "    event_hours_h_1_n[t] = np.mean(model3.sim.h1[time_since_birth==time])\n",
    "\n",
    "event_hours_h_2_n = np.nan + np.zeros(event_grid.size)\n",
    "for t,time in enumerate(event_grid):\n",
    "    event_hours_h_2_n[t] = np.mean(model3.sim.h2[time_since_birth==time])\n",
    "\n",
    "# relative to period before birth\n",
    "event_hours_rel_h_1_n = event_hours_h_1_n - event_hours_h_1_n[event_grid==-1]\n",
    "event_hours_rel_h_2_n = event_hours_h_2_n - event_hours_h_2_n[event_grid==-1]"
   ]
  },
  {
   "cell_type": "code",
   "execution_count": null,
   "metadata": {},
   "outputs": [],
   "source": [
    "fig, (ax1, ax2) = plt.subplots(1, 2, figsize=(10,4))\n",
    "\n",
    "ax1.scatter(event_grid,event_hours_rel_h_1_n)\n",
    "ax1.hlines(y=0,xmin=event_grid[0],xmax=event_grid[-1],color='gray')\n",
    "ax1.vlines(x=-0.5,ymin=np.nanmin(event_hours_rel_h_1_n),ymax=np.nanmax(event_hours_rel_h_1_n),color='red')\n",
    "ax1.set(xlabel='Time since birth',ylabel=f'Male home production (rel. to -1)',xticks=event_grid);\n",
    "\n",
    "ax2.scatter(event_grid,event_hours_rel_h_2_n)\n",
    "ax2.hlines(y=0,xmin=event_grid[0],xmax=event_grid[-1],color='gray')\n",
    "ax2.vlines(x=-0.5,ymin=np.nanmin(event_hours_rel_h_2_n),ymax=np.nanmax(event_hours_rel_h_2_n),color='red')\n",
    "ax2.set(xlabel='Time since birth',ylabel=f'Female home production (rel. to -1)',xticks=event_grid);\n",
    "\n",
    "plt.tight_layout()\n"
   ]
  },
  {
   "attachments": {},
   "cell_type": "markdown",
   "metadata": {},
   "source": [
    "After having children, females' return to human capital decrease, making it more productive for her to work in the home. As  the home production function is cobb dogulas $H=H_{M}^{1-\\alpha}H_{F}^{\\alpha}$, there is increasing returns to male home production - i.e. the FOC is $\\frac{\\partial H}{\\partial H_{F}}=\\alpha(\\frac{H_{M}}{H_{F}})^{1-\\alpha}$. Therefore, as female home production goes up, the male agent can produce more in the home for fewer hours compared to what he can bring home of consumption from working in the labor market. This explains why male labor hours $L_{M}$ decreases and $H_{M}$ increases around child birth.\n",
    "\n",
    "However, in the following periods after child birth, the male agent will again increase his labor supply and decrease home production. Oppositely, females reduce their labor supply in the market and increase hours spent working in the home. This is partly due to the heterogenous utility effects that make women worse off from working after having children compared to men. Partly due to women becoming less productive in the labor market - namely due to these differences in preferences that we interpret as norms. After having children, the man thus becomes responsible for providing the household with consumption and the women becomes responsible for household production, including child care. "
   ]
  },
  {
   "attachments": {},
   "cell_type": "markdown",
   "metadata": {},
   "source": [
    "# Conclusion"
   ]
  },
  {
   "attachments": {},
   "cell_type": "markdown",
   "metadata": {},
   "source": [
    "-----------"
   ]
  }
 ],
 "metadata": {
  "kernelspec": {
   "display_name": "Python 3.9.12",
   "language": "python",
   "name": "python3"
  },
  "language_info": {
   "codemirror_mode": {
    "name": "ipython",
    "version": 3
   },
   "file_extension": ".py",
   "mimetype": "text/x-python",
   "name": "python",
   "nbconvert_exporter": "python",
   "pygments_lexer": "ipython3",
   "version": "3.9.13"
  },
  "toc-autonumbering": true,
  "vscode": {
   "interpreter": {
    "hash": "1091f1b9584b16126d959e1e6baecccd273f82381826b825c44bca03b6114737"
   }
  }
 },
 "nbformat": 4,
 "nbformat_minor": 4
}
