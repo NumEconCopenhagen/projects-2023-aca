{
 "cells": [
  {
   "cell_type": "markdown",
   "metadata": {},
   "source": [
    "# Inaugural Project"
   ]
  },
  {
   "attachments": {},
   "cell_type": "markdown",
   "metadata": {},
   "source": [
    "> **Note the following:** \n",
    "> 1. This is an example of how to structure your **inaugural project**.\n",
    "> 1. Remember the general advice on structuring and commenting your code\n",
    "> 1. The `inauguralproject.py` file includes a function which can be used multiple times in this notebook."
   ]
  },
  {
   "cell_type": "markdown",
   "metadata": {},
   "source": [
    "Imports and set magics:"
   ]
  },
  {
   "cell_type": "code",
   "execution_count": 27,
   "metadata": {},
   "outputs": [
    {
     "name": "stdout",
     "output_type": "stream",
     "text": [
      "The autoreload extension is already loaded. To reload it, use:\n",
      "  %reload_ext autoreload\n"
     ]
    }
   ],
   "source": [
    "from types import SimpleNamespace\n",
    "\n",
    "import numpy as np\n",
    "from scipy import optimize\n",
    "\n",
    "import pandas as pd \n",
    "import matplotlib.pyplot as plt\n",
    "\n",
    "import math\n",
    "\n",
    "# autoreload modules when code is run. Otherwise, python will not see recent changes. \n",
    "%load_ext autoreload\n",
    "%autoreload 2\n",
    "\n",
    "# Import your own code\n",
    "import inauguralproject"
   ]
  },
  {
   "cell_type": "code",
   "execution_count": 28,
   "metadata": {},
   "outputs": [],
   "source": [
    "from inauguralproject import HouseholdSpecializationModelClass\n",
    "model = HouseholdSpecializationModelClass()\n",
    "par = model.par\n",
    "sol = model.sol"
   ]
  },
  {
   "cell_type": "markdown",
   "metadata": {},
   "source": [
    "# Question 1"
   ]
  },
  {
   "cell_type": "markdown",
   "metadata": {},
   "source": [
    "**Explain how you solve the model**\n",
    "1) We import the model1 from HouseholdSpecializationModelClass()\n",
    "2) We create lists of alpha and sigma values \n",
    "3) We create an empty list for relative_hours worked\n",
    "4) We solve the model for different combinations of alpha and sigmas by calling the solve_discrete def in ModelClass\n",
    "5) We determine relative hours worked in the home by dividing optimal hours for females by optimal hours for males\n",
    "6) We put relative hours into the empty list.\n",
    "7) We put relative hours into a dataframe and make it into a latex table"
   ]
  },
  {
   "cell_type": "code",
   "execution_count": 29,
   "metadata": {},
   "outputs": [],
   "source": [
    "from inauguralproject import HouseholdSpecializationModelClass\n",
    "model1 = HouseholdSpecializationModelClass()\n",
    "par = model1.par\n",
    "sol = model1.sol"
   ]
  },
  {
   "cell_type": "markdown",
   "metadata": {},
   "source": []
  },
  {
   "cell_type": "code",
   "execution_count": 30,
   "metadata": {},
   "outputs": [
    {
     "name": "stderr",
     "output_type": "stream",
     "text": [
      "/Users/bruger/Desktop/Introduction to numerical programming/projects-2023-aca/inauguralproject/inauguralproject.py:70: RuntimeWarning: invalid value encountered in reciprocal\n",
      "  H = (  (1-par.alpha)  * (HM+0.00000000001) **(power) + par.alpha * (HF+0.0000000001)**(power)  )**(1/power)\n",
      "/Users/bruger/Desktop/Introduction to numerical programming/projects-2023-aca/inauguralproject/inauguralproject.py:76: RuntimeWarning: invalid value encountered in reciprocal\n",
      "  utility = np.fmax(Q,1e-8)**(1-par.rho)/(1-par.rho)\n"
     ]
    }
   ],
   "source": [
    "# Run loop for different combinations of sigma and alpha\n",
    "alpha_list = [0.25, 0.50, 0.75]\n",
    "sigma_list = [0.5,1.0,1.5]\n",
    "relative_hours_1 = {}\n",
    "\n",
    "for sigma in sigma_list:\n",
    "    par.sigma = sigma\n",
    "    for alpha in alpha_list:\n",
    "        par.alpha = alpha\n",
    "        opt = model1.solve_discrete()\n",
    "        \n",
    "        relative_hours_1[sigma,alpha] = opt.HF/opt.HM"
   ]
  },
  {
   "cell_type": "code",
   "execution_count": 31,
   "metadata": {},
   "outputs": [
    {
     "name": "stdout",
     "output_type": "stream",
     "text": [
      "\\begin{tabular}{rrr}\n",
      "\\toprule\n",
      " sigma &  alpha &  Relative hours \\\\\n",
      "\\midrule\n",
      "   0.5 &   0.25 &        0.545455 \\\\\n",
      "   0.5 &   0.50 &        1.000000 \\\\\n",
      "   0.5 &   0.75 &        1.833333 \\\\\n",
      "   1.0 &   0.25 &        0.307692 \\\\\n",
      "   1.0 &   0.50 &        1.000000 \\\\\n",
      "   1.0 &   0.75 &        3.250000 \\\\\n",
      "   1.5 &   0.25 &        0.214286 \\\\\n",
      "   1.5 &   0.50 &        1.000000 \\\\\n",
      "   1.5 &   0.75 &        4.666667 \\\\\n",
      "\\bottomrule\n",
      "\\end{tabular}\n",
      "\n"
     ]
    },
    {
     "name": "stderr",
     "output_type": "stream",
     "text": [
      "/var/folders/fj/trr23jhx25j8_78nf00613400000gn/T/ipykernel_1138/2560377024.py:6: FutureWarning: In future versions `DataFrame.to_latex` is expected to utilise the base implementation of `Styler.to_latex` for formatting and rendering. The arguments signature may therefore change. It is recommended instead to use `DataFrame.style.to_latex` which also contains additional functionality.\n",
      "  print(df.to_latex(index=False))\n"
     ]
    }
   ],
   "source": [
    "df = pd.DataFrame(list(relative_hours_1.items()), columns=['(sigma,alpha)', 'Relative hours'])\n",
    "df[['sigma', 'alpha']] = pd.DataFrame(df['(sigma,alpha)'].tolist(), index=df.index)\n",
    "df.drop('(sigma,alpha)', axis=1, inplace=True)\n",
    "df = df.reindex(columns=['sigma', 'alpha', 'Relative hours'])\n",
    "\n",
    "print(df.to_latex(index=False))"
   ]
  },
  {
   "cell_type": "markdown",
   "metadata": {},
   "source": [
    "# Question 2"
   ]
  },
  {
   "cell_type": "markdown",
   "metadata": {},
   "source": [
    "# Explain your code and procedure\n",
    "1) We import the model2 from HouseholdSpecializationModelClass()\n",
    "2) We create a list of wages \n",
    "3) We create an empty list for relative_hours and log_relative_hours worked\n",
    "4) We solve the model for different values of female wages by calling the solve_discrete def in ModelClass\n",
    "5) We determine relative hours worked in the home by dividing optimal hours for females by optimal hours for males. Afterwards, we take the log\n",
    "6) We put relative hours into the empty list.\n",
    "7) We put relative hours into a dataframe and make it into a latex table\n",
    "8) We make a figure"
   ]
  },
  {
   "cell_type": "code",
   "execution_count": 32,
   "metadata": {},
   "outputs": [
    {
     "name": "stderr",
     "output_type": "stream",
     "text": [
      "/Users/bruger/Desktop/Introduction to numerical programming/projects-2023-aca/inauguralproject/inauguralproject.py:76: RuntimeWarning: invalid value encountered in reciprocal\n",
      "  utility = np.fmax(Q,1e-8)**(1-par.rho)/(1-par.rho)\n"
     ]
    }
   ],
   "source": [
    "from inauguralproject import HouseholdSpecializationModelClass\n",
    "model2 = HouseholdSpecializationModelClass()\n",
    "par = model2.par\n",
    "sol = model2.sol\n",
    "model2.solve_wF_vec(discrete=True) # solve model  \n",
    "lH_vec_disc = par.lH_vec.copy() # store results "
   ]
  },
  {
   "cell_type": "code",
   "execution_count": 51,
   "metadata": {},
   "outputs": [
    {
     "data": {
      "image/png": "[encoded data removed]",
      "text/plain": [
       "<Figure size 432x288 with 1 Axes>"
      ]
     },
     "metadata": {
      "needs_background": "light"
     },
     "output_type": "display_data"
    }
   ],
   "source": [
    "fig = plt.figure()\n",
    "# create plot\n",
    "ax = fig.add_subplot(1, 1, 1)\n",
    "ax.plot(par.lw_vec, lH_vec_disc, color='red', lw=2,label=\"Discrete\")\n",
    "ax.scatter(par.lw_vec,lH_vec_disc)\n",
    "\n",
    "ax.grid()\n",
    "ax.set_xlabel(\"log(wF/wM)\")\n",
    "ax.set_ylabel(\"log(HF/HM)\")\n",
    "ax.set_title(\"Relative work at home for different relative wages\")\n",
    "plt.legend()\n",
    "plt.show()"
   ]
  },
  {
   "cell_type": "markdown",
   "metadata": {},
   "source": [
    "# Question 3"
   ]
  },
  {
   "cell_type": "markdown",
   "metadata": {},
   "source": [
    "Explain your code and procedure"
   ]
  },
  {
   "cell_type": "code",
   "execution_count": 34,
   "metadata": {},
   "outputs": [
    {
     "name": "stderr",
     "output_type": "stream",
     "text": [
      "/Users/bruger/opt/anaconda3/lib/python3.9/site-packages/scipy/optimize/_minimize.py:569: RuntimeWarning: Method Nelder-mead cannot handle constraints.\n",
      "  warn('Method %s cannot handle constraints.' % method,\n"
     ]
    }
   ],
   "source": [
    "from inauguralproject import HouseholdSpecializationModelClass\n",
    "model3 = HouseholdSpecializationModelClass()\n",
    "par = model3.par\n",
    "sol = model3.sol\n",
    "model3.solve_wF_vec(discrete=False) #solve model\n",
    "lH_vec_cont = par.lH_vec.copy() # store results       "
   ]
  },
  {
   "cell_type": "code",
   "execution_count": 50,
   "metadata": {},
   "outputs": [
    {
     "data": {
      "image/png": "[encoded data removed]",
      "text/plain": [
       "<Figure size 432x288 with 1 Axes>"
      ]
     },
     "metadata": {
      "needs_background": "light"
     },
     "output_type": "display_data"
    }
   ],
   "source": [
    "fig = plt.figure()\n",
    "# create plot\n",
    "ax = fig.add_subplot(1, 1, 1)\n",
    "ax.plot(par.lw_vec, lH_vec_cont, color='blue', lw=2,label=\"Continuous\")\n",
    "ax.scatter(par.lw_vec,lH_vec_cont)\n",
    "\n",
    "ax.grid()\n",
    "ax.set_xlabel(\"log(wF/wM)\")\n",
    "ax.set_ylabel(\"log(HF/HM)\")\n",
    "ax.set_title(\"Relative work at home for different relative wages\")\n",
    "plt.legend()\n",
    "plt.show()"
   ]
  },
  {
   "cell_type": "markdown",
   "metadata": {},
   "source": [
    "# Question 4"
   ]
  },
  {
   "cell_type": "code",
   "execution_count": 39,
   "metadata": {},
   "outputs": [],
   "source": [
    "from inauguralproject import HouseholdSpecializationModelClass\n",
    "model4 = HouseholdSpecializationModelClass()\n",
    "par = model4.par\n",
    "sol = model4.sol"
   ]
  },
  {
   "cell_type": "code",
   "execution_count": 37,
   "metadata": {},
   "outputs": [
    {
     "name": "stderr",
     "output_type": "stream",
     "text": [
      "/Users/bruger/opt/anaconda3/lib/python3.9/site-packages/scipy/optimize/_minimize.py:569: RuntimeWarning: Method Nelder-mead cannot handle constraints.\n",
      "  warn('Method %s cannot handle constraints.' % method,\n",
      "/Users/bruger/Desktop/Introduction to numerical programming/projects-2023-aca/inauguralproject/inauguralproject.py:63: RuntimeWarning: divide by zero encountered in double_scalars\n",
      "  power = (par.sigma - 1)/par.sigma\n"
     ]
    },
    {
     "name": "stdout",
     "output_type": "stream",
     "text": [
      "Optimization terminated successfully.\n",
      "alpha_hat: 0.9820\n",
      "sigma_hat: 0.1000\n",
      "beta0_hat: 0.4000\n",
      "beta1_hat: -0.1000\n",
      "Termination value: 0.0000\n"
     ]
    }
   ],
   "source": [
    "model4.estimate(do_print=True)"
   ]
  },
  {
   "cell_type": "code",
   "execution_count": 45,
   "metadata": {},
   "outputs": [
    {
     "name": "stderr",
     "output_type": "stream",
     "text": [
      "/Users/bruger/opt/anaconda3/lib/python3.9/site-packages/scipy/optimize/_minimize.py:569: RuntimeWarning: Method Nelder-mead cannot handle constraints.\n",
      "  warn('Method %s cannot handle constraints.' % method,\n"
     ]
    },
    {
     "data": {
      "text/plain": [
       "array([0.42223962, 0.41045584, 0.39991779, 0.39039148, 0.38168929])"
      ]
     },
     "execution_count": 45,
     "metadata": {},
     "output_type": "execute_result"
    }
   ],
   "source": [
    "par.alpha = 0.9820\n",
    "par.sigma = 0.10\n",
    "model4.solve_wF_vec(discrete=False) #solve model\n",
    "lH_vec_cont_2 = par.lH_vec.copy() # store results     \n",
    "lH_vec_cont_2 \n"
   ]
  },
  {
   "cell_type": "code",
   "execution_count": 49,
   "metadata": {},
   "outputs": [
    {
     "data": {
      "image/png": "[encoded data removed]",
      "text/plain": [
       "<Figure size 432x288 with 1 Axes>"
      ]
     },
     "metadata": {
      "needs_background": "light"
     },
     "output_type": "display_data"
    }
   ],
   "source": [
    "fig = plt.figure()\n",
    "# create plot\n",
    "ax = fig.add_subplot(1, 1, 1)\n",
    "ax.plot(par.lw_vec, lH_vec_cont, color='blue',label=fr\"$\\sigma=1$,$\\alpha=0.5$\")\n",
    "ax.plot(par.lw_vec, lH_vec_cont_2, color='red',label=fr\"$\\sigma=0.1$,$\\alpha=0.98$\")\n",
    "ax.scatter(par.lw_vec,lH_vec_cont)\n",
    "ax.scatter(par.lw_vec,lH_vec_cont_2)\n",
    "\n",
    "ax.grid()\n",
    "ax.set_xlabel(\"log(wF/wM)\")\n",
    "ax.set_ylabel(\"log(HF/HM)\")\n",
    "ax.set_title(\"Relative work at home for different relative wages\")\n",
    "plt.legend()\n",
    "plt.show()"
   ]
  },
  {
   "cell_type": "code",
   "execution_count": 15,
   "metadata": {},
   "outputs": [],
   "source": [
    "distance = {}\n",
    "\n",
    "for sigma in sigma_list:\n",
    "    for alpha in alpha_list:\n",
    "        dist = model4.estimate(alpha=alpha,sigma=sigma)\n",
    "        \n",
    "        distance[sigma,alpha] = dist"
   ]
  },
  {
   "cell_type": "code",
   "execution_count": null,
   "metadata": {},
   "outputs": [],
   "source": [
    "# Convert the distance dictionary into three separate lists\n",
    "sigmas = []\n",
    "alphas = []\n",
    "distances = []\n",
    "for key, value in distance.items():\n",
    "    sigmas.append(key[0])\n",
    "    alphas.append(key[1])\n",
    "    distances.append(value)"
   ]
  },
  {
   "cell_type": "code",
   "execution_count": null,
   "metadata": {},
   "outputs": [],
   "source": [
    "fig = plt.figure()\n",
    "ax = fig.add_subplot(111, projection='3d')\n",
    "\n",
    "# Plot the data points\n",
    "ax.scatter(sigmas, alphas, distances)\n",
    "\n",
    "# Add labels to the axes\n",
    "ax.set_xlabel('Sigma')\n",
    "ax.set_ylabel('Alpha')\n",
    "ax.set_zlabel('Distance')\n",
    "\n",
    "# Display the plot\n",
    "plt.show()"
   ]
  },
  {
   "cell_type": "code",
   "execution_count": null,
   "metadata": {},
   "outputs": [],
   "source": [
    "alpha_grid,sigma_grid = np.meshgrid(alphas,sigmas,indexing='ij')\n",
    "error_grid = np.meshgrid(distances,np.zeros,indexing='ij')\n"
   ]
  },
  {
   "cell_type": "code",
   "execution_count": null,
   "metadata": {},
   "outputs": [],
   "source": [
    "from matplotlib import cm # for colormaps\n",
    "# evaluate utility function\n",
    "alpha_grid,sigma_grid = np.meshgrid(alphas,sigmas,indexing='ij')\n",
    "error_grid = distances\n",
    "\n",
    "# write your code here\n",
    "fig = plt.figure()\n",
    "ax = fig.add_subplot(1,1,1,projection='3d')\n",
    "ax.plot_surface(alpha_grid, sigma_grid,error_grid,cmap=cm.jet)\n",
    "\n",
    "# b. add labels\n",
    "ax.set_xlabel('$\\alpha$')\n",
    "ax.set_ylabel('$\\sigma$')\n",
    "ax.set_zlabel('$Errors$')\n",
    "\n",
    "# c. invert xaxis\n",
    "ax.invert_xaxis()"
   ]
  },
  {
   "cell_type": "code",
   "execution_count": null,
   "metadata": {},
   "outputs": [],
   "source": [
    "min_dist = float('inf')\n",
    "min_alpha = None\n",
    "min_sigma = None\n",
    "\n",
    "for key, value in distance.items():\n",
    "    if value < min_dist:\n",
    "        min_dist = value\n",
    "        min_alpha = key[1]\n",
    "        min_sigma = key[0]\n",
    "\n",
    "print(f\"The minimum distance is {min_dist} for alpha={min_alpha} and sigma={min_sigma}\")"
   ]
  },
  {
   "cell_type": "code",
   "execution_count": null,
   "metadata": {},
   "outputs": [],
   "source": [
    "fig = plt.figure()\n",
    "# create plot\n",
    "ax = fig.add_subplot(1, 1, 1)\n",
    "ax.plot(np.log(par.wF_vec), log_relative_hours_3, color='red', lw=2, label=fr\"$\\sigma=1$,$\\alpha=0.5$\")\n",
    "ax.scatter(np.log(par.wF_vec),log_relative_hours_3)\n",
    "\n",
    "ax.plot(np.log(par.wF_vec), log_relative_hours_41, color='blue', lw=2, label=fr\"$\\sigma=0.15$,$\\alpha=0.9$\")\n",
    "ax.scatter(np.log(par.wF_vec),log_relative_hours_41)\n",
    "\n",
    "ax.grid()\n",
    "ax.set_xlabel(\"log(wF/wM)\")\n",
    "ax.set_ylabel(\"log(HF/HM)\")\n",
    "ax.set_title(\"Relative work at home for different relative wages\")\n",
    "ax.legend()\n",
    "plt.show()"
   ]
  },
  {
   "cell_type": "markdown",
   "metadata": {},
   "source": [
    "# Question 5\n"
   ]
  },
  {
   "cell_type": "code",
   "execution_count": 16,
   "metadata": {},
   "outputs": [],
   "source": [
    "from inauguralproject import HouseholdSpecializationModelClass\n",
    "model5 = HouseholdSpecializationModelClass()"
   ]
  },
  {
   "cell_type": "code",
   "execution_count": 19,
   "metadata": {},
   "outputs": [
    {
     "name": "stderr",
     "output_type": "stream",
     "text": [
      "/Users/bruger/Desktop/Introduction to numerical programming/projects-2023-aca/inauguralproject/inauguralproject.py:63: RuntimeWarning: divide by zero encountered in double_scalars\n",
      "  power = (par.sigma - 1)/par.sigma\n"
     ]
    },
    {
     "name": "stdout",
     "output_type": "stream",
     "text": [
      "Optimization terminated successfully.\n",
      "sigma_hat: 0.0816\n",
      "kappa_hat: 0.4916\n",
      "beta0_hat: 0.4125\n",
      "beta1_hat: -0.0020\n",
      "Termination value: 0.0098\n"
     ]
    }
   ],
   "source": [
    "model5.estimate_2(do_print=True)"
   ]
  }
 ],
 "metadata": {
  "kernelspec": {
   "display_name": "Python 3.9.12 ('base')",
   "language": "python",
   "name": "python3"
  },
  "language_info": {
   "codemirror_mode": {
    "name": "ipython",
    "version": 3
   },
   "file_extension": ".py",
   "mimetype": "text/x-python",
   "name": "python",
   "nbconvert_exporter": "python",
   "pygments_lexer": "ipython3",
   "version": "3.9.12"
  },
  "toc-autonumbering": true,
  "vscode": {
   "interpreter": {
    "hash": "1091f1b9584b16126d959e1e6baecccd273f82381826b825c44bca03b6114737"
   }
  }
 },
 "nbformat": 4,
 "nbformat_minor": 4
}
