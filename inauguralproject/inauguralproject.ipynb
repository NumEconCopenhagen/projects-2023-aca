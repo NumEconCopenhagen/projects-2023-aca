{
 "cells": [
  {
   "cell_type": "markdown",
   "metadata": {},
   "source": [
    "# Inaugural Project"
   ]
  },
  {
   "attachments": {},
   "cell_type": "markdown",
   "metadata": {},
   "source": [
    "> **Note the following:** \n",
    "> 1. This is an example of how to structure your **inaugural project**.\n",
    "> 1. Remember the general advice on structuring and commenting your code\n",
    "> 1. The `inauguralproject.py` file includes a function which can be used multiple times in this notebook."
   ]
  },
  {
   "cell_type": "markdown",
   "metadata": {},
   "source": [
    "Imports and set magics:"
   ]
  },
  {
   "cell_type": "code",
   "execution_count": 3,
   "metadata": {},
   "outputs": [
    {
     "name": "stdout",
     "output_type": "stream",
     "text": [
      "The autoreload extension is already loaded. To reload it, use:\n",
      "  %reload_ext autoreload\n"
     ]
    }
   ],
   "source": [
    "from types import SimpleNamespace\n",
    "\n",
    "import numpy as np\n",
    "from scipy import optimize\n",
    "\n",
    "import pandas as pd \n",
    "import matplotlib.pyplot as plt\n",
    "\n",
    "import math\n",
    "\n",
    "# autoreload modules when code is run. Otherwise, python will not see recent changes. \n",
    "%load_ext autoreload\n",
    "%autoreload 2\n",
    "\n",
    "# Import your own code\n",
    "import inauguralproject"
   ]
  },
  {
   "cell_type": "markdown",
   "metadata": {},
   "source": [
    "# Question 1"
   ]
  },
  {
   "cell_type": "markdown",
   "metadata": {},
   "source": [
    "**Explain how you solve the model**\n",
    "1) We import the model1 from HouseholdSpecializationModelClass()\n",
    "2) We create lists of alpha and sigma values \n",
    "3) We create an empty list for relative_hours worked\n",
    "4) We solve the model for different combinations of alpha and sigmas by calling the solve_discrete def in ModelClass\n",
    "5) We determine relative hours worked in the home by dividing optimal hours for females by optimal hours for males\n",
    "6) We put relative hours into the empty list.\n",
    "7) We put relative hours into a dataframe and make it into a latex table"
   ]
  },
  {
   "cell_type": "code",
   "execution_count": null,
   "metadata": {},
   "outputs": [],
   "source": [
    "from inauguralproject import HouseholdSpecializationModelClass\n",
    "model1 = HouseholdSpecializationModelClass()\n",
    "par = model1.par\n",
    "sol = model1.sol"
   ]
  },
  {
   "cell_type": "code",
   "execution_count": null,
   "metadata": {},
   "outputs": [],
   "source": [
    "# Run loop for different combinations of sigma and alpha\n",
    "alpha_list = [0.25, 0.50, 0.75]\n",
    "sigma_list = [0.5,1.0,1.5]\n",
    "relative_hours_1 = {}\n",
    "\n",
    "for sigma in sigma_list:\n",
    "    par.sigma = sigma\n",
    "    for alpha in alpha_list:\n",
    "        par.alpha = alpha\n",
    "        opt = model1.solve_discrete()\n",
    "        \n",
    "        relative_hours_1[sigma,alpha] = opt.HF/opt.HM"
   ]
  },
  {
   "cell_type": "code",
   "execution_count": null,
   "metadata": {},
   "outputs": [],
   "source": [
    "df = pd.DataFrame(list(relative_hours_1.items()), columns=['(sigma,alpha)', 'Relative hours'])\n",
    "df[['sigma', 'alpha']] = pd.DataFrame(df['(sigma,alpha)'].tolist(), index=df.index)\n",
    "df.drop('(sigma,alpha)', axis=1, inplace=True)\n",
    "df = df.reindex(columns=['sigma', 'alpha', 'Relative hours'])\n",
    "\n",
    "print(df.to_latex(index=False))"
   ]
  },
  {
   "cell_type": "markdown",
   "metadata": {},
   "source": [
    "# Question 2"
   ]
  },
  {
   "cell_type": "markdown",
   "metadata": {},
   "source": [
    "# Explain your code and procedure\n",
    "1) We import the model2 from HouseholdSpecializationModelClass()\n",
    "2) We create a list of wages \n",
    "3) We create an empty list for relative_hours and log_relative_hours worked\n",
    "4) We solve the model for different values of female wages by calling the solve_discrete def in ModelClass\n",
    "5) We determine relative hours worked in the home by dividing optimal hours for females by optimal hours for males. Afterwards, we take the log\n",
    "6) We put relative hours into the empty list.\n",
    "7) We put relative hours into a dataframe and make it into a latex table\n",
    "8) We make a figure"
   ]
  },
  {
   "cell_type": "code",
   "execution_count": null,
   "metadata": {},
   "outputs": [],
   "source": [
    "from inauguralproject import HouseholdSpecializationModelClass\n",
    "model2 = HouseholdSpecializationModelClass()\n",
    "par = model2.par\n",
    "sol = model2.sol"
   ]
  },
  {
   "cell_type": "code",
   "execution_count": null,
   "metadata": {},
   "outputs": [],
   "source": [
    "# Run loop for different combinations of sigma and alpha\n",
    "relative_hours_2 = {}\n",
    "log_relative_hours_2 = {}\n",
    "\n",
    "for wF in par.wF_vec:\n",
    "    model2.par.wF = wF\n",
    "    opt = model2.solve_discrete()\n",
    "\n",
    "    relative_hours_2[wF] = opt.HF/opt.HM\n",
    "    log_relative_hours_2[wF]  = np.log(relative_hours_2[wF])\n",
    "\n",
    "relative_hours_2_v = list(relative_hours_2.values())\n",
    "log_relative_hours_2_v = list(log_relative_hours_2.values())\n",
    "hours_wages_2 = list(zip(par.wF_vec,relative_hours_2_v,log_relative_hours_2_v))"
   ]
  },
  {
   "cell_type": "code",
   "execution_count": null,
   "metadata": {},
   "outputs": [],
   "source": [
    "df2 = pd.DataFrame(hours_wages_2, columns=['Female wages','Relative hours','Log relative hours'])\n",
    "print(df2.to_latex(index=False))"
   ]
  },
  {
   "cell_type": "code",
   "execution_count": null,
   "metadata": {},
   "outputs": [],
   "source": [
    "fig = plt.figure()\n",
    "# create plot\n",
    "ax = fig.add_subplot(1, 1, 1)\n",
    "ax.plot(np.log(par.wF_vec), log_relative_hours_2_v , color='red', lw=2)\n",
    "ax.scatter(np.log(par.wF_vec), log_relative_hours_2_v)\n",
    "\n",
    "ax.grid()\n",
    "ax.set_xlabel(\"log(wF/wM)\")\n",
    "ax.set_ylabel(\"log(HF/HM)\")\n",
    "ax.set_title(\"Relative work at home for different relative wages\")\n",
    "plt.show()"
   ]
  },
  {
   "cell_type": "markdown",
   "metadata": {},
   "source": [
    "# Question 3"
   ]
  },
  {
   "cell_type": "markdown",
   "metadata": {},
   "source": [
    "Explain your code and procedure"
   ]
  },
  {
   "cell_type": "code",
   "execution_count": 4,
   "metadata": {},
   "outputs": [],
   "source": [
    "from inauguralproject import HouseholdSpecializationModelClass\n",
    "model3 = HouseholdSpecializationModelClass()\n",
    "par = model3.par\n",
    "sol = model3.sol"
   ]
  },
  {
   "cell_type": "code",
   "execution_count": 5,
   "metadata": {},
   "outputs": [
    {
     "name": "stdout",
     "output_type": "stream",
     "text": [
      "\\begin{tabular}{rrr}\n",
      "\\toprule\n",
      " Female wages &  Relative hours &  Log relative hours \\\\\n",
      "\\midrule\n",
      "          0.8 &        1.250012 &            0.223153 \\\\\n",
      "          0.9 &        1.111120 &            0.105368 \\\\\n",
      "          1.0 &        1.000006 &            0.000006 \\\\\n",
      "          1.1 &        0.909092 &           -0.095309 \\\\\n",
      "          1.2 &        0.833345 &           -0.182307 \\\\\n",
      "\\bottomrule\n",
      "\\end{tabular}\n",
      "\n"
     ]
    },
    {
     "name": "stderr",
     "output_type": "stream",
     "text": [
      "/Users/bruger/opt/anaconda3/lib/python3.9/site-packages/scipy/optimize/_minimize.py:569: RuntimeWarning: Method nelder-mead cannot handle constraints.\n",
      "  warn('Method %s cannot handle constraints.' % method,\n",
      "/var/folders/fj/trr23jhx25j8_78nf00613400000gn/T/ipykernel_82820/238670145.py:18: FutureWarning: In future versions `DataFrame.to_latex` is expected to utilise the base implementation of `Styler.to_latex` for formatting and rendering. The arguments signature may therefore change. It is recommended instead to use `DataFrame.style.to_latex` which also contains additional functionality.\n",
      "  print(df3.to_latex(index=False))\n"
     ]
    }
   ],
   "source": [
    "#solve via loop \n",
    "relative_hours_3 = {}\n",
    "log_relative_hours_3 = {}\n",
    "\n",
    "#Code solves the continuous model for different relativ wages\n",
    "for wF in par.wF_vec:\n",
    "    par.wF = wF\n",
    "    opt = model3.solve()\n",
    "        \n",
    "    relative_hours_3[wF] = opt.HF/opt.HM\n",
    "    log_relative_hours_3[wF] = np.log(relative_hours_3[wF])\n",
    "\n",
    "relative_hours_3_v = list(relative_hours_3.values())\n",
    "log_relative_hours_3_v = list(log_relative_hours_3.values())\n",
    "hours_wages_3 = list(zip(par.wF_vec,relative_hours_3_v,log_relative_hours_3_v))\n",
    "\n",
    "df3 = pd.DataFrame(hours_wages_3, columns=['Female wages','Relative hours','Log relative hours'])\n",
    "print(df3.to_latex(index=False))"
   ]
  },
  {
   "cell_type": "code",
   "execution_count": 7,
   "metadata": {},
   "outputs": [
    {
     "data": {
      "image/png": "[encoded data removed]",
      "text/plain": [
       "<Figure size 432x288 with 1 Axes>"
      ]
     },
     "metadata": {
      "needs_background": "light"
     },
     "output_type": "display_data"
    }
   ],
   "source": [
    "fig = plt.figure()\n",
    "# create plot\n",
    "ax = fig.add_subplot(1, 1, 1)\n",
    "ax.plot(np.log(par.wF_vec), log_relative_hours_3_v, color='red', lw=2)\n",
    "ax.scatter(np.log(par.wF_vec),log_relative_hours_3_v)\n",
    "\n",
    "ax.grid()\n",
    "ax.set_xlabel(\"log(wF/wM)\")\n",
    "ax.set_ylabel(\"log(HF/HM)\")\n",
    "ax.set_title(\"Relative work at home for different relative wages\")\n",
    "plt.show()"
   ]
  },
  {
   "cell_type": "markdown",
   "metadata": {},
   "source": [
    "# Question 4"
   ]
  },
  {
   "cell_type": "code",
   "execution_count": 62,
   "metadata": {},
   "outputs": [],
   "source": [
    "model4 = HouseholdSpecializationModelClass()\n",
    "par = model4.par\n",
    "sol = model4.sol"
   ]
  },
  {
   "cell_type": "code",
   "execution_count": null,
   "metadata": {},
   "outputs": [],
   "source": [
    "alpha_list = [0.1,0.2,0.3,0.4,0.5,0.6,0.7,0.8,0.9,1]\n",
    "sigma_list = [0.05,0.1,0.15,0.2,0.25,0.3,0.35,0.4,0.45,0.50]\n",
    "distance = {}\n",
    "\n",
    "for sigma in sigma_list:\n",
    "    for alpha in alpha_list:\n",
    "        dist = model4.estimate(alpha=alpha,sigma=sigma)\n",
    "        \n",
    "        distance[sigma,alpha] = dist"
   ]
  },
  {
   "cell_type": "code",
   "execution_count": null,
   "metadata": {},
   "outputs": [],
   "source": [
    "min_dist = float('inf')\n",
    "min_alpha = None\n",
    "min_sigma = None\n",
    "\n",
    "for key, value in distance.items():\n",
    "    if value < min_dist:\n",
    "        min_dist = value\n",
    "        min_alpha = key[1]\n",
    "        min_sigma = key[0]\n",
    "\n",
    "print(f\"The minimum distance is {min_dist} for alpha={min_alpha} and sigma={min_sigma}\")"
   ]
  },
  {
   "cell_type": "code",
   "execution_count": null,
   "metadata": {},
   "outputs": [],
   "source": [
    "distance"
   ]
  },
  {
   "cell_type": "code",
   "execution_count": 31,
   "metadata": {},
   "outputs": [
    {
     "name": "stderr",
     "output_type": "stream",
     "text": [
      "/Users/bruger/opt/anaconda3/lib/python3.9/site-packages/scipy/optimize/_minimize.py:569: RuntimeWarning: Method nelder-mead cannot handle constraints.\n",
      "  warn('Method %s cannot handle constraints.' % method,\n"
     ]
    },
    {
     "data": {
      "text/plain": [
       "0.0074578136880497446"
      ]
     },
     "execution_count": 31,
     "metadata": {},
     "output_type": "execute_result"
    }
   ],
   "source": [
    "model4.estimate(0.9,0.15)"
   ]
  },
  {
   "cell_type": "code",
   "execution_count": null,
   "metadata": {},
   "outputs": [],
   "source": [
    "options = {'maxfev': 10000}\n",
    "obj = lambda x: -model4.estimate(alpha,sigma)\n",
    "bounds = ((0.88,0.92), (0.13,0.17))\n",
    "initial_guess = [0.9,0.15]\n",
    "solution = optimize.minimize(obj, initial_guess, method=\"nelder-mead\", bounds=bounds, options=options)"
   ]
  },
  {
   "cell_type": "code",
   "execution_count": 18,
   "metadata": {},
   "outputs": [],
   "source": [
    "model41 = HouseholdSpecializationModelClass()\n",
    "par = model41.par\n",
    "sol = model41.sol"
   ]
  },
  {
   "cell_type": "code",
   "execution_count": 19,
   "metadata": {},
   "outputs": [
    {
     "name": "stderr",
     "output_type": "stream",
     "text": [
      "/Users/bruger/opt/anaconda3/lib/python3.9/site-packages/scipy/optimize/_minimize.py:569: RuntimeWarning: Method nelder-mead cannot handle constraints.\n",
      "  warn('Method %s cannot handle constraints.' % method,\n"
     ]
    }
   ],
   "source": [
    "model41.par.sigma = 0.15\n",
    "model41.par.alpha = 0.9\n",
    "model41.solve_wF_vec()\n",
    "log_relative_hours_41 = np.log(sol.HF_vec/sol.HM_vec)"
   ]
  },
  {
   "cell_type": "code",
   "execution_count": 23,
   "metadata": {},
   "outputs": [
    {
     "data": {
      "image/png": "[encoded data removed]",
      "text/plain": [
       "<Figure size 432x288 with 1 Axes>"
      ]
     },
     "metadata": {
      "needs_background": "light"
     },
     "output_type": "display_data"
    }
   ],
   "source": [
    "fig = plt.figure()\n",
    "# create plot\n",
    "ax = fig.add_subplot(1, 1, 1)\n",
    "ax.plot(np.log(par.wF_vec), log_relative_hours_3_v, color='red', lw=2, label=fr\"$\\sigma=1$,$\\alpha=0.5$\")\n",
    "ax.scatter(np.log(par.wF_vec),log_relative_hours_3_v)\n",
    "\n",
    "ax.plot(np.log(par.wF_vec), log_relative_hours_41, color='blue', lw=2, label=fr\"$\\sigma=0.15$,$\\alpha=0.9$\")\n",
    "ax.scatter(np.log(par.wF_vec),log_relative_hours_41)\n",
    "\n",
    "ax.grid()\n",
    "ax.set_xlabel(\"log(wF/wM)\")\n",
    "ax.set_ylabel(\"log(HF/HM)\")\n",
    "ax.set_title(\"Relative work at home for different relative wages\")\n",
    "ax.legend()\n",
    "plt.show()"
   ]
  },
  {
   "cell_type": "markdown",
   "metadata": {},
   "source": [
    "# Question 5\n"
   ]
  },
  {
   "cell_type": "code",
   "execution_count": 48,
   "metadata": {},
   "outputs": [],
   "source": [
    "model5 = HouseholdSpecializationModelClass()\n",
    "par = model5.par\n",
    "sol = model5.sol\n",
    "model5.par.theta = 1.5"
   ]
  },
  {
   "cell_type": "code",
   "execution_count": 63,
   "metadata": {},
   "outputs": [],
   "source": [
    "theta_list = [0.1,0.2,0.3,0.4,0.5,0.6,0.7,0.8,0.9,1]\n",
    "distance = {}\n",
    "\n",
    "for theta in theta_list:\n",
    "    dist = model5.estimate(alpha=0.5,sigma=1,theta=theta)\n",
    "        \n",
    "    distance[theta] = dist"
   ]
  },
  {
   "cell_type": "code",
   "execution_count": 64,
   "metadata": {},
   "outputs": [
    {
     "name": "stdout",
     "output_type": "stream",
     "text": [
      "The minimum distance is 0.5962533670263043 for theta=0.4\n"
     ]
    }
   ],
   "source": [
    "min_dist = float('inf')\n",
    "min_theta = None\n",
    "\n",
    "for key, value in distance.items():\n",
    "    if value < min_dist:\n",
    "        min_dist = value\n",
    "        min_theta = key\n",
    "\n",
    "print(f\"The minimum distance is {min_dist} for theta={min_theta}\")"
   ]
  },
  {
   "cell_type": "code",
   "execution_count": null,
   "metadata": {},
   "outputs": [],
   "source": []
  }
 ],
 "metadata": {
  "kernelspec": {
   "display_name": "Python 3.9.12 ('base')",
   "language": "python",
   "name": "python3"
  },
  "language_info": {
   "codemirror_mode": {
    "name": "ipython",
    "version": 3
   },
   "file_extension": ".py",
   "mimetype": "text/x-python",
   "name": "python",
   "nbconvert_exporter": "python",
   "pygments_lexer": "ipython3",
   "version": "3.9.12"
  },
  "toc-autonumbering": true,
  "vscode": {
   "interpreter": {
    "hash": "1091f1b9584b16126d959e1e6baecccd273f82381826b825c44bca03b6114737"
   }
  }
 },
 "nbformat": 4,
 "nbformat_minor": 4
}
