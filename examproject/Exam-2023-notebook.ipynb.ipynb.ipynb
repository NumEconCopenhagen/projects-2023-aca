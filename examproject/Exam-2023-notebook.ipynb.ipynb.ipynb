{
 "cells": [
  {
   "attachments": {},
   "cell_type": "markdown",
   "metadata": {},
   "source": [
    "**Table of contents**<a id='toc0_'></a>    \n",
    "- 1. [Problem 1: Optimal taxation with government consumption](#toc1_)    \n",
    "- 2. [Problem 2: Labor adjustment costs](#toc2_)    \n",
    "- 3. [Problem 3: Global optimizer with refined multi-start](#toc3_)    \n",
    "\n",
    "<!-- vscode-jupyter-toc-config\n",
    "\tnumbering=true\n",
    "\tanchor=true\n",
    "\tflat=false\n",
    "\tminLevel=2\n",
    "\tmaxLevel=6\n",
    "\t/vscode-jupyter-toc-config -->\n",
    "<!-- THIS CELL WILL BE REPLACED ON TOC UPDATE. DO NOT WRITE YOUR TEXT IN THIS CELL -->"
   ]
  },
  {
   "cell_type": "code",
   "execution_count": 1,
   "metadata": {},
   "outputs": [],
   "source": [
    "# write your code here"
   ]
  },
  {
   "cell_type": "code",
   "execution_count": 2,
   "metadata": {},
   "outputs": [],
   "source": [
    "import numpy as np\n",
    "import numba as nb\n",
    "from types import SimpleNamespace\n",
    "from scipy import optimize\n",
    "from scipy.optimize import minimize\n",
    "# autoreload modules when code is run. Otherwise, python will not see recent changes. \n",
    "%load_ext autoreload\n",
    "%autoreload 2\n",
    "\n",
    "from scipy.optimize import root_scalar\n",
    "\n",
    "# Import our own cod\n",
    "import exam\n",
    "\n",
    "import matplotlib.pyplot as plt\n",
    "from mpl_toolkits import mplot3d"
   ]
  },
  {
   "attachments": {},
   "cell_type": "markdown",
   "metadata": {},
   "source": [
    "## 1. <a id='toc1_'></a>[Problem 1: Optimal taxation with government consumption](#toc0_)"
   ]
  },
  {
   "attachments": {},
   "cell_type": "markdown",
   "metadata": {},
   "source": [
    "\n",
    "Consider a worker choosing hours of labor, $L\\in[0,24]$, to maximize utility: \n",
    "\n",
    "$$\n",
    "\\begin{align*}\n",
    "V(w,\\tau,G)&=\\max_{L\\in[0,24]}\\ln\\left(C^{\\alpha}G^{1-\\alpha}\\right)-\\nu\\frac{L^{2}}{2}\\\\&\\text{s.t.}\\\\&C=\\kappa+(1-\\tau)wL\n",
    "\\end{align*}\n",
    "$$\n",
    "\n",
    "where \n",
    "\n",
    "* $C$ is *private* consumption with weight $\\alpha\\in(0,1)$.\n",
    "* $\\kappa > 0$ is the *free private* consumption component.\n",
    "* $C = (1-\\tau)wL$ is the *costly private* consumption component.\n",
    "* $w > 0 $ is the real wage.\n",
    "* $\\tau \\in (0,1)$ is the labor-income tax rate.\n",
    "* $G > 0 $ is *government* consumption with weight $1-\\alpha$.\n",
    "* $\\nu > 0$ is the disutility of labor scaling factor"
   ]
  },
  {
   "attachments": {},
   "cell_type": "markdown",
   "metadata": {},
   "source": [
    "\n",
    "The baseline parameters are:\n",
    "\n",
    "$$\n",
    "\\begin{align*}\n",
    "\\alpha &= 0.5\\\\\n",
    "\\kappa &= 1.0\\\\\n",
    "\\nu &= \\frac{1}{2\\cdot16^2} \\\\\n",
    "w &= 1.0 \\\\ \n",
    "\\tau &= 0.30 \\\\\n",
    "\\end{align*}\n",
    "$$"
   ]
  },
  {
   "attachments": {},
   "cell_type": "markdown",
   "metadata": {},
   "source": [
    "**Question 1:** Verify that the optimal labor supply choice is $L^{\\star}(\\tilde{w}) =\\frac{-\\kappa+\\sqrt{\\kappa^{2}+4\\frac{\\alpha}{\\nu}\\tilde{w}^2}}{2\\tilde{w}}$, where $\\tilde{w} = (1-\\tau)w$, for $G\\in\\left\\{1.0 , 2.0\\right\\}$."
   ]
  },
  {
   "attachments": {},
   "cell_type": "markdown",
   "metadata": {},
   "source": [
    "**Answer for question 1**\n",
    "$$\n",
    "\\begin{align*}\n",
    "V(w,\\tau,G)=\\underset{L\\epsilon[0,24]}{max}ln(C^{\\alpha}G^{1-\\alpha})-\\upsilon\\frac{L^{2}}{2}\\rightarrow \\\\\n",
    "V(\\overset{\\sim}{\\omega})=ln[(\\kappa+\\overset{\\sim}{\\omega}L)^{\\alpha}G^{1-\\alpha}]-\\upsilon\\frac{L^{2}}{2}\n",
    "\\end{align*}\n",
    "$$\n",
    "FOC: \n",
    "$$\n",
    "\\begin{align*}\n",
    "\\frac{\\partial V(\\overset{\\sim}{\\omega})}{\\partial L}=0:\\rightarrow \\\\\n",
    "\\frac{1}{(\\kappa+\\overset{\\sim}{\\omega}L)^{\\alpha}G^{1-\\alpha}}\\cdot\\alpha(\\kappa+\\overset{\\sim}{\\omega}L)^{\\alpha-1}\\cdot G^{1-\\alpha}=\\upsilon L\\rightarrow \\\\\n",
    "\\frac{\\alpha\\overset{\\sim}{\\omega}(\\kappa+\\overset{\\sim}{\\omega}L)^{\\alpha-1}}{(\\kappa+\\overset{\\sim}{\\omega}L)^{\\alpha}}=\\upsilon L\\rightarrow \\\\\n",
    "\\frac{\\alpha\\overset{\\sim}{\\omega}}{\\kappa+\\overset{\\sim}{\\omega}L}=\\upsilon L\\rightarrow \\\\\n",
    "\\alpha\\overset{\\sim}{\\omega}=\\upsilon L(\\kappa+\\overset{\\sim}{\\omega}L)\\rightarrow \\\\\n",
    "\\overset{\\sim}{\\omega}L^{2}+\\kappa L-\\frac{\\alpha\\overset{\\sim}{\\omega}}{\\upsilon}=0\n",
    "\\end{align*}\n",
    "$$\n",
    "\n",
    "2nd degree polynomial:\n",
    "$$\n",
    "\\begin{align*}\n",
    "d=\\kappa^{2}+4\\cdot\\overset{\\sim}{\\omega}\\cdot\\frac{\\alpha\\overset{\\sim}{\\omega}}{\\upsilon}=\\kappa^{2}+4\\overset{\\sim}{\\omega}^{2}\\frac{\\alpha}{\\upsilon} \\\\\n",
    "L=\\frac{-\\kappa\\pm\\sqrt{\\kappa^{2}+4\\cdot\\frac{\\alpha}{\\upsilon}\\cdot\\overset{\\sim}{\\omega}^{2}}}{2\\cdot\\overset{\\sim}{\\omega}}\n",
    "\\end{align*}\n",
    "$$\n",
    "We cannot subtract as labor supply would then be negative. Hence: \n",
    "$$\n",
    "\\begin{align*}\n",
    "L(\\overset{\\sim}{\\omega})=\\frac{-\\kappa+\\sqrt{\\kappa^{2}+4\\cdot\\frac{\\alpha}{\\upsilon}\\cdot\\overset{\\sim}{\\omega}^{2}}}{2\\cdot\\overset{\\sim}{\\omega}}\n",
    "\\end{align*}\n",
    "$$\n"
   ]
  },
  {
   "attachments": {},
   "cell_type": "markdown",
   "metadata": {},
   "source": [
    "**Question 2:** Illustrate how $L^{\\star}(\\tilde{w})$ depends on $w$."
   ]
  },
  {
   "cell_type": "code",
   "execution_count": 3,
   "metadata": {},
   "outputs": [],
   "source": [
    "# write your code here\n",
    "alpha = 0.5\n",
    "kappa = 1.0\n",
    "upsilon = 1/(2*16**2)\n",
    "omega_vec = np.linspace(0.8,1.2,5)"
   ]
  },
  {
   "cell_type": "code",
   "execution_count": 4,
   "metadata": {},
   "outputs": [],
   "source": [
    "labor = {}\n",
    "\n",
    "for omega in omega_vec:\n",
    "    L = (-kappa + np.sqrt(kappa**2 + 4*alpha/upsilon*omega**2))/(2*omega)\n",
    "    labor[omega] = L "
   ]
  },
  {
   "cell_type": "code",
   "execution_count": 5,
   "metadata": {},
   "outputs": [
    {
     "data": {
      "text/plain": [
       "{0.8: 15.387202378186457,\n",
       " 0.9: 15.454086600823477,\n",
       " 1.0: 15.507810593582121,\n",
       " 1.1: 15.551909854805455,\n",
       " 1.2: 15.588757761042558}"
      ]
     },
     "execution_count": 5,
     "metadata": {},
     "output_type": "execute_result"
    }
   ],
   "source": [
    "#Plot labor as a function of wages. Show that as wages increases, labor supply increases. \n",
    "#Figure should resemble layout from inagural project\n",
    "labor"
   ]
  },
  {
   "attachments": {},
   "cell_type": "markdown",
   "metadata": {},
   "source": [
    "\n",
    "We now consider a government, who chooses $\\tau$ and spend all of the taxes on government consumption so:\n",
    "\n",
    "$$\n",
    "G = \\tau w L^{\\star}((1-\\tau)w)\n",
    "$$\n",
    "\n",
    "**Question 3:** Plot the implied $L$, $G$ and worker utility for a grid of $\\tau$-values.\n"
   ]
  },
  {
   "cell_type": "code",
   "execution_count": 6,
   "metadata": {},
   "outputs": [],
   "source": [
    "# Import taxation class model \n",
    "from exam import TaxationClass\n",
    "model = TaxationClass()\n",
    "par = model.par\n",
    "sol = model.sol"
   ]
  },
  {
   "cell_type": "code",
   "execution_count": 7,
   "metadata": {},
   "outputs": [],
   "source": [
    "# Find model solution for different taus\n",
    "tau_list = [0.1,0.2,0.3,0.4,0.5,0.6,0.7,0.8,0.9]\n",
    "labor = {}\n",
    "utility = {}\n",
    "government = {}\n",
    "\n",
    "for tau in tau_list:\n",
    "    par.tau = tau\n",
    "    opt = model.solve()\n",
    "\n",
    "    labor[tau] = opt.labor \n",
    "    utility[tau] = model.calc_utility(labor=opt.labor)\n",
    "    government[tau] = model.government(labor=opt.labor)"
   ]
  },
  {
   "cell_type": "code",
   "execution_count": 8,
   "metadata": {},
   "outputs": [
    {
     "data": {
      "text/plain": [
       "{0.1: 22.358000054456244,\n",
       " 0.2: 22.32546276372485,\n",
       " 0.3: 22.28401455703221,\n",
       " 0.4: 22.229374835759486,\n",
       " 0.5: 22.154070212054496,\n",
       " 0.6: 22.043687153094726,\n",
       " 0.7: 21.866342062627506,\n",
       " 0.8: 21.535142906446755,\n",
       " 0.9: 20.703066068153362}"
      ]
     },
     "execution_count": 8,
     "metadata": {},
     "output_type": "execute_result"
    }
   ],
   "source": [
    "# Make three different plots of labor, utiloty and government revenue as a function of tau\n",
    "# write some text about the intuition of the plots\n",
    "labor"
   ]
  },
  {
   "cell_type": "code",
   "execution_count": 9,
   "metadata": {},
   "outputs": [
    {
     "data": {
      "text/plain": [
       "{0.1: 1.4392976403106723,\n",
       " 0.2: 1.729932003026946,\n",
       " 0.3: 1.8696751250880426,\n",
       " 0.4: 1.9414419538729109,\n",
       " 0.5: 1.9687902542666937,\n",
       " 0.6: 1.958646997347028,\n",
       " 0.7: 1.9086353825161226,\n",
       " 0.8: 1.8048943970766131,\n",
       " 0.9: 1.6047781257264853}"
      ]
     },
     "execution_count": 9,
     "metadata": {},
     "output_type": "execute_result"
    }
   ],
   "source": [
    "utility"
   ]
  },
  {
   "attachments": {},
   "cell_type": "markdown",
   "metadata": {},
   "source": [
    "**Question 4:** Find the socially optimal tax rate $\\tau^{\\star}\\in(0,1)$ maximizing worker utility. Illustrate your result."
   ]
  },
  {
   "cell_type": "code",
   "execution_count": 10,
   "metadata": {},
   "outputs": [],
   "source": [
    "# write introduction to what we do: define objective function that maximizes utility under different tau values\n",
    "# we do this in the py file"
   ]
  },
  {
   "cell_type": "code",
   "execution_count": 11,
   "metadata": {},
   "outputs": [
    {
     "name": "stdout",
     "output_type": "stream",
     "text": [
      "Optimization terminated successfully.\n",
      "tau_hat: 0.5226\n",
      "Termination value: -1.9697\n"
     ]
    }
   ],
   "source": [
    "model.optimal_tax(do_print=True) \n"
   ]
  },
  {
   "attachments": {},
   "cell_type": "markdown",
   "metadata": {},
   "source": [
    "A more general preference formulation for the worker is:\n",
    "\n",
    "$$\n",
    "\\begin{align*}\n",
    "\\mathcal{V}(w,\\tau,G)&=\\max_{L\\in[0,24]}\\frac{\\left[ \\left( \\alpha C^{\\frac{\\sigma-1}{\\sigma}}+(1-\\alpha) G^{\\frac{\\sigma-1}{\\sigma}} \\right)^{\\frac{\\sigma}{1-\\sigma} }\\right]^{1-\\rho}-1}{1-\\rho}- \\nu\\frac{L^{1+\\varepsilon}}{1+\\varepsilon},\\,\\,\\,\\varepsilon,\\rho,\\sigma>0,\\,\\,\\,\\rho,\\sigma\\neq1\\\\&\\text{s.t.}\\\\&C=\\kappa+(1-\\tau)wL\n",
    "\\end{align*}    \n",
    "$$\n",
    "\n",
    "Optimal labor supply is now $L^{\\star}(\\tilde{w},G)$."
   ]
  },
  {
   "attachments": {},
   "cell_type": "markdown",
   "metadata": {},
   "source": [
    "Questions 5 and 6 must be answered with the general formulation, and for 2 different set of parameters:\n",
    "\n",
    "- Set 1:  $\\sigma = 1.001$, $\\rho = 1.001$ and $\\varepsilon = 1.0$.\n",
    "- Set 2:  $\\sigma = 1.5$, $\\rho = 1.5$ and $\\varepsilon = 1.0 $."
   ]
  },
  {
   "attachments": {},
   "cell_type": "markdown",
   "metadata": {},
   "source": [
    "**Question 5:** Find the $G$ that solves $G = \\tau w L^{\\star}((1-\\tau)w,G)$ using the $\\tau$ found in question 4.\n",
    "\n",
    "*Hint: First write code that solves the worker problem for given values of $G$ and $\\tau$. Then find the correct G based on this.*"
   ]
  },
  {
   "cell_type": "code",
   "execution_count": 12,
   "metadata": {},
   "outputs": [],
   "source": [
    "from exam import TaxationClass\n",
    "model_new1 = TaxationClass()\n",
    "par = model_new1.par\n",
    "sol = model_new1.sol\n",
    "model_new1.par.sigma = 1.001\n",
    "model_new1.par.rho = 1.001\n",
    "model_new1.par.tau = 0.5226"
   ]
  },
  {
   "cell_type": "code",
   "execution_count": 13,
   "metadata": {},
   "outputs": [],
   "source": [
    "opt_new1 = model_new1.solve()\n",
    "labor_new1 = opt_new1.labor \n",
    "utility_new1 = model_new1.calc_utility(opt_new1.labor)\n",
    "government_new1 = model_new1.government(opt_new1.labor)"
   ]
  },
  {
   "cell_type": "code",
   "execution_count": 14,
   "metadata": {},
   "outputs": [
    {
     "name": "stdout",
     "output_type": "stream",
     "text": [
      "22.105380550909764\n",
      "1.966731903764507\n",
      "11.552271875905442\n"
     ]
    }
   ],
   "source": [
    "print(labor_new1)\n",
    "print(utility_new1)\n",
    "print(government_new1)"
   ]
  },
  {
   "cell_type": "code",
   "execution_count": 15,
   "metadata": {},
   "outputs": [],
   "source": [
    "from exam import TaxationClass\n",
    "model_new2 = TaxationClass()\n",
    "par = model_new2.par\n",
    "sol = model_new2.sol\n",
    "model_new2.par.sigma = 1.5\n",
    "model_new2.par.rho = 1.5\n",
    "model_new2.par.tau = 0.5226"
   ]
  },
  {
   "cell_type": "code",
   "execution_count": 16,
   "metadata": {},
   "outputs": [],
   "source": [
    "opt_new2 = model_new2.solve()\n",
    "labor_new2 = opt_new2.labor \n",
    "utility_new2 = model_new2.calc_utility(opt_new2.labor)\n",
    "government_new2 = model_new2.government(opt_new2.labor)"
   ]
  },
  {
   "cell_type": "code",
   "execution_count": 17,
   "metadata": {},
   "outputs": [
    {
     "name": "stdout",
     "output_type": "stream",
     "text": [
      "13.34570227609117\n",
      "1.0792061591069517\n",
      "6.974464009485245\n"
     ]
    }
   ],
   "source": [
    "print(labor_new2)\n",
    "print(utility_new2)\n",
    "print(government_new2)"
   ]
  },
  {
   "attachments": {},
   "cell_type": "markdown",
   "metadata": {},
   "source": [
    "**Question 6:** Find the socially optimal tax rate, $\\tau^{\\star}$, maximizing worker utility, while keeping $G = \\tau w L^{\\star}((1-\\tau)w,G)$."
   ]
  },
  {
   "cell_type": "code",
   "execution_count": 18,
   "metadata": {},
   "outputs": [],
   "source": [
    "#write intutionen to the two optimal taxes. \n",
    "# 1) why is optimal tax the same in model and model_new1?\n",
    "# 2) why is utility lower in model_new2? because they work less. something about substitution. "
   ]
  },
  {
   "cell_type": "code",
   "execution_count": 19,
   "metadata": {},
   "outputs": [
    {
     "name": "stdout",
     "output_type": "stream",
     "text": [
      "Optimization terminated successfully.\n",
      "tau_hat: 0.5226\n",
      "Termination value: -1.9667\n"
     ]
    }
   ],
   "source": [
    "model_new1.optimal_tax(do_print=True) "
   ]
  },
  {
   "cell_type": "code",
   "execution_count": 20,
   "metadata": {},
   "outputs": [
    {
     "name": "stdout",
     "output_type": "stream",
     "text": [
      "Optimization terminated successfully.\n",
      "tau_hat: 0.5375\n",
      "Termination value: -1.0793\n"
     ]
    }
   ],
   "source": [
    "model_new2.optimal_tax(do_print=True) "
   ]
  },
  {
   "attachments": {},
   "cell_type": "markdown",
   "metadata": {},
   "source": [
    "## 2. <a id='toc2_'></a>[Problem 2: Labor adjustment costs](#toc0_)"
   ]
  },
  {
   "attachments": {},
   "cell_type": "markdown",
   "metadata": {},
   "source": [
    "You own a hair salon. You employ hairdressers, $\\ell_t$, to produce haircuts, $y_t = \\ell_t$.\n",
    "\n",
    "The wage for each haridresser is $w$.\n",
    "\n",
    "The demand for haircuts implies that the price of haircuts you can charge is $p_t = \\kappa_t y_t^{-\\eta}$, where $\\kappa_t$ is a demand-shock and $\\eta \\in (0,1)$ measures the elasticity of demand.\n",
    "\n",
    "Profits are:\n",
    "\n",
    "$$\n",
    "\\Pi_t = p_t y_t - w \\ell_t = \\kappa_t \\ell_t^{1-\\eta} - w \\ell_t\n",
    "$$"
   ]
  },
  {
   "attachments": {},
   "cell_type": "markdown",
   "metadata": {},
   "source": [
    "Baseline parameters are:\n",
    "- $\\eta = 0.5$\n",
    "- $w = 1.0$"
   ]
  },
  {
   "attachments": {},
   "cell_type": "markdown",
   "metadata": {},
   "source": [
    "**Question 1:** Verify numerically that $\\ell_{t}=\\left(\\frac{(1-\\eta)\\kappa_{t}}{w}\\right)^{\\frac{1}{\\eta}}$ maximises profits, for $\\kappa\\in\\left\\{1.0 , 2.0\\right\\}$."
   ]
  },
  {
   "cell_type": "code",
   "execution_count": 21,
   "metadata": {},
   "outputs": [],
   "source": [
    "# write your code here"
   ]
  },
  {
   "attachments": {},
   "cell_type": "markdown",
   "metadata": {},
   "source": [
    "We now consider a *dynamic* version of the model.\n",
    "\n",
    "* The demand-shock is a so-called AR(1) in logs, \n",
    "\n",
    "$$\n",
    "\\log \\kappa_{t} = \\rho \\log \\kappa_{t-1} + \\epsilon_{t},\\,\\,\\, \\epsilon_{t+1} \\sim \\mathcal{N}(-0.5\\sigma_{\\epsilon}^2,\\sigma_{\\epsilon})\n",
    "$$\n",
    "\n",
    "* Any hiring or firing implies a fixed adjustment cost, $\\iota > 0 $.\n",
    "* Future profits are discounted with a monthly factor of $R \\in (0,1)$.\n",
    "\n",
    "The initial demand shock is $\\kappa_{-1} = 1$ and the planning horizon is 10 years, i.e. 120 months so $t \\in \\{0,1,2,\\dots,119\\}$. Initially you don't have any employees, $\\ell_{-1}=0$"
   ]
  },
  {
   "attachments": {},
   "cell_type": "markdown",
   "metadata": {},
   "source": [
    "\n",
    "The *ex post* value of the salon is *conditional* on the shock series is:\n",
    "\n",
    "$$\n",
    "h(\\epsilon_0,\\epsilon_1,\\dots,\\epsilon_{119}) = \\left[\\sum_{t=0}^{119}R^{-t}\\left[\\kappa_{t}\\ell_{t}^{1-\\eta}-w\\ell_{t}-\\boldsymbol{1}_{\\ell_{t}\\neq\\ell_{t-1}}\\iota\\right]\\right]\n",
    "$$\n",
    "\n",
    "The *ex ante* expected value of the salon can be approximated by\n",
    "\n",
    "$$\n",
    "H = \\mathbb{E}[h(\\epsilon_0,\\epsilon_1,\\dots,\\epsilon_{119})] \\approx \\frac{1}{K}\\sum_{k=0}^{K} h(\\epsilon_0^k,\\epsilon_1^k,\\dots,\\epsilon_{119}^k)\n",
    "$$\n",
    "\n",
    "where each $k\\in\\{0,1,\\dots,K-1\\}$ is a random shock series. Maximizing profitability means maximizing $H$.\n"
   ]
  },
  {
   "attachments": {},
   "cell_type": "markdown",
   "metadata": {},
   "source": [
    "Baseline parameters are: \n",
    "\n",
    "- $\\rho = 0.90$\n",
    "- $\\iota = 0.01$\n",
    "- $\\sigma_{\\epsilon} = 0.10$\n",
    "- $R = \\left(1+0.01\\right)^{1/12}$"
   ]
  },
  {
   "attachments": {},
   "cell_type": "markdown",
   "metadata": {},
   "source": [
    "**Question 2:** Calculate $H$ if the policy  $\\ell_{t}=\\left(\\frac{(1-\\eta)\\kappa_{t}}{w}\\right)^{\\frac{1}{\\eta}}$ from question 1 is followed. Choose $K$ so the approximation is good enough to not affect your results substantially."
   ]
  },
  {
   "cell_type": "code",
   "execution_count": 22,
   "metadata": {},
   "outputs": [],
   "source": [
    "# write your code here "
   ]
  },
  {
   "attachments": {},
   "cell_type": "markdown",
   "metadata": {},
   "source": [
    "Next, we consider policies on the form:\n",
    "\n",
    "$$\n",
    "\n",
    "\\ell_{t}=\\begin{cases}\n",
    "\\ell_t^{\\ast}  & \\text{if }\\left|\\ell_{t-1}-\\ell_t^{\\ast} \\right|>\\Delta\\\\\n",
    "\\ell_{t-1} & \\text{else }\n",
    "\\end{cases}\n",
    "\\\\\n",
    "\\text{where}\\,\\,\\ell_t^{\\ast} = \\left(\\frac{(1-\\eta)\\kappa_{t}}{w}\\right)^{\\frac{1}{\\eta}} \\\\\n",
    "\n",
    "$$\n",
    "With $\\Delta \\geq 0$ and $\\Delta = 0$ being the previous policy.\n"
   ]
  },
  {
   "attachments": {},
   "cell_type": "markdown",
   "metadata": {},
   "source": [
    "\n",
    "**Question 3:** Calculate $H$ if the policy above was followed with $\\Delta = 0.05$. Does it improve profitability?"
   ]
  },
  {
   "cell_type": "code",
   "execution_count": 23,
   "metadata": {},
   "outputs": [],
   "source": [
    "# write your code here"
   ]
  },
  {
   "attachments": {},
   "cell_type": "markdown",
   "metadata": {},
   "source": [
    "**Question 4:** Find the optimal $\\Delta$ maximizing $H$. Illustrate your result."
   ]
  },
  {
   "cell_type": "code",
   "execution_count": 24,
   "metadata": {},
   "outputs": [],
   "source": [
    "# write your code here"
   ]
  },
  {
   "attachments": {},
   "cell_type": "markdown",
   "metadata": {},
   "source": [
    "\n",
    "**Question 5:** Suggest an alternative policy you believe might improve profitability. Implement and test your policy.\n",
    "\n"
   ]
  },
  {
   "cell_type": "code",
   "execution_count": 25,
   "metadata": {},
   "outputs": [],
   "source": [
    "# write your code here"
   ]
  },
  {
   "attachments": {},
   "cell_type": "markdown",
   "metadata": {},
   "source": [
    "## 3. <a id='toc3_'></a>[Problem 3: Global optimizer with refined multi-start](#toc0_)"
   ]
  },
  {
   "attachments": {},
   "cell_type": "markdown",
   "metadata": {},
   "source": [
    "We consider the Griewank function:\n",
    "\n",
    "$$ f(\\boldsymbol{x}) = \\sum^n_{i=1} \\frac{x^2_i}{4000}-\\prod^n_{i=1}\\cos\\left(\\frac{x_i}{\\sqrt{i}}\\right)+1$$\n",
    "\n",
    "The **global minimum** of this function is $f(0,0) = 0$ (remember: $\\cos(0)=1$).<br>\n",
    "But the function also have a lot of **local minima**."
   ]
  },
  {
   "cell_type": "code",
   "execution_count": 26,
   "metadata": {},
   "outputs": [],
   "source": [
    "def griewank(x):\n",
    "    return griewank_(x[0],x[1])\n",
    "    \n",
    "def griewank_(x1,x2):\n",
    "    A = x1**2/4000 + x2**2/4000\n",
    "    B = np.cos(x1/np.sqrt(1))*np.cos(x2/np.sqrt(2))\n",
    "    return A-B+1"
   ]
  },
  {
   "attachments": {},
   "cell_type": "markdown",
   "metadata": {},
   "source": [
    "A **refined global optimizer with multi-start** is:\n",
    "\n",
    "1. Choose *bounds* for $\\mathbf{x}$ and *tolerance* $\\tau > 0$.\n",
    "2. Choose number of *warm-up iterations*, $\\underline{K} > 0$ and *maximum number of iterations*, $K > \\underline{K}$.\n",
    "3. In each iteration for $k \\in \\{0,1,\\dots,K-1\\}$:\n",
    "\n",
    "    A. Draw random $\\mathbf{x}^k$ uniformly within chosen bounds.\n",
    "\n",
    "    B. If $k < \\underline{K}$ go to step E.\n",
    "\n",
    "    C. Calculate $\\chi^k = 0.50\\cdot\\frac{2}{1+\\exp((k-\\underline{K})/100)}$  \n",
    "\n",
    "    D. Set $\\mathbf{x}^{k0} = \\chi^k \\mathbf{x}^k + (1-\\chi^k)\\mathbf{x}^{\\ast} $\n",
    "\n",
    "    E. Run optimizer with $\\mathbf{x}^{k0}$ as initial guess and $\\mathbf{x}^{k\\ast}$ as result.\n",
    "\n",
    "    F. Set $\\mathbf{x}^{\\ast} = \\mathbf{x}^{k\\ast}$ if $k = 0$ or $f(\\mathbf{x}^{k\\ast}) < f(\\mathbf{x}^{\\ast})$\n",
    "\n",
    "    G. If $f(\\mathbf{x}^{\\ast}) < \\tau$ go to step 4.\n",
    "\n",
    "4. Return the result $\\mathbf{x}^{\\ast}$."
   ]
  },
  {
   "attachments": {},
   "cell_type": "markdown",
   "metadata": {},
   "source": [
    "As settings we choose:\n",
    "\n",
    "* $x_1,x_2 \\in  [-600,600]$\n",
    "* $\\tau = 10^{-8}$\n",
    "* $\\underline{K}=10$\n",
    "* $K=1000$\n",
    "\n",
    "The optimizer in Step 3.E is `BFGS` with a tolerance of $\\tau$."
   ]
  },
  {
   "attachments": {},
   "cell_type": "markdown",
   "metadata": {},
   "source": [
    "**Question 1:** Implement the refined global optimizer with multi-start. Illustrate how the effective initial guesses $\\mathbf{x}^{k0}$ vary with the iteration counter $k$."
   ]
  },
  {
   "cell_type": "code",
   "execution_count": 27,
   "metadata": {},
   "outputs": [],
   "source": [
    "import numpy as np\n",
    "from scipy.optimize import minimize\n",
    "\n",
    "def griewank(x):\n",
    "    return griewank_(x[0],x[1])\n",
    "    \n",
    "def griewank_(x1,x2):\n",
    "    A = x1**2/4000 + x2**2/4000\n",
    "    B = np.cos(x1/np.sqrt(1))*np.cos(x2/np.sqrt(2))\n",
    "    return A-B+1\n",
    "\n",
    "# 1.: Bounds for x and tolerance tau\n",
    "bounds = [(-600, 600), (-600, 600)]\n",
    "tau = 1e-8\n",
    "\n",
    "# 2.: Warm-up and maximum number of iterations\n",
    "K_wu = 10\n",
    "K_max = 1000\n",
    "\n",
    "def refined_global_optimizer(bounds, tol, K_wu, K_max):\n",
    "    x_star = None\n",
    "    f_star = None\n",
    "\n",
    "    # 3.:\n",
    "    for k in range(K_max):\n",
    "        # 3.A: A random x_k is drawn uniformly within the bounds\n",
    "        x_k = np.random.uniform(bounds[0], bounds[1])\n",
    "        \n",
    "        # 3.B-3.D: Iteration counter k\n",
    "        if k >= K_wu:\n",
    "            chi_k = 0.50*(2/(1+np.exp((k-K_wu)/100)))\n",
    "            # The initial guess x_k0: based on the random x_k and previous best solution x_star:\n",
    "            x_k0 = chi_k*x_k+(1-chi_k)*x_star \n",
    "        else:\n",
    "            x_k0 = x_k\n",
    "        \n",
    "        # 3.E: Optimizer\n",
    "        result = minimize(griewank, x_k0, method='BFGS', tol=tol)\n",
    "        x_k_star = result.x\n",
    "        f_k_star = result.fun\n",
    "        \n",
    "        # 3.F: Solution\n",
    "        if k == 0 or f_k_star < f_star:\n",
    "            x_star = x_k_star\n",
    "            f_star = f_k_star\n",
    "        \n",
    "        # 3.G: if inside the tolerance value --> step 4\n",
    "        if abs(f_star - tau) <= tau:\n",
    "            break\n",
    "\n",
    "    # 4: Result\n",
    "    return x_star\n",
    "\n",
    "optimal_solution = refined_global_optimizer(bounds, tau, K_wu, K_max)\n"
   ]
  },
  {
   "cell_type": "code",
   "execution_count": 28,
   "metadata": {},
   "outputs": [
    {
     "name": "stdout",
     "output_type": "stream",
     "text": [
      "Optimal x1 = -599.701825855762\n",
      "Optimal x2 = 599.1294841177864\n",
      "Minimum value of the Griewank function: 179.80828844423647\n"
     ]
    }
   ],
   "source": [
    "# Results\n",
    "print(\"Optimal x1 =\", optimal_solution[0])\n",
    "print(\"Optimal x2 =\", optimal_solution[1])\n",
    "print(\"Minimum value of the Griewank function:\", griewank(optimal_solution))"
   ]
  },
  {
   "cell_type": "code",
   "execution_count": 29,
   "metadata": {},
   "outputs": [
    {
     "data": {
      "image/png": "[encoded data removed]",
      "text/plain": [
       "<Figure size 640x480 with 1 Axes>"
      ]
     },
     "metadata": {},
     "output_type": "display_data"
    }
   ],
   "source": [
    "import numpy as np\n",
    "import matplotlib.pyplot as plt\n",
    "\n",
    "# Define the bounds, tolerance, and iteration settings\n",
    "bounds = [(-600, 600), (-600, 600)]\n",
    "tau = 1e-8\n",
    "K_warmup = 10\n",
    "K_max = 1000\n",
    "\n",
    "# Initialize arrays to store the effective initial guesses\n",
    "x0_values = []\n",
    "\n",
    "# Iterate over k from 0 to K_max-1\n",
    "for k in range(K_max):\n",
    "    # Draw random x_k uniformly within bounds\n",
    "    x_k = np.random.uniform(bounds[0], bounds[1])\n",
    "    \n",
    "    # Calculate chi_k\n",
    "    if k >= K_warmup:\n",
    "        chi_k = 0.50 * (2 / (1 + np.exp((k - K_warmup) / 100)))\n",
    "    else:\n",
    "        chi_k = 0\n",
    "    \n",
    "    # Calculate the effective initial guess x_k0\n",
    "    x_k0 = chi_k * x_k + (1 - chi_k) * 0  # Assuming x_star is initialized as zero\n",
    "    \n",
    "    # Append x_k0 to the array\n",
    "    x0_values.append(x_k0)\n",
    "\n",
    "# Plot the variation of x_k0 with k\n",
    "plt.plot(range(K_max), x0_values)\n",
    "plt.xlabel('Iteration Counter (k)')\n",
    "plt.ylabel('Effective Initial Guess (x_k0)')\n",
    "plt.title('Variation of x_k0 with Iteration Counter')\n",
    "plt.show()\n"
   ]
  },
  {
   "attachments": {},
   "cell_type": "markdown",
   "metadata": {},
   "source": [
    "**Question 2:** Is it a better idea to set $\\underline{K} = 100$? Is the convergence faster?"
   ]
  },
  {
   "attachments": {},
   "cell_type": "markdown",
   "metadata": {},
   "source": [
    "The purpose with the warm-up iterations phase (determined by the number of $\\underline{K}$) - is to gradually transition from random initial guesses to effective initial guesses based on the previous best solution. In the warm-up phase, the algorithm does not explore the solutions without considering the previous best solutions, and only guess based on randomness. This helps with \"exploration\" and finding in a more freely search space. After the number of warm-up iterations has passed - the algorithm begin to incorporate previous best solutions ($x_{star}$) in the calculations of the effective initial guess. This enables the \"exploitation\" of the process. \n",
    "The optimal number of $\\underline{K}$ is thereby determined by a balance between exploration and explotation and depends on the complexity of the search space. \n"
   ]
  },
  {
   "cell_type": "code",
   "execution_count": 30,
   "metadata": {},
   "outputs": [
    {
     "data": {
      "image/png": "[encoded data removed]",
      "text/plain": [
       "<Figure size 640x480 with 1 Axes>"
      ]
     },
     "metadata": {},
     "output_type": "display_data"
    },
    {
     "name": "stdout",
     "output_type": "stream",
     "text": [
      "Optimal Solution with K_wu = 10\n",
      "x1 = -599.701825855762\n",
      "x2 = 599.1294841177864\n",
      "\n",
      "Optimal Solution with K_wu = 100\n",
      "x1 = -599.701825855762\n",
      "x2 = 599.1294841177864\n"
     ]
    }
   ],
   "source": [
    "def griewank(x):\n",
    "    return griewank_(x[0], x[1])\n",
    "\n",
    "def griewank_(x1, x2):\n",
    "    A = x1**2/4000 + x2**2/4000\n",
    "    B = np.cos(x1/np.sqrt(1)) * np.cos(x2/np.sqrt(2))\n",
    "    return A - B + 1\n",
    "\n",
    "# 1.: Bounds for x and tolerance tau\n",
    "bounds = [(-600, 600), (-600, 600)]\n",
    "tau = 1e-8\n",
    "\n",
    "# 2.: Warm-up and maximum number of iterations\n",
    "K_wu_1 = 10\n",
    "K_wu_2 = 100\n",
    "K_max = 1000\n",
    "\n",
    "def refined_global_optimizer(bounds, tol, K_wu, K_max):\n",
    "    x_star = None\n",
    "    f_star = None\n",
    "\n",
    "    # 3.:\n",
    "    f_values = []  # List to store objective function values for plotting\n",
    "    \n",
    "    for k in range(K_max):\n",
    "        # 3.A: A random x_k is drawn uniformly within the bounds\n",
    "        x_k = np.random.uniform(bounds[0], bounds[1])\n",
    "\n",
    "        # 3.B-3.D: Iteration counter k\n",
    "        if k >= K_wu:\n",
    "            chi_k = 0.50 * (2 / (1 + np.exp((k - K_wu) / 100)))\n",
    "            # The initial guess x_k0: based on the random x_k and previous best solution x_star:\n",
    "            x_k0 = chi_k * x_k + (1 - chi_k) * x_star\n",
    "        else:\n",
    "            x_k0 = x_k\n",
    "\n",
    "        # 3.E: Optimizer\n",
    "        result = minimize(griewank, x_k0, method='BFGS', tol=tol)\n",
    "        x_k_star = result.x\n",
    "        f_k_star = result.fun\n",
    "        \n",
    "        # Store objective function value for plotting\n",
    "        f_values.append(f_k_star)\n",
    "\n",
    "        # 3.F: Solution\n",
    "        if k == 0 or f_k_star < f_star:\n",
    "            x_star = x_k_star\n",
    "            f_star = f_k_star\n",
    "\n",
    "        # 3.G: if inside the tolerance value --> step 4\n",
    "        if abs(f_star - tau) <= tau:\n",
    "            break\n",
    "\n",
    "    # 4: Result\n",
    "    return x_star, f_values\n",
    "\n",
    "# Warm-up iterations = 10\n",
    "optimal_solution_1, f_values_1 = refined_global_optimizer(bounds, tau, K_wu_1, K_max)\n",
    "\n",
    "# Warm-up iterations = 100\n",
    "optimal_solution_2, f_values_2 = refined_global_optimizer(bounds, tau, K_wu_2, K_max)\n",
    "\n",
    "# Plot\n",
    "plt.figure()\n",
    "plt.plot(range(len(f_values_1)), f_values_1, label=\"K_wu = 10\")\n",
    "plt.plot(range(len(f_values_2)), f_values_2, label=\"K_wu = 100\")\n",
    "plt.xlabel(\"Iteration\")\n",
    "plt.ylabel(\"Objective Function Value\")\n",
    "plt.title(\"Convergence\")\n",
    "plt.ylim(min(min(f_values_1), min(f_values_2)), max(max(f_values_1), max(f_values_2))) \n",
    "plt.legend()\n",
    "plt.show()\n",
    "\n",
    "print(\"Optimal Solution with K_wu =\", K_wu_1)\n",
    "print(\"x1 =\", optimal_solution_1[0])\n",
    "print(\"x2 =\", optimal_solution_1[1])\n",
    "\n",
    "print(\"\\nOptimal Solution with K_wu =\", K_wu_2)\n",
    "print(\"x1 =\", optimal_solution_2[0])\n",
    "print(\"x2 =\", optimal_solution_2[1])\n"
   ]
  },
  {
   "attachments": {},
   "cell_type": "markdown",
   "metadata": {},
   "source": [
    "The plot suggests that there is no significant improvement from increasing the number in the warm-up phase from 10 to 100. The algorithm has already found a succesful initial guess based on the warm-up phase of 10. Moreover, as the optimal solutions for the two warm-up phases have identical results - this suggest that there is no need to increase the number of warm-up as there is no improvements in the final solution for x1 and x2.  "
   ]
  }
 ],
 "metadata": {
  "kernelspec": {
   "display_name": "Python 3.9.12",
   "language": "python",
   "name": "python3"
  },
  "language_info": {
   "codemirror_mode": {
    "name": "ipython",
    "version": 3
   },
   "file_extension": ".py",
   "mimetype": "text/x-python",
   "name": "python",
   "nbconvert_exporter": "python",
   "pygments_lexer": "ipython3",
   "version": "3.9.13"
  },
  "orig_nbformat": 4,
  "vscode": {
   "interpreter": {
    "hash": "1091f1b9584b16126d959e1e6baecccd273f82381826b825c44bca03b6114737"
   }
  }
 },
 "nbformat": 4,
 "nbformat_minor": 2
}
