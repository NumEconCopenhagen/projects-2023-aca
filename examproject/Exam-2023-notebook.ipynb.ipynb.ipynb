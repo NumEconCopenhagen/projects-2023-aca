{
 "cells": [
  {
   "attachments": {},
   "cell_type": "markdown",
   "metadata": {},
   "source": [
    "**Table of contents**<a id='toc0_'></a>    \n",
    "- 1. [Problem 1: Optimal taxation with government consumption](#toc1_)    \n",
    "- 2. [Problem 2: Labor adjustment costs](#toc2_)    \n",
    "- 3. [Problem 3: Global optimizer with refined multi-start](#toc3_)    \n",
    "\n",
    "<!-- vscode-jupyter-toc-config\n",
    "\tnumbering=true\n",
    "\tanchor=true\n",
    "\tflat=false\n",
    "\tminLevel=2\n",
    "\tmaxLevel=6\n",
    "\t/vscode-jupyter-toc-config -->\n",
    "<!-- THIS CELL WILL BE REPLACED ON TOC UPDATE. DO NOT WRITE YOUR TEXT IN THIS CELL -->"
   ]
  },
  {
   "cell_type": "code",
   "execution_count": 1,
   "metadata": {},
   "outputs": [
    {
     "name": "stderr",
     "output_type": "stream",
     "text": [
      "<frozen importlib._bootstrap>:228: RuntimeWarning: scipy._lib.messagestream.MessageStream size changed, may indicate binary incompatibility. Expected 56 from C header, got 64 from PyObject\n"
     ]
    }
   ],
   "source": [
    "import numpy as np\n",
    "import numba as nb\n",
    "from types import SimpleNamespace\n",
    "from scipy import optimize\n",
    "from scipy.optimize import minimize\n",
    "from scipy.optimize import root_scalar\n",
    "import matplotlib.pyplot as plt\n",
    "from mpl_toolkits import mplot3d\n",
    "import sympy as sm\n",
    "\n",
    "# Importing our own code\n",
    "import problem1\n",
    "import problem2\n",
    "\n",
    "# autoreload modules when code is run. Otherwise, python will not see recent changes. \n",
    "%load_ext autoreload\n",
    "%autoreload 2"
   ]
  },
  {
   "attachments": {},
   "cell_type": "markdown",
   "metadata": {},
   "source": [
    "## <a id='toc1_'></a>[Problem 1: Optimal taxation with government consumption](#toc0_)"
   ]
  },
  {
   "attachments": {},
   "cell_type": "markdown",
   "metadata": {},
   "source": [
    "\n",
    "Consider a worker choosing hours of labor, $L\\in[0,24]$, to maximize utility: \n",
    "\n",
    "$$\n",
    "\\begin{align*}\n",
    "V(w,\\tau,G)&=\\max_{L\\in[0,24]}\\ln\\left(C^{\\alpha}G^{1-\\alpha}\\right)-\\nu\\frac{L^{2}}{2}\\\\&\\text{s.t.}\\\\&C=\\kappa+(1-\\tau)wL\n",
    "\\end{align*}\n",
    "$$\n",
    "\n",
    "where \n",
    "\n",
    "* $C$ is *private* consumption with weight $\\alpha\\in(0,1)$.\n",
    "* $\\kappa > 0$ is the *free private* consumption component.\n",
    "* $C = (1-\\tau)wL$ is the *costly private* consumption component.\n",
    "* $w > 0 $ is the real wage.\n",
    "* $\\tau \\in (0,1)$ is the labor-income tax rate.\n",
    "* $G > 0 $ is *government* consumption with weight $1-\\alpha$.\n",
    "* $\\nu > 0$ is the disutility of labor scaling factor"
   ]
  },
  {
   "attachments": {},
   "cell_type": "markdown",
   "metadata": {},
   "source": [
    "\n",
    "The baseline parameters are:\n",
    "\n",
    "$$\n",
    "\\begin{align*}\n",
    "\\alpha &= 0.5\\\\\n",
    "\\kappa &= 1.0\\\\\n",
    "\\nu &= \\frac{1}{2\\cdot16^2} \\\\\n",
    "w &= 1.0 \\\\ \n",
    "\\tau &= 0.30 \\\\\n",
    "\\end{align*}\n",
    "$$"
   ]
  },
  {
   "attachments": {},
   "cell_type": "markdown",
   "metadata": {},
   "source": [
    "**Question 1:** Verify that the optimal labor supply choice is $L^{\\star}(\\tilde{w}) =\\frac{-\\kappa+\\sqrt{\\kappa^{2}+4\\frac{\\alpha}{\\nu}\\tilde{w}^2}}{2\\tilde{w}}$, where $\\tilde{w} = (1-\\tau)w$, for $G\\in\\left\\{1.0 , 2.0\\right\\}$."
   ]
  },
  {
   "attachments": {},
   "cell_type": "markdown",
   "metadata": {},
   "source": [
    "**Answer for question 1:**\n",
    "$$\n",
    "\\begin{align*}\n",
    "V(w,\\tau,G)=\\underset{L\\epsilon[0,24]}{max}ln(C^{\\alpha}G^{1-\\alpha})-\\upsilon\\frac{L^{2}}{2}\\rightarrow \\\\\n",
    "V(\\overset{\\sim}{\\omega})=ln[(\\kappa+\\overset{\\sim}{\\omega}L)^{\\alpha}G^{1-\\alpha}]-\\upsilon\\frac{L^{2}}{2}\n",
    "\\end{align*}\n",
    "$$\n",
    "FOC: \n",
    "$$\n",
    "\\begin{align*}\n",
    "\\frac{\\partial V(\\overset{\\sim}{\\omega})}{\\partial L}=0:\\rightarrow \\\\\n",
    "\\frac{1}{(\\kappa+\\overset{\\sim}{\\omega}L)^{\\alpha}G^{1-\\alpha}}\\cdot\\alpha(\\kappa+\\overset{\\sim}{\\omega}L)^{\\alpha-1}\\cdot G^{1-\\alpha}=\\upsilon L\\rightarrow \\\\\n",
    "\\frac{\\alpha\\overset{\\sim}{\\omega}(\\kappa+\\overset{\\sim}{\\omega}L)^{\\alpha-1}}{(\\kappa+\\overset{\\sim}{\\omega}L)^{\\alpha}}=\\upsilon L\\rightarrow \\\\\n",
    "\\frac{\\alpha\\overset{\\sim}{\\omega}}{\\kappa+\\overset{\\sim}{\\omega}L}=\\upsilon L\\rightarrow \\\\\n",
    "\\alpha\\overset{\\sim}{\\omega}=\\upsilon L(\\kappa+\\overset{\\sim}{\\omega}L)\\rightarrow \\\\\n",
    "\\overset{\\sim}{\\omega}L^{2}+\\kappa L-\\frac{\\alpha\\overset{\\sim}{\\omega}}{\\upsilon}=0\n",
    "\\end{align*}\n",
    "$$\n",
    "\n",
    "2nd degree polynomial:\n",
    "$$\n",
    "\\begin{align*}\n",
    "d=\\kappa^{2}+4\\cdot\\overset{\\sim}{\\omega}\\cdot\\frac{\\alpha\\overset{\\sim}{\\omega}}{\\upsilon}=\\kappa^{2}+4\\overset{\\sim}{\\omega}^{2}\\frac{\\alpha}{\\upsilon} \\\\\n",
    "L=\\frac{-\\kappa\\pm\\sqrt{\\kappa^{2}+4\\cdot\\frac{\\alpha}{\\upsilon}\\cdot\\overset{\\sim}{\\omega}^{2}}}{2\\cdot\\overset{\\sim}{\\omega}}\n",
    "\\end{align*}\n",
    "$$\n",
    "We cannot subtract as labor supply would then be negative. Hence: \n",
    "$$\n",
    "\\begin{align*}\n",
    "L(\\overset{\\sim}{\\omega})=\\frac{-\\kappa+\\sqrt{\\kappa^{2}+4\\cdot\\frac{\\alpha}{\\upsilon}\\cdot\\overset{\\sim}{\\omega}^{2}}}{2\\cdot\\overset{\\sim}{\\omega}}\n",
    "\\end{align*}\n",
    "$$\n"
   ]
  },
  {
   "attachments": {},
   "cell_type": "markdown",
   "metadata": {},
   "source": [
    "**Question 2:** Illustrate how $L^{\\star}(\\tilde{w})$ depends on $w$."
   ]
  },
  {
   "attachments": {},
   "cell_type": "markdown",
   "metadata": {},
   "source": [
    "**Answer for question 2:**"
   ]
  },
  {
   "cell_type": "code",
   "execution_count": 2,
   "metadata": {},
   "outputs": [],
   "source": [
    "alpha = 0.5\n",
    "kappa = 1.0\n",
    "upsilon = 1/(2*16**2)\n",
    "omega_vec = np.linspace(0.8,1.2,5)"
   ]
  },
  {
   "cell_type": "code",
   "execution_count": 3,
   "metadata": {},
   "outputs": [
    {
     "data": {
      "image/png": "[encoded data removed]",
      "text/plain": [
       "<Figure size 432x288 with 1 Axes>"
      ]
     },
     "metadata": {
      "needs_background": "light"
     },
     "output_type": "display_data"
    }
   ],
   "source": [
    "# Calculating labor for each omega (wage) value\n",
    "labor = {}\n",
    "for omega in omega_vec:\n",
    "    L = (-kappa + np.sqrt(kappa**2+4*alpha/upsilon*omega**2))/(2*omega)\n",
    "    labor[omega] = L\n",
    "\n",
    "# Plotting\n",
    "fig = plt.figure()\n",
    "ax = fig.add_subplot(1, 1, 1)\n",
    "\n",
    "ax.plot(omega_vec, labor.values(), color='blue')\n",
    "ax.scatter(omega_vec, labor.values(), color='blue')\n",
    "\n",
    "ax.grid()\n",
    "ax.set_xlabel(\"Wages (omega)\")\n",
    "ax.set_ylabel(\"Labor\")\n",
    "ax.set_title(\"Figur 1: Labor as a Function of Wages\")\n",
    "plt.show()\n"
   ]
  },
  {
   "attachments": {},
   "cell_type": "markdown",
   "metadata": {},
   "source": [
    "- Figure 1 illustrates that when wages increase, the labor supply increase. "
   ]
  },
  {
   "attachments": {},
   "cell_type": "markdown",
   "metadata": {},
   "source": [
    "\n",
    "We now consider a government, who chooses $\\tau$ and spend all of the taxes on government consumption so:\n",
    "\n",
    "$$\n",
    "G = \\tau w L^{\\star}((1-\\tau)w)\n",
    "$$\n",
    "\n",
    "**Question 3:** Plot the implied $L$, $G$ and worker utility for a grid of $\\tau$-values.\n"
   ]
  },
  {
   "attachments": {},
   "cell_type": "markdown",
   "metadata": {},
   "source": [
    "**Answer for question 3:**"
   ]
  },
  {
   "cell_type": "code",
   "execution_count": 4,
   "metadata": {},
   "outputs": [],
   "source": [
    "# Import taxation class model \n",
    "from problem1 import TaxationClass\n",
    "model1 = TaxationClass()\n",
    "par = model1.par\n",
    "sol = model1.sol"
   ]
  },
  {
   "cell_type": "code",
   "execution_count": 5,
   "metadata": {},
   "outputs": [
    {
     "data": {
      "image/png": "[encoded data removed]",
      "text/plain": [
       "<Figure size 864x288 with 3 Axes>"
      ]
     },
     "metadata": {
      "needs_background": "light"
     },
     "output_type": "display_data"
    }
   ],
   "source": [
    "# Solutions for different tau-values\n",
    "tau_list = [0.1, 0.2, 0.3, 0.4, 0.5, 0.6, 0.7, 0.8, 0.9, 0.99]\n",
    "labor = {}\n",
    "utility = {}\n",
    "government = {}\n",
    "\n",
    "for tau in tau_list:\n",
    "    par.tau = tau\n",
    "    opt = model1.solve()\n",
    "\n",
    "    labor[tau] = opt.labor \n",
    "    utility[tau] = model1.calc_utility(labor=opt.labor)\n",
    "    government[tau] = model1.government(labor=opt.labor)\n",
    "\n",
    "tau_values = list(labor.keys())\n",
    "labor_values = list(labor.values())\n",
    "utility_values = list(utility.values())\n",
    "government_values = list(government.values())\n",
    "\n",
    "# Plotting\n",
    "fig, axs = plt.subplots(1, 3, figsize=(12, 4))\n",
    "\n",
    "# Labor\n",
    "axs[0].plot(tau_values, labor_values, color='blue', linestyle='-', marker='o', label='Simulated')\n",
    "axs[0].set(xlabel='Tau', ylabel='Labor')\n",
    "axs[0].set_title('Figure 2: Labor')\n",
    "axs[0].grid(True)\n",
    "\n",
    "# Utility\n",
    "axs[1].plot(tau_values, utility_values, color='blue', linestyle='-', marker='o', label='Simulated')\n",
    "axs[1].set(xlabel='Tau', ylabel='Utility')\n",
    "axs[1].set_title('Figure 3: Utility')\n",
    "axs[1].grid(True)\n",
    "\n",
    "# Government revenue\n",
    "axs[2].plot(tau_values, government_values, color='blue', linestyle='-', marker='o', label='Simulated')\n",
    "axs[2].set(xlabel='Tau', ylabel='Government Revenue')\n",
    "axs[2].set_title('Figure 4: Government Revenue')\n",
    "axs[2].grid(True)\n",
    "\n",
    "fig.tight_layout()\n",
    "plt.show()\n"
   ]
  },
  {
   "attachments": {},
   "cell_type": "markdown",
   "metadata": {},
   "source": [
    "- Figure 2 illustrates a clear relationship between taxes and labor supply, showing that as taxes increase, the labor supply decreases. This suggests that higher tax rates can have a reducing effect on workforce participation. \n",
    "- In Figure 3, we observe the concave nature of workers' utility as a function of the tax rate. The graph illustrates that workers tend to experience the highest level of utility at a tax rate of approximately $\\tau$=0.5. \n",
    "- Examining Figure 4, we explore the relationship between tax rates and government revenue. The graph reveals that higher tax rates correspond to higher government revenue up until around $\\tau$=0.9. This implies that the government can generate increased funding for public expenditures by implementing higher tax rates below 0.9. \n",
    "- At this point, all things equal, the tax rate start to depress government revenue and the higher tax rates discourage work and reduce labor supply. As labor supply decreases, taxable income also decreases, resulting in lower revenue for the government."
   ]
  },
  {
   "attachments": {},
   "cell_type": "markdown",
   "metadata": {},
   "source": [
    "**Question 4:** Find the socially optimal tax rate $\\tau^{\\star}\\in(0,1)$ maximizing worker utility. Illustrate your result."
   ]
  },
  {
   "attachments": {},
   "cell_type": "markdown",
   "metadata": {},
   "source": [
    "**Answer for question 3:** \n",
    "- In the \"problem1.py\" we have created a TaxationClass that allow us to analyze the effects of different tax rates on utility maximization. The aim is to find the tax rate that maximizes utility for individuals under various scenarios.\n",
    "\n",
    "- In the TaxationClass we have built in consumption, government spending, and utility functions based on a given labor input. The consumption function takes into account the tax rate and calculates the available consumption level. The government function determines the government spending based on the tax rate and labor input. The utility function calculates the utility of individuals based on consumption, government spending and other parameters.\n",
    "\n",
    "- To find the optimal labor input that maximizes utility, we solve by using the negative of the minimize function from scipy. By varying the tax rate as an input, the method iteratively solves for the optimal labor input and maximizes utility. The Nelder-Mead method is used for optimization, and the result is the tax rate ($\\tau$) that yields the highest utility. As per below result we find the optimal tax rate to be 0.52.\n"
   ]
  },
  {
   "cell_type": "code",
   "execution_count": 6,
   "metadata": {},
   "outputs": [
    {
     "name": "stdout",
     "output_type": "stream",
     "text": [
      "Optimization terminated successfully.\n",
      "tau_hat: 0.52\n",
      "Utility value: 1.97\n"
     ]
    }
   ],
   "source": [
    "model1.optimal_tax(do_print=True) # We negate the value in the TaxationClass because it represents a minimizer."
   ]
  },
  {
   "attachments": {},
   "cell_type": "markdown",
   "metadata": {},
   "source": [
    "A more general preference formulation for the worker is:\n",
    "\n",
    "$$\n",
    "\\begin{align*}\n",
    "\\mathcal{V}(w,\\tau,G)&=\\max_{L\\in[0,24]}\\frac{\\left[ \\left( \\alpha C^{\\frac{\\sigma-1}{\\sigma}}+(1-\\alpha) G^{\\frac{\\sigma-1}{\\sigma}} \\right)^{\\frac{\\sigma}{1-\\sigma} }\\right]^{1-\\rho}-1}{1-\\rho}- \\nu\\frac{L^{1+\\varepsilon}}{1+\\varepsilon},\\,\\,\\,\\varepsilon,\\rho,\\sigma>0,\\,\\,\\,\\rho,\\sigma\\neq1\\\\&\\text{s.t.}\\\\&C=\\kappa+(1-\\tau)wL\n",
    "\\end{align*}    \n",
    "$$\n",
    "\n",
    "Optimal labor supply is now $L^{\\star}(\\tilde{w},G)$."
   ]
  },
  {
   "attachments": {},
   "cell_type": "markdown",
   "metadata": {},
   "source": [
    "Questions 5 and 6 must be answered with the general formulation, and for 2 different set of parameters:\n",
    "\n",
    "- Set 1:  $\\sigma = 1.001$, $\\rho = 1.001$ and $\\varepsilon = 1.0$.\n",
    "- Set 2:  $\\sigma = 1.5$, $\\rho = 1.5$ and $\\varepsilon = 1.0 $."
   ]
  },
  {
   "attachments": {},
   "cell_type": "markdown",
   "metadata": {},
   "source": [
    "**Question 5:** Find the $G$ that solves $G = \\tau w L^{\\star}((1-\\tau)w,G)$ using the $\\tau$ found in question 4.\n",
    "\n",
    "*Hint: First write code that solves the worker problem for given values of $G$ and $\\tau$. Then find the correct G based on this.*"
   ]
  },
  {
   "attachments": {},
   "cell_type": "markdown",
   "metadata": {},
   "source": [
    "**Answer for question 5:**"
   ]
  },
  {
   "cell_type": "code",
   "execution_count": 7,
   "metadata": {},
   "outputs": [],
   "source": [
    "# Model based on set 1 parameters and optimal tax from question 4\n",
    "from problem1 import TaxationClass\n",
    "model1_new1 = TaxationClass()\n",
    "par = model1_new1.par\n",
    "sol = model1_new1.sol\n",
    "model1_new1.par.sigma = 1.001\n",
    "model1_new1.par.rho = 1.001\n",
    "model1_new1.par.tau = 0.5226"
   ]
  },
  {
   "cell_type": "code",
   "execution_count": 8,
   "metadata": {},
   "outputs": [
    {
     "name": "stdout",
     "output_type": "stream",
     "text": [
      "Set 1: \n",
      "Optimal Labor:       22.11\n",
      "Utility:             1.97\n",
      "Government Revenue:  11.55\n"
     ]
    }
   ],
   "source": [
    "opt_new1 = model1_new1.solve()\n",
    "labor_new1 = opt_new1.labor \n",
    "utility_new1 = model1_new1.calc_utility(opt_new1.labor)\n",
    "government_new1 = model1_new1.government(opt_new1.labor)\n",
    "\n",
    "print(\"Set 1: \")\n",
    "print(\"Optimal Labor:       {:.2f}\".format(labor_new1))\n",
    "print(\"Utility:             {:.2f}\".format(utility_new1))\n",
    "print(\"Government Revenue:  {:.2f}\".format(government_new1))"
   ]
  },
  {
   "cell_type": "code",
   "execution_count": 9,
   "metadata": {},
   "outputs": [],
   "source": [
    "# Model based on set 2 parameters and optimal tax from question 4\n",
    "from problem1 import TaxationClass\n",
    "model1_new2 = TaxationClass()\n",
    "par = model1_new2.par\n",
    "sol = model1_new2.sol\n",
    "model1_new2.par.sigma = 1.5\n",
    "model1_new2.par.rho = 1.5\n",
    "model1_new2.par.tau = 0.5226"
   ]
  },
  {
   "cell_type": "code",
   "execution_count": 10,
   "metadata": {},
   "outputs": [
    {
     "name": "stdout",
     "output_type": "stream",
     "text": [
      "Set 2: \n",
      "Optimal Labor:       13.35\n",
      "Utility:             1.08\n",
      "Government Revenue:  6.97\n"
     ]
    }
   ],
   "source": [
    "opt_new2 = model1_new2.solve()\n",
    "labor_new2 = opt_new2.labor \n",
    "utility_new2 = model1_new2.calc_utility(opt_new2.labor)\n",
    "government_new2 = model1_new2.government(opt_new2.labor)\n",
    "\n",
    "print(\"Set 2: \")\n",
    "print(\"Optimal Labor:       {:.2f}\".format(labor_new2))\n",
    "print(\"Utility:             {:.2f}\".format(utility_new2))\n",
    "print(\"Government Revenue:  {:.2f}\".format(government_new2))"
   ]
  },
  {
   "attachments": {},
   "cell_type": "markdown",
   "metadata": {},
   "source": [
    "- The optimal labor, utility and government revenue decreases as a result changing the parameters from set 1 to set 2. The intuition from this is the parameter values in set 1: $\\sigma = 1.001$, $\\rho = 1.001$, and $\\varepsilon = 1.0$ approach values very close to 1, which is the characteristic of a Cobb-Douglas function. \n",
    "- A Cobb-Douglas utility function exhibits constant elasticity of substitution and constant returns to scale, where the marginal rates of substitution and transformation are constant. \n",
    "\n",
    "- In Set 2, the parameter values $\\sigma = 1.5$, $\\rho = 1.5$, and $\\varepsilon = 1.0$ indicate a CES utility function. This allows for varying degrees of substitutability between different inputs, wherefor the labor supply elasticity is higher than in a Cobb-Douglas function. \n",
    "- The higher values of $\\sigma$ and $\\rho$ indicates a higher degree of substitution between labor and government consumption, resulting in the lower labor supply, utility, and government revenue compared to Set 1.\n"
   ]
  },
  {
   "attachments": {},
   "cell_type": "markdown",
   "metadata": {},
   "source": [
    "**Question 6:** Find the socially optimal tax rate, $\\tau^{\\star}$, maximizing worker utility, while keeping $G = \\tau w L^{\\star}((1-\\tau)w,G)$."
   ]
  },
  {
   "cell_type": "code",
   "execution_count": 11,
   "metadata": {},
   "outputs": [
    {
     "name": "stdout",
     "output_type": "stream",
     "text": [
      "Set 1: \n",
      "Optimization terminated successfully.\n",
      "tau_hat: 0.52\n",
      "Utility value: 1.97\n"
     ]
    }
   ],
   "source": [
    "print(\"Set 1: \")\n",
    "model1_new1.optimal_tax(do_print=True) "
   ]
  },
  {
   "cell_type": "code",
   "execution_count": 12,
   "metadata": {},
   "outputs": [
    {
     "name": "stdout",
     "output_type": "stream",
     "text": [
      "Set 2: \n",
      "Optimization terminated successfully.\n",
      "tau_hat: 0.54\n",
      "Utility value: 1.08\n"
     ]
    }
   ],
   "source": [
    "print(\"Set 2: \")\n",
    "model1_new2.optimal_tax(do_print=True) "
   ]
  },
  {
   "attachments": {},
   "cell_type": "markdown",
   "metadata": {},
   "source": [
    "**Answer for question 6:**\n",
    "- We notice that the optimal tax rate with Set 1 parameters is 0.52 and thereby identical with the taxrate from the baseline model. The same for the utility value. This can be attributed to the fact that the parameters are approximately the same. \n",
    "- In the model with Set 2, individuals become more sensitive to changes in the relative prices between consumption and working/or not working. \n",
    "- This increased sensitivity leads to a higher degree of substitution between labor and government consumption, resulting in a lower optimal tax rate and lower utility value compared to the baseline model. \n",
    "- Additionally, individuals in Set 2 are more sensitive to changes in the tax rate, which influences their labor supply decisions and consequently their utility."
   ]
  },
  {
   "attachments": {},
   "cell_type": "markdown",
   "metadata": {},
   "source": [
    "## <a id='toc2_'></a>[Problem 2: Labor adjustment costs](#toc0_)"
   ]
  },
  {
   "attachments": {},
   "cell_type": "markdown",
   "metadata": {},
   "source": [
    "You own a hair salon. You employ hairdressers, $\\ell_t$, to produce haircuts, $y_t = \\ell_t$.\n",
    "\n",
    "The wage for each haridresser is $w$.\n",
    "\n",
    "The demand for haircuts implies that the price of haircuts you can charge is $p_t = \\kappa_t y_t^{-\\eta}$, where $\\kappa_t$ is a demand-shock and $\\eta \\in (0,1)$ measures the elasticity of demand.\n",
    "\n",
    "Profits are:\n",
    "\n",
    "$$\n",
    "\\Pi_t = p_t y_t - w \\ell_t = \\kappa_t \\ell_t^{1-\\eta} - w \\ell_t\n",
    "$$"
   ]
  },
  {
   "attachments": {},
   "cell_type": "markdown",
   "metadata": {},
   "source": [
    "Baseline parameters are:\n",
    "- $\\eta = 0.5$\n",
    "- $w = 1.0$"
   ]
  },
  {
   "attachments": {},
   "cell_type": "markdown",
   "metadata": {},
   "source": [
    "**Question 1:** Verify numerically that $\\ell_{t}=\\left(\\frac{(1-\\eta)\\kappa_{t}}{w}\\right)^{\\frac{1}{\\eta}}$ maximises profits, for $\\kappa\\in\\left\\{1.0 , 2.0\\right\\}$."
   ]
  },
  {
   "cell_type": "markdown",
   "metadata": {},
   "source": [
    "We use sympa to verify the term that maximizes profits. "
   ]
  },
  {
   "cell_type": "code",
   "execution_count": 13,
   "metadata": {},
   "outputs": [],
   "source": [
    "eta = sm.symbols('eta')\n",
    "w = sm.symbols('w')\n",
    "kappa = sm.symbols('kappa_t')\n",
    "l = sm.symbols('l_t') \n",
    "Pi = sm.symbols('\\prod')"
   ]
  },
  {
   "cell_type": "code",
   "execution_count": 14,
   "metadata": {},
   "outputs": [
    {
     "data": {
      "text/latex": [
       "$\\displaystyle \\left(\\frac{\\kappa_{t} \\left(1 - \\eta\\right)}{w}\\right)^{\\frac{1}{\\eta}}$"
      ],
      "text/plain": [
       "(kappa_t*(1 - eta)/w)**(1/eta)"
      ]
     },
     "execution_count": 14,
     "metadata": {},
     "output_type": "execute_result"
    }
   ],
   "source": [
    "objective = kappa*l**(1-eta) -(w*l)\n",
    "foc = sm.diff(objective,l)\n",
    "sol = sm.solve(sm.Eq(foc,0), l)\n",
    "sol[0]"
   ]
  },
  {
   "cell_type": "markdown",
   "metadata": {},
   "source": [
    "We define a firm function to determine labor, price and profits when $\\kappa$=1 and $\\kappa$=2. "
   ]
  },
  {
   "cell_type": "code",
   "execution_count": 15,
   "metadata": {},
   "outputs": [],
   "source": [
    "# Find numerical answers\n",
    "def firm(eta,w,kappa):\n",
    "    \n",
    "    p = lambda l: kappa*(l**-eta)\n",
    "    obj = lambda l: -(p(l)*l-w*l)\n",
    "    x0 = [0.5]\n",
    "    res = optimize.minimize(obj,x0,bounds=((0,None),),method='L-BFGS-B')\n",
    "\n",
    "    # b. save\n",
    "    l_star = res.x[0]\n",
    "    p_star = p(l_star)\n",
    "    Pi = (p_star*l_star) - w*l_star\n",
    "\n",
    "    return l_star, p_star, Pi"
   ]
  },
  {
   "cell_type": "code",
   "execution_count": 16,
   "metadata": {},
   "outputs": [
    {
     "name": "stdout",
     "output_type": "stream",
     "text": [
      "kappa = 1.00 -> l = 0.25,  p = 2.00, Pi = 0.25\n",
      "kappa = 2.00 -> l = 1.00,  p = 2.00, Pi = 1.00\n"
     ]
    }
   ],
   "source": [
    "for kappa in [1.0,2.0]:\n",
    "    l,p,Pi = firm(0.5,1.0,kappa)\n",
    "    print(f'kappa = {kappa:.2f} -> l = {l:.2f},  p = {p:.2f}, Pi = {Pi:.2f}')"
   ]
  },
  {
   "attachments": {},
   "cell_type": "markdown",
   "metadata": {},
   "source": [
    "We now consider a *dynamic* version of the model.\n",
    "\n",
    "* The demand-shock is a so-called AR(1) in logs, \n",
    "\n",
    "$$\n",
    "\\log \\kappa_{t} = \\rho \\log \\kappa_{t-1} + \\epsilon_{t},\\,\\,\\, \\epsilon_{t+1} \\sim \\mathcal{N}(-0.5\\sigma_{\\epsilon}^2,\\sigma_{\\epsilon})\n",
    "$$\n",
    "\n",
    "* Any hiring or firing implies a fixed adjustment cost, $\\iota > 0 $.\n",
    "* Future profits are discounted with a monthly factor of $R \\in (0,1)$.\n",
    "\n",
    "The initial demand shock is $\\kappa_{-1} = 1$ and the planning horizon is 10 years, i.e. 120 months so $t \\in \\{0,1,2,\\dots,119\\}$. Initially you don't have any employees, $\\ell_{-1}=0$"
   ]
  },
  {
   "attachments": {},
   "cell_type": "markdown",
   "metadata": {},
   "source": [
    "\n",
    "The *ex post* value of the salon is *conditional* on the shock series is:\n",
    "\n",
    "$$\n",
    "h(\\epsilon_0,\\epsilon_1,\\dots,\\epsilon_{119}) = \\left[\\sum_{t=0}^{119}R^{-t}\\left[\\kappa_{t}\\ell_{t}^{1-\\eta}-w\\ell_{t}-\\boldsymbol{1}_{\\ell_{t}\\neq\\ell_{t-1}}\\iota\\right]\\right]\n",
    "$$\n",
    "\n",
    "The *ex ante* expected value of the salon can be approximated by\n",
    "\n",
    "$$\n",
    "H = \\mathbb{E}[h(\\epsilon_0,\\epsilon_1,\\dots,\\epsilon_{119})] \\approx \\frac{1}{K}\\sum_{k=0}^{K} h(\\epsilon_0^k,\\epsilon_1^k,\\dots,\\epsilon_{119}^k)\n",
    "$$\n",
    "\n",
    "where each $k\\in\\{0,1,\\dots,K-1\\}$ is a random shock series. Maximizing profitability means maximizing $H$.\n"
   ]
  },
  {
   "attachments": {},
   "cell_type": "markdown",
   "metadata": {},
   "source": [
    "Baseline parameters are: \n",
    "\n",
    "- $\\rho = 0.90$\n",
    "- $\\iota = 0.01$\n",
    "- $\\sigma_{\\epsilon} = 0.10$\n",
    "- $R = \\left(1+0.01\\right)^{1/12}$"
   ]
  },
  {
   "attachments": {},
   "cell_type": "markdown",
   "metadata": {},
   "source": [
    "**Question 2:** Calculate $H$ if the policy  $\\ell_{t}=\\left(\\frac{(1-\\eta)\\kappa_{t}}{w}\\right)^{\\frac{1}{\\eta}}$ from question 1 is followed. Choose $K$ so the approximation is good enough to not affect your results substantially."
   ]
  },
  {
   "attachments": {},
   "cell_type": "markdown",
   "metadata": {},
   "source": [
    "We have set up the code to solve this problem in the py-file \"problem 2.\" For full documentation, see this file.\n",
    "We have done the following: \n",
    "\n",
    "-  Defined a class demandclass with 5 sub functions:\n",
    "     1. Define parameters\n",
    "     2. Defined the kappa (demand shock function)\n",
    "     3. Defined  the policy function\n",
    "     4. Defined the profit function\n",
    "     5. Defined a simulation function in which we calculate the ex ante expected value of the salon. \n",
    "     \n",
    "- In the simulation function, we calculate profits in each period $t$ for K iterations with different $\\epsilon$-values. We first sum over the $t$ periods and take the average for the $K$ iterations. \n",
    "-  NOTE: We do not think that our results in the following are correct. First of all, we are unsure of how to incorperate logs and exponentials in an AR(1)-process. We think that as $\\kappa$ is log-normal, we need to take the exponential to the right hand side of the AR(1)-equation. As logs and exponentials cancel each other out, we have not done antyhing to the $\\kappa_{t-1}$-term but just taken an exponential to the $\\epsilon_{t}$-term.\n",
    "\n",
    "- I.e., we conduct a transformation for the AR(1) process in logs as follows: \n",
    "   1) $\\log \\kappa_{t} = \\rho \\log \\kappa_{t-1} + \\epsilon_{t}$. \n",
    "   2) To obtain the level form of $\\kappa_t$, we need to take the exponential of both sides: $\\exp(\\log \\kappa_{t}) = \\exp(\\rho \\log \\kappa_{t-1} + \\epsilon_{t})$\n",
    "   3) Simplifying, we use the property that $\\exp(\\log x) = x$: $\\kappa_{t} = \\exp(\\rho \\log \\kappa_{t-1}) \\cdot \\exp(\\epsilon_{t})$\n",
    "   4) Since $\\exp(\\rho \\log \\kappa_{t-1})$ is equivalent to $(\\exp(\\log \\kappa_{t-1}))^{\\rho}$, which is just $\\kappa_{t-1}^{\\rho}$, the equation becomes: $\\kappa_{t} = \\kappa_{t-1}^{\\rho} \\cdot \\exp(\\epsilon_{t})$\n",
    "   5) So the level form of the AR(1) process is: $\\kappa_{t} = \\rho \\cdot \\kappa_{t-1} + \\exp(\\epsilon_{t})$"
   ]
  },
  {
   "cell_type": "code",
   "execution_count": 17,
   "metadata": {},
   "outputs": [],
   "source": [
    "from problem2 import DemandClass\n",
    "model2_t = DemandClass()"
   ]
  },
  {
   "cell_type": "code",
   "execution_count": 18,
   "metadata": {},
   "outputs": [
    {
     "name": "stdout",
     "output_type": "stream",
     "text": [
      "Salon expected value with K = 5000 iterations: 2656.4\n"
     ]
    }
   ],
   "source": [
    "model2_t.simulate(do_print=True)"
   ]
  },
  {
   "cell_type": "markdown",
   "metadata": {},
   "source": [
    "Again, we do not think this result is correct. It does not make sense that is it this large based on our result in the numerical solution in question 1. Intutively, we should expect the profits to be around 0.25*120 = 30. We tried but could not figure out where we went wrong. "
   ]
  },
  {
   "attachments": {},
   "cell_type": "markdown",
   "metadata": {},
   "source": [
    "Next, we consider policies on the form:\n",
    "\n",
    "$$\n",
    "\n",
    "\\ell_{t}=\\begin{cases}\n",
    "\\ell_t^{\\ast}  & \\text{if }\\left|\\ell_{t-1}-\\ell_t^{\\ast} \\right|>\\Delta\\\\\n",
    "\\ell_{t-1} & \\text{else }\n",
    "\\end{cases}\n",
    "\\\\\n",
    "\\text{where}\\,\\,\\ell_t^{\\ast} = \\left(\\frac{(1-\\eta)\\kappa_{t}}{w}\\right)^{\\frac{1}{\\eta}} \\\\\n",
    "\n",
    "$$\n",
    "With $\\Delta \\geq 0$ and $\\Delta = 0$ being the previous policy.\n"
   ]
  },
  {
   "attachments": {},
   "cell_type": "markdown",
   "metadata": {},
   "source": [
    "\n",
    "**Question 3:** Calculate $H$ if the policy above was followed with $\\Delta = 0.05$. Does it improve profitability?"
   ]
  },
  {
   "cell_type": "markdown",
   "metadata": {},
   "source": [
    "We implement a parameter self.q_3. When this takes the value 0, we use the original policy function. When it takes any other value (e.g.1), te new policy reform is implemented and reilies on the size of a new parameter $\\Delta$ = 0.05. \n",
    "We run and simulate the model again. "
   ]
  },
  {
   "cell_type": "code",
   "execution_count": 27,
   "metadata": {},
   "outputs": [],
   "source": [
    "# write your code here\n",
    "model2_new = DemandClass()\n",
    "model2_new.q_3 = 1.0"
   ]
  },
  {
   "cell_type": "code",
   "execution_count": 28,
   "metadata": {},
   "outputs": [
    {
     "name": "stdout",
     "output_type": "stream",
     "text": [
      "Salon expected value with K = 5000 iterations: 2656.6\n"
     ]
    }
   ],
   "source": [
    "# write your code here\n",
    "model2_new.simulate(do_print=True)"
   ]
  },
  {
   "cell_type": "markdown",
   "metadata": {},
   "source": [
    "We see a small increase in profitability under the new policy function. Even though the numerical result is probably incorrect, we find that it does make sense for profitability to be higher in the new regime. The policy seems to take previous periods more into account when making decisions in the current period which then generates greater profits. "
   ]
  },
  {
   "attachments": {},
   "cell_type": "markdown",
   "metadata": {},
   "source": [
    "**Question 4:** Find the optimal $\\Delta$ maximizing $H$. Illustrate your result."
   ]
  },
  {
   "cell_type": "markdown",
   "metadata": {},
   "source": [
    "Method for this question: \n",
    "\n",
    "1. Simulate the model for a list of $\\Delta$-values \n",
    "2. Plot H for different $\\Delta$-values and spot the area of the maximum value\n",
    "3. Use numpy to find the $\\Delta$-value that maximizes the value of H\n",
    "4. We plot the values of H for $\\Delta$-values"
   ]
  },
  {
   "cell_type": "code",
   "execution_count": 33,
   "metadata": {},
   "outputs": [
    {
     "data": {
      "image/png": "[encoded data removed]",
      "text/plain": [
       "<Figure size 432x288 with 1 Axes>"
      ]
     },
     "metadata": {
      "needs_background": "light"
     },
     "output_type": "display_data"
    },
    {
     "name": "stdout",
     "output_type": "stream",
     "text": [
      "Optimal Delta: 0.7\n",
      "Maximized H: 2656.8\n"
     ]
    }
   ],
   "source": [
    "# Define the range of delta values to test\n",
    "delta_values = np.linspace(0, 1, 10)\n",
    "\n",
    "# Find the optimal delta\n",
    "optimal_delta, optimal_H = model2_new.find_optimal_delta(delta_values)\n",
    "\n",
    "print(\"Optimal Delta:\", round(optimal_delta, 1))\n",
    "print(\"Maximized H:\", round(optimal_H, 1))"
   ]
  },
  {
   "attachments": {},
   "cell_type": "markdown",
   "metadata": {},
   "source": [
    "\n",
    "**Question 5:** Suggest an alternative policy you believe might improve profitability. Implement and test your policy.\n"
   ]
  },
  {
   "cell_type": "markdown",
   "metadata": {},
   "source": [
    "- An alternative policy that potential could improve profitability could be to increase the employment level by 5 pct. of the profit difference from period t-1 to period t if profit is positive. \n",
    "- However, if profit is decreasing, the employment level could be cut by 2 pct. of the profit difference from the previos period.  \n",
    "- This policy could contribute to ensuring that there is a balance between positive and negative profit and the adjustment of employment level."
   ]
  },
  {
   "attachments": {},
   "cell_type": "markdown",
   "metadata": {},
   "source": [
    "## <a id='toc3_'></a>[Problem 3: Global optimizer with refined multi-start](#toc0_)"
   ]
  },
  {
   "attachments": {},
   "cell_type": "markdown",
   "metadata": {},
   "source": [
    "We consider the Griewank function:\n",
    "\n",
    "$$ f(\\boldsymbol{x}) = \\sum^n_{i=1} \\frac{x^2_i}{4000}-\\prod^n_{i=1}\\cos\\left(\\frac{x_i}{\\sqrt{i}}\\right)+1$$\n",
    "\n",
    "The **global minimum** of this function is $f(0,0) = 0$ (remember: $\\cos(0)=1$).<br>\n",
    "But the function also have a lot of **local minima**."
   ]
  },
  {
   "cell_type": "code",
   "execution_count": 22,
   "metadata": {},
   "outputs": [],
   "source": [
    "def griewank(x):\n",
    "    return griewank_(x[0],x[1])\n",
    "    \n",
    "def griewank_(x1,x2):\n",
    "    A = x1**2/4000 + x2**2/4000\n",
    "    B = np.cos(x1/np.sqrt(1))*np.cos(x2/np.sqrt(2))\n",
    "    return A-B+1"
   ]
  },
  {
   "attachments": {},
   "cell_type": "markdown",
   "metadata": {},
   "source": [
    "A **refined global optimizer with multi-start** is:\n",
    "\n",
    "1. Choose *bounds* for $\\mathbf{x}$ and *tolerance* $\\tau > 0$.\n",
    "2. Choose number of *warm-up iterations*, $\\underline{K} > 0$ and *maximum number of iterations*, $K > \\underline{K}$.\n",
    "3. In each iteration for $k \\in \\{0,1,\\dots,K-1\\}$:\n",
    "\n",
    "    A. Draw random $\\mathbf{x}^k$ uniformly within chosen bounds.\n",
    "\n",
    "    B. If $k < \\underline{K}$ go to step E.\n",
    "\n",
    "    C. Calculate $\\chi^k = 0.50\\cdot\\frac{2}{1+\\exp((k-\\underline{K})/100)}$  \n",
    "\n",
    "    D. Set $\\mathbf{x}^{k0} = \\chi^k \\mathbf{x}^k + (1-\\chi^k)\\mathbf{x}^{\\ast} $\n",
    "\n",
    "    E. Run optimizer with $\\mathbf{x}^{k0}$ as initial guess and $\\mathbf{x}^{k\\ast}$ as result.\n",
    "\n",
    "    F. Set $\\mathbf{x}^{\\ast} = \\mathbf{x}^{k\\ast}$ if $k = 0$ or $f(\\mathbf{x}^{k\\ast}) < f(\\mathbf{x}^{\\ast})$\n",
    "\n",
    "    G. If $f(\\mathbf{x}^{\\ast}) < \\tau$ go to step 4.\n",
    "\n",
    "4. Return the result $\\mathbf{x}^{\\ast}$."
   ]
  },
  {
   "attachments": {},
   "cell_type": "markdown",
   "metadata": {},
   "source": [
    "As settings we choose:\n",
    "\n",
    "* $x_1,x_2 \\in  [-600,600]$\n",
    "* $\\tau = 10^{-8}$\n",
    "* $\\underline{K}=10$\n",
    "* $K=1000$\n",
    "\n",
    "The optimizer in Step 3.E is `BFGS` with a tolerance of $\\tau$."
   ]
  },
  {
   "attachments": {},
   "cell_type": "markdown",
   "metadata": {},
   "source": [
    "**Question 1:** Implement the refined global optimizer with multi-start. Illustrate how the effective initial guesses $\\mathbf{x}^{k0}$ vary with the iteration counter $k$."
   ]
  },
  {
   "attachments": {},
   "cell_type": "markdown",
   "metadata": {},
   "source": [
    "**Answer for question 1:**"
   ]
  },
  {
   "cell_type": "code",
   "execution_count": 23,
   "metadata": {},
   "outputs": [
    {
     "name": "stdout",
     "output_type": "stream",
     "text": [
      "Optimal x1 = -599.7018256702152\n",
      "Optimal x2 = 599.1294843915935\n",
      "Minimum value of the Griewank function: 179.80828844423647\n"
     ]
    }
   ],
   "source": [
    "def griewank(x):\n",
    "    return griewank_(x[0],x[1])\n",
    "    \n",
    "def griewank_(x1,x2):\n",
    "    A = x1**2/4000 + x2**2/4000\n",
    "    B = np.cos(x1/np.sqrt(1))*np.cos(x2/np.sqrt(2))\n",
    "    return A-B+1\n",
    "\n",
    "# 1.: Bounds for x and tolerance tau\n",
    "bounds = [(-600, 600), (-600, 600)]\n",
    "tau = 1e-8\n",
    "\n",
    "# 2.: Warm-up and maximum number of iterations\n",
    "K_wu = 10\n",
    "K_max = 1000\n",
    "\n",
    "def refined_global_optimizer(bounds, tol, K_wu, K_max):\n",
    "    x_star = None # My initial best solution\n",
    "    f_star = None # The function value to this best solution\n",
    "\n",
    "    # 3.:\n",
    "    for k in range(K_max):\n",
    "        # 3.A: A random x_k is drawn uniformly within the bounds\n",
    "        x_k = np.random.uniform(bounds[0], bounds[1])\n",
    "        \n",
    "        # 3.B-3.D: Iteration counter k\n",
    "        if k >= K_wu:\n",
    "            chi_k = 0.10*(2/(1+np.exp((k-K_wu)/100)))\n",
    "            # The initial guess x_k0: based on the random x_k and previous best solution x_star:\n",
    "            x_k0 = chi_k*x_k+(1-chi_k)*x_star \n",
    "        else:\n",
    "            x_k0 = x_k\n",
    "        \n",
    "        # 3.E: Optimizer\n",
    "        result = minimize(griewank, x_k0, method='BFGS', tol=tol)\n",
    "        x_k_star = result.x\n",
    "        f_k_star = result.fun\n",
    "        \n",
    "        # 3.F: Solution\n",
    "        if k == 0 or f_k_star < f_star:\n",
    "            x_star = x_k_star\n",
    "            f_star = f_k_star\n",
    "        \n",
    "        # 3.G: if inside the tolerance value --> step 4\n",
    "        if abs(f_star - tau) <= tau:\n",
    "            break\n",
    "\n",
    "    # 4: Result\n",
    "    return x_star\n",
    "\n",
    "optimal_solution = refined_global_optimizer(bounds, tau, K_wu, K_max)\n",
    "\n",
    "# Results\n",
    "print(\"Optimal x1 =\", optimal_solution[0])\n",
    "print(\"Optimal x2 =\", optimal_solution[1])\n",
    "print(\"Minimum value of the Griewank function:\", griewank(optimal_solution))\n"
   ]
  },
  {
   "attachments": {},
   "cell_type": "markdown",
   "metadata": {},
   "source": [
    "- The results of the above code suggest that a local minimum has been found, as the value of 179.8 cannot be considered close to the global minimum of 0. To find the global minimum, it is necessary to adjust the optimizer settings."
   ]
  },
  {
   "cell_type": "code",
   "execution_count": 24,
   "metadata": {},
   "outputs": [],
   "source": [
    "# Adding a warm-up phase\n",
    "bounds = [(-600, 600), (-600, 600)]\n",
    "tau = 1e-8\n",
    "K_wu1 = 10\n",
    "K_wu2 = 100\n",
    "K_max = 1000\n",
    "x0_values1 = []\n",
    "x0_values2 = []"
   ]
  },
  {
   "cell_type": "code",
   "execution_count": 25,
   "metadata": {},
   "outputs": [
    {
     "data": {
      "image/png": "[encoded data removed]",
      "text/plain": [
       "<Figure size 432x288 with 1 Axes>"
      ]
     },
     "metadata": {
      "needs_background": "light"
     },
     "output_type": "display_data"
    }
   ],
   "source": [
    "for k in range(K_max):\n",
    "    x_k = np.random.uniform(bounds[0], bounds[1])\n",
    "    chi_k1 = 0.50 * (2 / (1 + np.exp((k - K_wu1) / 100))) if k >= K_wu1 else 0\n",
    "    chi_k2 = 0.50 * (2 / (1 + np.exp((k - K_wu2) / 100))) if k >= K_wu2 else 0\n",
    "    x_k0_1 = chi_k1 * x_k\n",
    "    x_k0_2 = chi_k2 * x_k\n",
    "    x0_values1.append(x_k0_1)\n",
    "    x0_values2.append(x_k0_2)\n",
    "\n",
    "plt.plot(range(K_max), x0_values1, label='Warm-up: 10', color='blue')\n",
    "plt.plot(range(K_max), x0_values2, label='Warm-up: 100', color='red')\n",
    "plt.xlabel('Iteration Counter (k)')\n",
    "plt.ylabel('Effective Initial Guess (x_k0)')\n",
    "plt.title('Figure 5: Effective guess as a function of iteration Counter')\n",
    "plt.legend()\n",
    "plt.show()\n"
   ]
  },
  {
   "attachments": {},
   "cell_type": "markdown",
   "metadata": {},
   "source": [
    "- Figure 5 illustrates the variation of the effective initial guesses `x_k0` with the iteration counter `k`. As the iteration counter increases, the initial guess becomes closer to the global minimum we are searching for. However, the effectiveness of the optimization process is influenced by the duration of the warm-up period. \n",
    "- The initial effective guess is further away from the global minimum for lower values of iteration counters.\n",
    "- As the iteration counter increases, the effective guess gets closer to the global minimum."
   ]
  },
  {
   "attachments": {},
   "cell_type": "markdown",
   "metadata": {},
   "source": [
    "**Question 2:** Is it a better idea to set $\\underline{K} = 100$? Is the convergence faster?"
   ]
  },
  {
   "attachments": {},
   "cell_type": "markdown",
   "metadata": {},
   "source": [
    "**Answer for question 2:**"
   ]
  },
  {
   "cell_type": "code",
   "execution_count": 26,
   "metadata": {},
   "outputs": [
    {
     "name": "stdout",
     "output_type": "stream",
     "text": [
      "Optimal solution for Warm-up 10:\n",
      "x1 = -599.7018256702152\n",
      "x2 = 599.1294843915935\n",
      "Minimum value of the Griewank function: 179.80828844423647\n",
      "Optimal solution for Warm-up 100:\n",
      "x1 = -599.7018256702152\n",
      "x2 = 599.1294843915935\n",
      "Minimum value of the Griewank function: 179.80828844423647\n"
     ]
    }
   ],
   "source": [
    "optimal_solution1 = refined_global_optimizer(bounds, tau, K_wu1, K_max)\n",
    "optimal_solution2 = refined_global_optimizer(bounds, tau, K_wu2, K_max)\n",
    "\n",
    "print(\"Optimal solution for Warm-up 10:\")\n",
    "print(f\"x1 = {optimal_solution1[0]}\")\n",
    "print(f\"x2 = {optimal_solution1[1]}\")\n",
    "print(f\"Minimum value of the Griewank function: {griewank(optimal_solution1)}\")\n",
    "\n",
    "print(\"Optimal solution for Warm-up 100:\")\n",
    "print(f\"x1 = {optimal_solution2[0]}\")\n",
    "print(f\"x2 = {optimal_solution2[1]}\")\n",
    "print(f\"Minimum value of the Griewank function: {griewank(optimal_solution2)}\")"
   ]
  },
  {
   "attachments": {},
   "cell_type": "markdown",
   "metadata": {},
   "source": [
    "- The purpose of the warm-up iterations phase (determined by the number of $\\underline{K}$) is to gradually transition from random initial guesses to effective initial guesses based on the previous best solution.\n",
    "- During the warm-up phase, the algorithm explores solutions solely based on randomness without considering the previous best solutions. This promotes exploration in a more freely-searched space.\n",
    "- After the warm-up iterations, the algorithm starts incorporating the previous best solutions (`x_star`) in the calculations of the effective initial guess, enabling the exploitation of the process.\n",
    "- The optimal number of $\\underline{K}$ is determined by balancing exploration and exploitation, depending on the complexity of the search space.\n",
    "- Figure 5 suggests that increasing the number of warm-up iterations from 10 to 100 does not significantly improve the results.\n",
    "- The optimal solution for both warm-up phases is identical, indicating no improvement in the final solution for `x1` and `x2` by increasing the number of warm-up iterations.\n",
    "- Since the global minimum of the Griewank function is known to be 0, the fact that the optimization process did not reach this global minimum suggests that the algorithm and parameter settings used were not sufficient.\n",
    "- Increasing the warm-up period results in a slower convergence.\n",
    "- Further adjustments are necessary to improve the optimization process and reach the global minimum.\n"
   ]
  }
 ],
 "metadata": {
  "kernelspec": {
   "display_name": "Python 3.9.12",
   "language": "python",
   "name": "python3"
  },
  "language_info": {
   "codemirror_mode": {
    "name": "ipython",
    "version": 3
   },
   "file_extension": ".py",
   "mimetype": "text/x-python",
   "name": "python",
   "nbconvert_exporter": "python",
   "pygments_lexer": "ipython3",
   "version": "3.9.12"
  },
  "orig_nbformat": 4,
  "vscode": {
   "interpreter": {
    "hash": "1091f1b9584b16126d959e1e6baecccd273f82381826b825c44bca03b6114737"
   }
  }
 },
 "nbformat": 4,
 "nbformat_minor": 2
}
