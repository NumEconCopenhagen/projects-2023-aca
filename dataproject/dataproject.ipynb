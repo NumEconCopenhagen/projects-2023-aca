{
 "cells": [
  {
   "cell_type": "markdown",
   "metadata": {},
   "source": [
    "# YOUR PROJECT TITLE"
   ]
  },
  {
   "attachments": {},
   "cell_type": "markdown",
   "metadata": {},
   "source": [
    "> **Note the following:** \n",
    "> 1. This is *not* meant to be an example of an actual **data analysis project**, just an example of how to structure such a project.\n",
    "> 1. Remember the general advice on structuring and commenting your code\n",
    "> 1. The `dataproject.py` file includes a function which can be used multiple times in this notebook."
   ]
  },
  {
   "cell_type": "markdown",
   "metadata": {},
   "source": [
    "Imports and set magics:"
   ]
  },
  {
   "cell_type": "code",
   "execution_count": 140,
   "metadata": {},
   "outputs": [
    {
     "name": "stdout",
     "output_type": "stream",
     "text": [
      "The autoreload extension is already loaded. To reload it, use:\n",
      "  %reload_ext autoreload\n"
     ]
    }
   ],
   "source": [
    "import pandas as pd\n",
    "import numpy as np\n",
    "import matplotlib.pyplot as plt\n",
    "import ipywidgets as widgets\n",
    "#from matplotlib_venn import venn2\n",
    "\n",
    "# autoreload modules when code is run\n",
    "%load_ext autoreload\n",
    "%autoreload 2\n",
    "\n",
    "# user written modules\n",
    "import dataproject\n"
   ]
  },
  {
   "cell_type": "markdown",
   "metadata": {},
   "source": [
    "# Code struture\n",
    "\n",
    "1) Load data sets\n",
    "2) Clean data sets\n",
    "3) Merge data sets\n",
    "4) Make plots\n",
    "\n"
   ]
  },
  {
   "cell_type": "markdown",
   "metadata": {},
   "source": [
    "1) Load datasets"
   ]
  },
  {
   "cell_type": "code",
   "execution_count": 141,
   "metadata": {},
   "outputs": [],
   "source": [
    "#Load data\n",
    "df_gg = pd.read_csv('Gender gap.csv')\n",
    "df_pl = pd.read_csv('Parental leave.csv')\n",
    "df_f = pd.read_csv('Family.csv')"
   ]
  },
  {
   "cell_type": "markdown",
   "metadata": {},
   "source": [
    "2) Clean datasets"
   ]
  },
  {
   "cell_type": "code",
   "execution_count": 142,
   "metadata": {},
   "outputs": [],
   "source": [
    "# Gender gap dataset\n",
    "# Drop collumns that we do not need\n",
    "drop_these = ['COUNTRY','SEX','Sex','Series','TIME','Unit','Unit Code','PowerCode Code','PowerCode','Reference Period Code','Reference Period','Flag Codes','Flags']\n",
    "df_gg.drop(drop_these, axis=1, inplace=True)\n",
    "\n",
    "#Rename columns\n",
    "df_gg = df_gg.rename(columns = {\"SERIES\" : \"Type\", \"Value\": \"Gender gap\", \"Time\": \"Year\"})"
   ]
  },
  {
   "cell_type": "code",
   "execution_count": 143,
   "metadata": {},
   "outputs": [],
   "source": [
    "#Keep only the gender gap at the median \n",
    "I = df_gg.Type.str.contains('GWG5')\n",
    "df_gg = df_gg.loc[I==True] \n",
    "\n",
    "# Reset old index\n",
    "df_gg.reset_index(inplace = True, drop = True) # Drop old index too\n",
    "df_gg.drop('Type', axis=1, inplace=True)\n",
    "\n",
    "# Sort\n",
    "df_gg = df_gg.sort_values(['Country','Year'])\n",
    "\n",
    "# Reset old index\n",
    "df_gg.reset_index(inplace = True, drop = True) # Drop old index too"
   ]
  },
  {
   "cell_type": "code",
   "execution_count": 144,
   "metadata": {},
   "outputs": [],
   "source": [
    "# Parental leave dataset \n",
    "drop_these = ['COU','Indicator','SEX','Sex','AGE','Age Group','TIME','Unit','Unit Code','PowerCode Code','PowerCode','Reference Period Code','Reference Period','Flag Codes','Flags']\n",
    "df_pl.drop(drop_these, axis=1, inplace=True)\n",
    "\n",
    "#Rename columns\n",
    "df_pl = df_pl.rename(columns = {\"IND\" : \"Type\", \"Value\": \"Father_leave\", \"Time\": \"Year\"})"
   ]
  },
  {
   "cell_type": "code",
   "execution_count": 145,
   "metadata": {},
   "outputs": [],
   "source": [
    "#Keep only the gender gap at the median \n",
    "I = df_pl.Type.str.contains('EMP18_PAT')\n",
    "df_pl = df_pl.loc[I==True] \n",
    "\n",
    "# Reset old index\n",
    "df_pl.reset_index(inplace = True, drop = True) # Drop old index too\n",
    "df_pl.drop('Type', axis=1, inplace=True)\n",
    "\n",
    "# Sort\n",
    "df_pl = df_pl_f.sort_values(['Country','Year'])\n",
    "\n",
    "# Reset old index\n",
    "df_pl.reset_index(inplace = True, drop = True) # Drop old index too"
   ]
  },
  {
   "cell_type": "code",
   "execution_count": 146,
   "metadata": {},
   "outputs": [],
   "source": [
    "# Child benefits dataset\n",
    "drop_these = ['COU','Indicator','SEX','Sex','YEAR','Unit','Unit Code','PowerCode Code','PowerCode','Reference Period Code','Reference Period','Flag Codes','Flags']\n",
    "df_f.drop(drop_these, axis=1, inplace=True)\n"
   ]
  },
  {
   "cell_type": "code",
   "execution_count": 147,
   "metadata": {},
   "outputs": [],
   "source": [
    "I = df_f.IND.str.contains('FAM13')\n",
    "df_f_fam13 = df_f.loc[I==True] \n",
    "df_f_fam13 = df_f_fam13.rename(columns = {\"IND\" : \"Type\", \"Value\": \"Formal_child_care\"})\n",
    "df_f_fam13.reset_index(inplace = True, drop = True) # Drop old index too"
   ]
  },
  {
   "cell_type": "code",
   "execution_count": 148,
   "metadata": {},
   "outputs": [],
   "source": [
    "#Keep FAM13\n",
    "I = df_f.IND.str.contains('FAM13')\n",
    "df_f_fam13 = df_f.loc[I==True] \n",
    "df_f_fam13 = df_f_fam13.rename(columns = {\"IND\" : \"Type\", \"Value\": \"Formal_child_care\"})\n",
    "\n",
    "# Reset old index\n",
    "df_f_fam13.reset_index(inplace = True, drop = True) # Drop old index too\n",
    "df_f_fam13.drop(\"Type\", axis=1, inplace=True)\n",
    "\n",
    "# Sort\n",
    "df_f_fam13 = df_f.sort_values(['Country','Year'])\n",
    "\n",
    "# Reset old index\n",
    "df_f_fam13.reset_index(inplace = True, drop = True) # Drop old index too"
   ]
  },
  {
   "cell_type": "code",
   "execution_count": 149,
   "metadata": {},
   "outputs": [],
   "source": [
    "#Keep FAM13\n",
    "I = df_f.IND.str.contains('FAM11B')\n",
    "df_f_famB = df_f.loc[I==True] \n",
    "df_f_famB = df_f_famB.rename(columns = {\"IND\" : \"Type\", \"Value\": \"Cash_Benefits\"})\n",
    "\n",
    "# Reset old index\n",
    "df_f_famB.reset_index(inplace = True, drop = True) # Drop old index too\n",
    "df_f_famB.drop('Type', axis=1, inplace=True)\n",
    "\n",
    "# Sort\n",
    "df_f_famB = df_f.sort_values(['Country','Year'])\n",
    "\n",
    "# Reset old index\n",
    "df_f_famB.reset_index(inplace = True, drop = True) # Drop old index too"
   ]
  },
  {
   "cell_type": "markdown",
   "metadata": {},
   "source": [
    "3) Merge datasets"
   ]
  },
  {
   "cell_type": "markdown",
   "metadata": {},
   "source": [
    "Import your data, either through an API or manually, and load it. "
   ]
  },
  {
   "cell_type": "markdown",
   "metadata": {},
   "source": [
    "## Explore each data set"
   ]
  },
  {
   "cell_type": "markdown",
   "metadata": {},
   "source": [
    "In order to be able to **explore the raw data**, you may provide **static** and **interactive plots** to show important developments "
   ]
  },
  {
   "cell_type": "markdown",
   "metadata": {},
   "source": [
    "**Interactive plot** :"
   ]
  },
  {
   "cell_type": "markdown",
   "metadata": {},
   "source": [
    "Explain what you see when moving elements of the interactive plot around. "
   ]
  },
  {
   "cell_type": "markdown",
   "metadata": {},
   "source": [
    "# Merge data sets"
   ]
  },
  {
   "cell_type": "markdown",
   "metadata": {},
   "source": [
    "Now you create combinations of your loaded data sets. Remember the illustration of a (inner) **merge**:"
   ]
  },
  {
   "cell_type": "markdown",
   "metadata": {},
   "source": [
    "Here we are dropping elements from both data set X and data set Y. A left join would keep all observations in data X intact and subset only from Y. \n",
    "\n",
    "Make sure that your resulting data sets have the correct number of rows and columns. That is, be clear about which observations are thrown away. \n",
    "\n",
    "**Note:** Don't make Venn diagrams in your own data project. It is just for exposition. "
   ]
  },
  {
   "cell_type": "markdown",
   "metadata": {},
   "source": [
    "# Analysis"
   ]
  },
  {
   "cell_type": "markdown",
   "metadata": {},
   "source": [
    "To get a quick overview of the data, we show some **summary statistics** on a meaningful aggregation. "
   ]
  },
  {
   "cell_type": "markdown",
   "metadata": {},
   "source": [
    "MAKE FURTHER ANALYSIS. EXPLAIN THE CODE BRIEFLY AND SUMMARIZE THE RESULTS."
   ]
  },
  {
   "cell_type": "markdown",
   "metadata": {},
   "source": [
    "# Conclusion"
   ]
  },
  {
   "cell_type": "markdown",
   "metadata": {},
   "source": [
    "ADD CONCISE CONLUSION."
   ]
  }
 ],
 "metadata": {
  "kernelspec": {
   "display_name": "Python 3.9.12 ('base')",
   "language": "python",
   "name": "python3"
  },
  "language_info": {
   "codemirror_mode": {
    "name": "ipython",
    "version": 3
   },
   "file_extension": ".py",
   "mimetype": "text/x-python",
   "name": "python",
   "nbconvert_exporter": "python",
   "pygments_lexer": "ipython3",
   "version": "3.9.12"
  },
  "toc-autonumbering": true,
  "vscode": {
   "interpreter": {
    "hash": "1091f1b9584b16126d959e1e6baecccd273f82381826b825c44bca03b6114737"
   }
  }
 },
 "nbformat": 4,
 "nbformat_minor": 4
}
