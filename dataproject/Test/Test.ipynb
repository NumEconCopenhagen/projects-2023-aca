{
 "cells": [
  {
   "cell_type": "markdown",
   "metadata": {},
   "source": [
    "# YOUR PROJECT TITLE"
   ]
  },
  {
   "attachments": {},
   "cell_type": "markdown",
   "metadata": {},
   "source": [
    "> **Note the following:** \n",
    "> 1. This is *not* meant to be an example of an actual **data analysis project**, just an example of how to structure such a project.\n",
    "> 1. Remember the general advice on structuring and commenting your code\n",
    "> 1. The `dataproject.py` file includes a function which can be used multiple times in this notebook."
   ]
  },
  {
   "cell_type": "markdown",
   "metadata": {},
   "source": [
    "Imports and set magics:"
   ]
  },
  {
   "cell_type": "code",
   "execution_count": 47,
   "metadata": {},
   "outputs": [
    {
     "name": "stdout",
     "output_type": "stream",
     "text": [
      "The autoreload extension is already loaded. To reload it, use:\n",
      "  %reload_ext autoreload\n"
     ]
    }
   ],
   "source": [
    "import pandas as pd\n",
    "import numpy as np\n",
    "import matplotlib.pyplot as plt\n",
    "import ipywidgets as widgets\n",
    "#from matplotlib_venn import venn2\n",
    "\n",
    "# autoreload modules when code is run\n",
    "%load_ext autoreload\n",
    "%autoreload 2\n",
    "\n",
    "from io import StringIO\n",
    "\n"
   ]
  },
  {
   "cell_type": "code",
   "execution_count": 48,
   "metadata": {},
   "outputs": [
    {
     "ename": "ModuleNotFoundError",
     "evalue": "No module named 'inflect'",
     "output_type": "error",
     "traceback": [
      "\u001b[0;31m---------------------------------------------------------------------------\u001b[0m",
      "\u001b[0;31mModuleNotFoundError\u001b[0m                       Traceback (most recent call last)",
      "\u001b[1;32m/Users/bruger/Desktop/Introduction to numerical programming/projects-2023-aca/dataproject/Test/Test.ipynb Cell 5\u001b[0m in \u001b[0;36m<cell line: 1>\u001b[0;34m()\u001b[0m\n\u001b[0;32m----> <a href='vscode-notebook-cell:/Users/bruger/Desktop/Introduction%20to%20numerical%20programming/projects-2023-aca/dataproject/Test/Test.ipynb#X55sZmlsZQ%3D%3D?line=0'>1</a>\u001b[0m \u001b[39mimport\u001b[39;00m \u001b[39minflect\u001b[39;00m\n",
      "\u001b[0;31mModuleNotFoundError\u001b[0m: No module named 'inflect'"
     ]
    }
   ],
   "source": [
    "import inflect "
   ]
  },
  {
   "cell_type": "markdown",
   "metadata": {},
   "source": [
    "# Code struture\n",
    "\n",
    "1) Load data sets\n",
    "2) Clean data sets\n",
    "3) Merge data sets\n",
    "4) Make plots\n",
    "\n"
   ]
  },
  {
   "cell_type": "markdown",
   "metadata": {},
   "source": [
    "1) Load datasets"
   ]
  },
  {
   "cell_type": "code",
   "execution_count": 41,
   "metadata": {},
   "outputs": [
    {
     "data": {
      "text/html": [
       "<div>\n",
       "<style scoped>\n",
       "    .dataframe tbody tr th:only-of-type {\n",
       "        vertical-align: middle;\n",
       "    }\n",
       "\n",
       "    .dataframe tbody tr th {\n",
       "        vertical-align: top;\n",
       "    }\n",
       "\n",
       "    .dataframe thead th {\n",
       "        text-align: right;\n",
       "    }\n",
       "</style>\n",
       "<table border=\"1\" class=\"dataframe\">\n",
       "  <thead>\n",
       "    <tr style=\"text-align: right;\">\n",
       "      <th></th>\n",
       "      <th>systemValidFrom</th>\n",
       "      <th>systemValidTo</th>\n",
       "      <th>id</th>\n",
       "      <th>name</th>\n",
       "      <th>description</th>\n",
       "      <th>supplierName</th>\n",
       "      <th>productType</th>\n",
       "      <th>private1</th>\n",
       "      <th>business</th>\n",
       "      <th>billingType</th>\n",
       "      <th>...</th>\n",
       "      <th>amountHoursFifteen</th>\n",
       "      <th>amountHoursSixteen</th>\n",
       "      <th>amountHoursSeventeen</th>\n",
       "      <th>amountHoursEightteen</th>\n",
       "      <th>amountHoursNineteen</th>\n",
       "      <th>amountHoursTwenty</th>\n",
       "      <th>amountHoursTwentyOne</th>\n",
       "      <th>amountHoursTwentyTwo</th>\n",
       "      <th>amountHoursTwentyThree</th>\n",
       "      <th>amountHoursTwentyFour</th>\n",
       "    </tr>\n",
       "  </thead>\n",
       "  <tbody>\n",
       "    <tr>\n",
       "      <th>0</th>\n",
       "      <td>2016-04-18 10:57:38</td>\n",
       "      <td>NaT</td>\n",
       "      <td>5351</td>\n",
       "      <td>FastPris 12 måneder</td>\n",
       "      <td>Det giver økonomisk tryghed i hverdagen, når d...</td>\n",
       "      <td>Energinord A/S</td>\n",
       "      <td>Fast</td>\n",
       "      <td>True</td>\n",
       "      <td>False</td>\n",
       "      <td>fix</td>\n",
       "      <td>...</td>\n",
       "      <td>21.36</td>\n",
       "      <td>21.36</td>\n",
       "      <td>21.36</td>\n",
       "      <td>21.36</td>\n",
       "      <td>21.36</td>\n",
       "      <td>21.36</td>\n",
       "      <td>21.36</td>\n",
       "      <td>21.36</td>\n",
       "      <td>21.36</td>\n",
       "      <td>21.36</td>\n",
       "    </tr>\n",
       "    <tr>\n",
       "      <th>1</th>\n",
       "      <td>2017-07-13 06:36:08</td>\n",
       "      <td>NaT</td>\n",
       "      <td>5213</td>\n",
       "      <td>BasisEnergi GlobalEnergi</td>\n",
       "      <td>BasisEnergi er en nem og fleksibel løsning, og...</td>\n",
       "      <td>SEAS-NVE Strømmen A/S</td>\n",
       "      <td>Fast</td>\n",
       "      <td>True</td>\n",
       "      <td>True</td>\n",
       "      <td>fix</td>\n",
       "      <td>...</td>\n",
       "      <td>41.16</td>\n",
       "      <td>41.16</td>\n",
       "      <td>41.16</td>\n",
       "      <td>41.16</td>\n",
       "      <td>41.16</td>\n",
       "      <td>41.16</td>\n",
       "      <td>41.16</td>\n",
       "      <td>41.16</td>\n",
       "      <td>41.16</td>\n",
       "      <td>41.16</td>\n",
       "    </tr>\n",
       "    <tr>\n",
       "      <th>2</th>\n",
       "      <td>2016-04-18 10:57:38</td>\n",
       "      <td>NaT</td>\n",
       "      <td>5351</td>\n",
       "      <td>FastPris 12 måneder</td>\n",
       "      <td>Det giver økonomisk tryghed i hverdagen, når d...</td>\n",
       "      <td>Energinord A/S</td>\n",
       "      <td>Fast</td>\n",
       "      <td>True</td>\n",
       "      <td>False</td>\n",
       "      <td>fix</td>\n",
       "      <td>...</td>\n",
       "      <td>21.36</td>\n",
       "      <td>21.36</td>\n",
       "      <td>21.36</td>\n",
       "      <td>21.36</td>\n",
       "      <td>21.36</td>\n",
       "      <td>21.36</td>\n",
       "      <td>21.36</td>\n",
       "      <td>21.36</td>\n",
       "      <td>21.36</td>\n",
       "      <td>21.36</td>\n",
       "    </tr>\n",
       "    <tr>\n",
       "      <th>3</th>\n",
       "      <td>2017-07-13 06:36:08</td>\n",
       "      <td>NaT</td>\n",
       "      <td>5213</td>\n",
       "      <td>BasisEnergi GlobalEnergi</td>\n",
       "      <td>BasisEnergi er en nem og fleksibel løsning, og...</td>\n",
       "      <td>SEAS-NVE Strømmen A/S</td>\n",
       "      <td>Fast</td>\n",
       "      <td>True</td>\n",
       "      <td>True</td>\n",
       "      <td>fix</td>\n",
       "      <td>...</td>\n",
       "      <td>41.16</td>\n",
       "      <td>41.16</td>\n",
       "      <td>41.16</td>\n",
       "      <td>41.16</td>\n",
       "      <td>41.16</td>\n",
       "      <td>41.16</td>\n",
       "      <td>41.16</td>\n",
       "      <td>41.16</td>\n",
       "      <td>41.16</td>\n",
       "      <td>41.16</td>\n",
       "    </tr>\n",
       "    <tr>\n",
       "      <th>4</th>\n",
       "      <td>2022-07-01 08:14:43</td>\n",
       "      <td>2022-08-01 08:52:28</td>\n",
       "      <td>6400</td>\n",
       "      <td>Grøn strøm til indkøbspris</td>\n",
       "      <td>Hos Gasel sælger vi grøn strøm fra danske vind...</td>\n",
       "      <td>gasel.</td>\n",
       "      <td>Variabel</td>\n",
       "      <td>True</td>\n",
       "      <td>False</td>\n",
       "      <td>flex</td>\n",
       "      <td>...</td>\n",
       "      <td>160.32</td>\n",
       "      <td>160.32</td>\n",
       "      <td>160.32</td>\n",
       "      <td>160.32</td>\n",
       "      <td>160.32</td>\n",
       "      <td>160.32</td>\n",
       "      <td>160.32</td>\n",
       "      <td>160.32</td>\n",
       "      <td>160.32</td>\n",
       "      <td>160.32</td>\n",
       "    </tr>\n",
       "  </tbody>\n",
       "</table>\n",
       "<p>5 rows × 75 columns</p>\n",
       "</div>"
      ],
      "text/plain": [
       "      systemValidFrom       systemValidTo    id                        name  \\\n",
       "0 2016-04-18 10:57:38                 NaT  5351         FastPris 12 måneder   \n",
       "1 2017-07-13 06:36:08                 NaT  5213    BasisEnergi GlobalEnergi   \n",
       "2 2016-04-18 10:57:38                 NaT  5351         FastPris 12 måneder   \n",
       "3 2017-07-13 06:36:08                 NaT  5213    BasisEnergi GlobalEnergi   \n",
       "4 2022-07-01 08:14:43 2022-08-01 08:52:28  6400  Grøn strøm til indkøbspris   \n",
       "\n",
       "                                         description           supplierName  \\\n",
       "0  Det giver økonomisk tryghed i hverdagen, når d...         Energinord A/S   \n",
       "1  BasisEnergi er en nem og fleksibel løsning, og...  SEAS-NVE Strømmen A/S   \n",
       "2  Det giver økonomisk tryghed i hverdagen, når d...         Energinord A/S   \n",
       "3  BasisEnergi er en nem og fleksibel løsning, og...  SEAS-NVE Strømmen A/S   \n",
       "4  Hos Gasel sælger vi grøn strøm fra danske vind...                 gasel.   \n",
       "\n",
       "  productType  private1  business billingType  ... amountHoursFifteen  \\\n",
       "0        Fast      True     False         fix  ...              21.36   \n",
       "1        Fast      True      True         fix  ...              41.16   \n",
       "2        Fast      True     False         fix  ...              21.36   \n",
       "3        Fast      True      True         fix  ...              41.16   \n",
       "4    Variabel      True     False        flex  ...             160.32   \n",
       "\n",
       "  amountHoursSixteen amountHoursSeventeen amountHoursEightteen  \\\n",
       "0              21.36                21.36                21.36   \n",
       "1              41.16                41.16                41.16   \n",
       "2              21.36                21.36                21.36   \n",
       "3              41.16                41.16                41.16   \n",
       "4             160.32               160.32               160.32   \n",
       "\n",
       "   amountHoursNineteen amountHoursTwenty  amountHoursTwentyOne  \\\n",
       "0                21.36             21.36                 21.36   \n",
       "1                41.16             41.16                 41.16   \n",
       "2                21.36             21.36                 21.36   \n",
       "3                41.16             41.16                 41.16   \n",
       "4               160.32            160.32                160.32   \n",
       "\n",
       "  amountHoursTwentyTwo  amountHoursTwentyThree amountHoursTwentyFour  \n",
       "0                21.36                   21.36                 21.36  \n",
       "1                41.16                   41.16                 41.16  \n",
       "2                21.36                   21.36                 21.36  \n",
       "3                41.16                   41.16                 41.16  \n",
       "4               160.32                  160.32                160.32  \n",
       "\n",
       "[5 rows x 75 columns]"
      ]
     },
     "execution_count": 41,
     "metadata": {},
     "output_type": "execute_result"
    }
   ],
   "source": [
    "df = pd.read_excel('july2022(1).xlsx') # load dataset\n",
    "df_s = df.sort_values(['supplierName','id','productType','indication']) # sort \n",
    "df_s.reset_index(inplace = True, drop = True) # Drop old index \n",
    "df_s.head() "
   ]
  },
  {
   "cell_type": "code",
   "execution_count": 44,
   "metadata": {},
   "outputs": [
    {
     "data": {
      "text/plain": [
       "['amountHours1',\n",
       " 'amountHours2',\n",
       " 'amountHours3',\n",
       " 'amountHours4',\n",
       " 'amountHours5',\n",
       " 'amountHours6',\n",
       " 'amountHours7',\n",
       " 'amountHours8',\n",
       " 'amountHours9',\n",
       " 'amountHours10',\n",
       " 'amountHours11',\n",
       " 'amountHours12',\n",
       " 'amountHours13',\n",
       " 'amountHours14',\n",
       " 'amountHours15',\n",
       " 'amountHours16',\n",
       " 'amountHours17',\n",
       " 'amountHours18',\n",
       " 'amountHours19',\n",
       " 'amountHours20',\n",
       " 'amountHours21',\n",
       " 'amountHours22',\n",
       " 'amountHours23',\n",
       " 'amountHours24']"
      ]
     },
     "execution_count": 44,
     "metadata": {},
     "output_type": "execute_result"
    }
   ],
   "source": [
    "p = inflect.engine()\n",
    "hour_columns = ['amountHours{}'.format(p.number_to_words(i)) for i in range(1, 25)]\n",
    "hour_columns"
   ]
  },
  {
   "cell_type": "code",
   "execution_count": null,
   "metadata": {},
   "outputs": [],
   "source": [
    "# drop \n",
    "keep_these = ['id', 'supplierName', 'productType','billingType','indication','fees','otherFees','subscription','amountHoursOne',]  # list the variable names you need\n",
    "df_s = df_s.loc[:, keep_these]"
   ]
  },
  {
   "cell_type": "markdown",
   "metadata": {},
   "source": [
    "2) Clean datasets"
   ]
  },
  {
   "cell_type": "code",
   "execution_count": 142,
   "metadata": {},
   "outputs": [],
   "source": [
    "# Gender gap dataset\n",
    "# Drop collumns that we do not need\n",
    "drop_these = ['COUNTRY','SEX','Sex','Series','TIME','Unit','Unit Code','PowerCode Code','PowerCode','Reference Period Code','Reference Period','Flag Codes','Flags']\n",
    "df_gg.drop(drop_these, axis=1, inplace=True)\n",
    "\n",
    "#Rename columns\n",
    "df_gg = df_gg.rename(columns = {\"SERIES\" : \"Type\", \"Value\": \"Gender gap\", \"Time\": \"Year\"})"
   ]
  },
  {
   "cell_type": "code",
   "execution_count": 143,
   "metadata": {},
   "outputs": [],
   "source": [
    "#Keep only the gender gap at the median \n",
    "I = df_gg.Type.str.contains('GWG5')\n",
    "df_gg = df_gg.loc[I==True] \n",
    "\n",
    "# Reset old index\n",
    "df_gg.reset_index(inplace = True, drop = True) # Drop old index too\n",
    "df_gg.drop('Type', axis=1, inplace=True)\n",
    "\n",
    "# Sort\n",
    "df_gg = df_gg.sort_values(['Country','Year'])\n",
    "\n",
    "# Reset old index\n",
    "df_gg.reset_index(inplace = True, drop = True) # Drop old index too"
   ]
  },
  {
   "cell_type": "code",
   "execution_count": 144,
   "metadata": {},
   "outputs": [],
   "source": [
    "# Parental leave dataset \n",
    "drop_these = ['COU','Indicator','SEX','Sex','AGE','Age Group','TIME','Unit','Unit Code','PowerCode Code','PowerCode','Reference Period Code','Reference Period','Flag Codes','Flags']\n",
    "df_pl.drop(drop_these, axis=1, inplace=True)\n",
    "\n",
    "#Rename columns\n",
    "df_pl = df_pl.rename(columns = {\"IND\" : \"Type\", \"Value\": \"Father_leave\", \"Time\": \"Year\"})"
   ]
  },
  {
   "cell_type": "code",
   "execution_count": 145,
   "metadata": {},
   "outputs": [],
   "source": [
    "#Keep only the gender gap at the median \n",
    "I = df_pl.Type.str.contains('EMP18_PAT')\n",
    "df_pl = df_pl.loc[I==True] \n",
    "\n",
    "# Reset old index\n",
    "df_pl.reset_index(inplace = True, drop = True) # Drop old index too\n",
    "df_pl.drop('Type', axis=1, inplace=True)\n",
    "\n",
    "# Sort\n",
    "df_pl = df_pl_f.sort_values(['Country','Year'])\n",
    "\n",
    "# Reset old index\n",
    "df_pl.reset_index(inplace = True, drop = True) # Drop old index too"
   ]
  },
  {
   "cell_type": "code",
   "execution_count": 146,
   "metadata": {},
   "outputs": [],
   "source": [
    "# Child benefits dataset\n",
    "drop_these = ['COU','Indicator','SEX','Sex','YEAR','Unit','Unit Code','PowerCode Code','PowerCode','Reference Period Code','Reference Period','Flag Codes','Flags']\n",
    "df_f.drop(drop_these, axis=1, inplace=True)\n"
   ]
  },
  {
   "cell_type": "code",
   "execution_count": 147,
   "metadata": {},
   "outputs": [],
   "source": [
    "I = df_f.IND.str.contains('FAM13')\n",
    "df_f_fam13 = df_f.loc[I==True] \n",
    "df_f_fam13 = df_f_fam13.rename(columns = {\"IND\" : \"Type\", \"Value\": \"Formal_child_care\"})\n",
    "df_f_fam13.reset_index(inplace = True, drop = True) # Drop old index too"
   ]
  },
  {
   "cell_type": "code",
   "execution_count": 148,
   "metadata": {},
   "outputs": [],
   "source": [
    "#Keep FAM13\n",
    "I = df_f.IND.str.contains('FAM13')\n",
    "df_f_fam13 = df_f.loc[I==True] \n",
    "df_f_fam13 = df_f_fam13.rename(columns = {\"IND\" : \"Type\", \"Value\": \"Formal_child_care\"})\n",
    "\n",
    "# Reset old index\n",
    "df_f_fam13.reset_index(inplace = True, drop = True) # Drop old index too\n",
    "df_f_fam13.drop(\"Type\", axis=1, inplace=True)\n",
    "\n",
    "# Sort\n",
    "df_f_fam13 = df_f.sort_values(['Country','Year'])\n",
    "\n",
    "# Reset old index\n",
    "df_f_fam13.reset_index(inplace = True, drop = True) # Drop old index too"
   ]
  },
  {
   "cell_type": "code",
   "execution_count": 149,
   "metadata": {},
   "outputs": [],
   "source": [
    "#Keep FAM13\n",
    "I = df_f.IND.str.contains('FAM11B')\n",
    "df_f_famB = df_f.loc[I==True] \n",
    "df_f_famB = df_f_famB.rename(columns = {\"IND\" : \"Type\", \"Value\": \"Cash_Benefits\"})\n",
    "\n",
    "# Reset old index\n",
    "df_f_famB.reset_index(inplace = True, drop = True) # Drop old index too\n",
    "df_f_famB.drop('Type', axis=1, inplace=True)\n",
    "\n",
    "# Sort\n",
    "df_f_famB = df_f.sort_values(['Country','Year'])\n",
    "\n",
    "# Reset old index\n",
    "df_f_famB.reset_index(inplace = True, drop = True) # Drop old index too"
   ]
  },
  {
   "cell_type": "markdown",
   "metadata": {},
   "source": [
    "3) Merge datasets"
   ]
  },
  {
   "cell_type": "markdown",
   "metadata": {},
   "source": [
    "Import your data, either through an API or manually, and load it. "
   ]
  },
  {
   "cell_type": "markdown",
   "metadata": {},
   "source": [
    "## Explore each data set"
   ]
  },
  {
   "cell_type": "markdown",
   "metadata": {},
   "source": [
    "In order to be able to **explore the raw data**, you may provide **static** and **interactive plots** to show important developments "
   ]
  },
  {
   "cell_type": "markdown",
   "metadata": {},
   "source": [
    "**Interactive plot** :"
   ]
  },
  {
   "cell_type": "markdown",
   "metadata": {},
   "source": [
    "Explain what you see when moving elements of the interactive plot around. "
   ]
  },
  {
   "cell_type": "markdown",
   "metadata": {},
   "source": [
    "# Merge data sets"
   ]
  },
  {
   "cell_type": "markdown",
   "metadata": {},
   "source": [
    "Now you create combinations of your loaded data sets. Remember the illustration of a (inner) **merge**:"
   ]
  },
  {
   "cell_type": "markdown",
   "metadata": {},
   "source": [
    "Here we are dropping elements from both data set X and data set Y. A left join would keep all observations in data X intact and subset only from Y. \n",
    "\n",
    "Make sure that your resulting data sets have the correct number of rows and columns. That is, be clear about which observations are thrown away. \n",
    "\n",
    "**Note:** Don't make Venn diagrams in your own data project. It is just for exposition. "
   ]
  },
  {
   "cell_type": "markdown",
   "metadata": {},
   "source": [
    "# Analysis"
   ]
  },
  {
   "cell_type": "markdown",
   "metadata": {},
   "source": [
    "To get a quick overview of the data, we show some **summary statistics** on a meaningful aggregation. "
   ]
  },
  {
   "cell_type": "markdown",
   "metadata": {},
   "source": [
    "MAKE FURTHER ANALYSIS. EXPLAIN THE CODE BRIEFLY AND SUMMARIZE THE RESULTS."
   ]
  },
  {
   "cell_type": "markdown",
   "metadata": {},
   "source": [
    "# Conclusion"
   ]
  },
  {
   "cell_type": "markdown",
   "metadata": {},
   "source": [
    "ADD CONCISE CONLUSION."
   ]
  }
 ],
 "metadata": {
  "kernelspec": {
   "display_name": "Python 3.9.12 ('base')",
   "language": "python",
   "name": "python3"
  },
  "language_info": {
   "codemirror_mode": {
    "name": "ipython",
    "version": 3
   },
   "file_extension": ".py",
   "mimetype": "text/x-python",
   "name": "python",
   "nbconvert_exporter": "python",
   "pygments_lexer": "ipython3",
   "version": "3.9.12"
  },
  "toc-autonumbering": true,
  "vscode": {
   "interpreter": {
    "hash": "1091f1b9584b16126d959e1e6baecccd273f82381826b825c44bca03b6114737"
   }
  }
 },
 "nbformat": 4,
 "nbformat_minor": 4
}
